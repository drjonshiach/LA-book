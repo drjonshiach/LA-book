{
 "cells": [
  {
   "cell_type": "markdown",
   "id": "34984341",
   "metadata": {},
   "source": [
    "(vectors-chapter)=\n",
    "# Vectors\n",
    "\n",
    "Vectors are way of expressing quantities that cannot be expressed by a single number. For example, consider the displacement of an object in 2 dimensional space from one location to another. There is a change in the position in one direction and a change in the position of another so a single value cannot carry this information. Vectors were originally used in geometry but have since become important in multivariate calculus, computer graphics, engineering and physics.\n",
    "\n",
    "## Learning outcomes\n",
    "\n",
    "On successful completion of this chapters students will be able to:\n",
    "\n",
    "- define a [vector](vectors-definition-section) in $\\mathbb{R}^n$ Euclidean space, calculate its [magnitude](magnitude-definition) and parallel [unit vector](normalising-a-vector-proposition);\n",
    "- perform the arithmetic operations of [vector addition](vector-addition-definition), [multiplication by a scalar](scalar-multiplication-of-a-vector-definition), [dot product](dot-product-definition) and [cross product](cross-product-definition);\n",
    "- express a vector as a [linear combination of vectors](linear-combination-of-vectors-definition)."
   ]
  }
 ],
 "metadata": {
  "kernelspec": {
   "display_name": "Python 3.10.7 64-bit",
   "language": "python",
   "name": "python3"
  },
  "language_info": {
   "codemirror_mode": {
    "name": "ipython",
    "version": 3
   },
   "file_extension": ".py",
   "mimetype": "text/x-python",
   "name": "python",
   "nbconvert_exporter": "python",
   "pygments_lexer": "ipython3",
   "version": "3.10.7"
  },
  "vscode": {
   "interpreter": {
    "hash": "966c2572ce838c9df552f8ed5c38cfd9c878261c104862aacf38d1f7f9c4e98b"
   }
  }
 },
 "nbformat": 4,
 "nbformat_minor": 5
}
