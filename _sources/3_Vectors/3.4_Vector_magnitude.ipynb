{
 "cells": [
  {
   "cell_type": "markdown",
   "id": "7e524ff1",
   "metadata": {},
   "source": [
    "(vector-magnitude-section)=\n",
    "# Vector magnitude\n",
    "\n",
    "The **magnitude** of a vector $\\overrightarrow{AB}$ is the distance between the two points $A$ and $B$ which we can calculate using an extension of Pythagoras' theorem.\n",
    "\n",
    "````{admonition} Definition: Vector magnitude\n",
    ":class: note\n",
    ":name: magnitude-definition\n",
    "\n",
    "The **magnitude** of a vector $\\mathbf{a} = (a_1, a_2, \\ldots, a_n)$ denoted by $|\\mathbf{a}|$ is calculated using\n",
    "\n",
    "```{math}\n",
    ":label: magnitude-equation\n",
    "|\\mathbf{a}| = \\sqrt{\\sum_{i=1}^n a_i^2} = \\sqrt{a_1^2 + a_2^2 + \\cdots + a_n^2}.\n",
    "\n",
    "```\n",
    "````\n",
    "\n",
    "Vector magnitude is also known as the [**Euclidean norm**](https://en.wikipedia.org/wiki/Norm_(mathematics)). Note that $|\\mathbf{a}|=0$ if and only if $\\mathbf{a}=(0, 0, \\ldots, 0)$.\n",
    "\n",
    "`````{admonition} Example 3.2\n",
    ":class: seealso\n",
    ":name: magnitude-example\n",
    "\n",
    "Calculate the magnitudes of the following vectors\n",
    "\n",
    "&emsp; (i) &emsp; $\\mathbf{u} = \\begin{pmatrix} 1 \\\\ 2 \\\\ 3 \\end{pmatrix}$\n",
    "&emsp; &emsp; (ii) &emsp; $\\mathbf{v} = \\begin{pmatrix} 5 \\\\ -12 \\\\ 0 \\end{pmatrix}$\n",
    "&emsp; &emsp; (iii) &emsp; $\\mathbf{w} = \\begin{pmatrix} 1 \\\\ 0 \\\\ 1 \\end{pmatrix}$\n",
    "\n",
    "````{dropdown} Solution\n",
    "(i) &emsp; $|\\mathbf{u}| = \\sqrt{1^2 + 2^2 + 3^2} = \\sqrt{1+4+9} = \\sqrt{14}$\n",
    "\n",
    "(ii) &emsp; $|\\mathbf{v}| = \\sqrt{5^2 + (-12)^2 + 0^2} = \\sqrt{25+144+0} = \\sqrt{169} = 13$\n",
    "\n",
    "(iii) &emsp; $|\\mathbf{w}| = \\sqrt{1^2 + 0^2 + 1^2} = \\sqrt{1+0+1} = \\sqrt{2}$\n",
    "````\n",
    "\n",
    "`````\n",
    "\n",
    "### Python code\n",
    "\n",
    "The SymPy command for calculating the magnitude of a vector `v` is `v.norm()`. The code below calculates the solutions to [example 3.2](magnitude-example)."
   ]
  },
  {
   "cell_type": "code",
   "execution_count": 4,
   "id": "dba36fd5",
   "metadata": {},
   "outputs": [
    {
     "name": "stdout",
     "output_type": "stream",
     "text": [
      "(i)  \n"
     ]
    },
    {
     "data": {
      "text/latex": [
       "$\\displaystyle \\sqrt{14}$"
      ],
      "text/plain": [
       "sqrt(14)"
      ]
     },
     "metadata": {},
     "output_type": "display_data"
    },
    {
     "name": "stdout",
     "output_type": "stream",
     "text": [
      "(ii)\n"
     ]
    },
    {
     "data": {
      "text/latex": [
       "$\\displaystyle 13$"
      ],
      "text/plain": [
       "13"
      ]
     },
     "metadata": {},
     "output_type": "display_data"
    },
    {
     "name": "stdout",
     "output_type": "stream",
     "text": [
      "(iii)\n"
     ]
    },
    {
     "data": {
      "text/latex": [
       "$\\displaystyle \\sqrt{2}$"
      ],
      "text/plain": [
       "sqrt(2)"
      ]
     },
     "metadata": {},
     "output_type": "display_data"
    }
   ],
   "source": [
    "import sympy as sym\n",
    "\n",
    "# (i)\n",
    "u = sym.Matrix([1, 2, 3])\n",
    "print(\"(i)  \")\n",
    "display(u.norm())\n",
    "\n",
    "# (ii)\n",
    "v = sym.Matrix([5, -12, 0])\n",
    "print(\"(ii)\")\n",
    "display(v.norm())\n",
    "\n",
    "# (iii)\n",
    "w = sym.Matrix([1, 0, 1])\n",
    "print(\"(iii)\")\n",
    "display(w.norm())"
   ]
  },
  {
   "cell_type": "markdown",
   "id": "b245481f",
   "metadata": {},
   "source": [
    "\n",
    "\n",
    "## Unit vectors\n",
    "\n",
    "For every non-zero vector $\\mathbf{a}$ there exist a unique **unit vector** which is a vector in the same direction as $\\mathbf{a}$ and whose magnitude is 1.\n",
    "\n",
    "````{admonition} Definition: Unit vectors\n",
    ":class: note\n",
    ":name: unit-vector-definition\n",
    "\n",
    "A unit vector is a vector with a magnitude of 1.\n",
    "````\n",
    "\n",
    "`````{admonition} Proposition: Normalising a vector\n",
    ":class: important\n",
    ":name: normalising-a-vector-proposition\n",
    "\n",
    "Any non-zero vector can be scaled to transform it into a unit vector by dividing all its coordinates by its magnitude\n",
    "\n",
    "```{math}\n",
    ":label: normalising-a-vector-equation\n",
    "\n",
    "\\hat{\\mathbf{a}} = \\frac{\\mathbf{a}}{|\\mathbf{a}|}.\n",
    "```\n",
    "\n",
    "This process is called **normalising a vector**. Unit vectors are denoted with a caret above the vector name, i.e., $\\hat{\\mathbf{a}}$ which is read as *'$\\mathbf{a}$ hat'*.\n",
    "\n",
    "`````\n",
    "\n",
    "**Proof**\n",
    "\n",
    "*Let $\\mathbf{a}$ be a non-zero vector*\n",
    "\n",
    "\\begin{align*}\n",
    "    \\left|\\frac{1}{|\\mathbf{a}|}\\mathbf{a}\\right| &= \\left|\\frac{1}{|\\mathbf{a}|}\\right| |\\mathbf{a}| \\\\\n",
    "    &= \\frac{1}{|\\mathbf{a}|} |\\mathbf{a}| \\qquad \\text{(since $|\\mathbf{a}|>0$)}\\\\\n",
    "    &= 1.\n",
    "\\end{align*}\n",
    "\n",
    "<div style=\"text-align: right\"> &#9633; </div>\n",
    "\n",
    "`````{admonition} Example 3.3\n",
    ":class: seealso\n",
    ":name: normalising-a-vector-example\n",
    "\n",
    "Find the unit vector parallel to the following:\n",
    "\n",
    "&emsp; (i) &emsp; $\\mathbf{u} = \\begin{pmatrix} 1 \\\\ 2 \\\\ 3 \\end{pmatrix}$ &emsp; &emsp; \n",
    "(ii) &emsp; $\\mathbf{v} = \\begin{pmatrix} 5 \\\\ -12 \\\\ 0 \\end{pmatrix}$ &emsp; &emsp;\n",
    "(iii) &emsp; $\\mathbf{w} = \\begin{pmatrix} 1 \\\\ 0 \\\\ 1 \\end{pmatrix}$\n",
    "\n",
    "````{dropdown} Solution\n",
    "(i) &emsp; $\\hat{\\mathbf{u}} = \\dfrac{\\mathbf{u}}{|\\mathbf{u}|} = \\dfrac{1}{\\sqrt{14}} \\begin{pmatrix} 1 \\\\ 2 \\\\ 3 \\end{pmatrix} = \\begin{pmatrix} \\frac{\\sqrt{14}}{14} \\\\ \\frac{\\sqrt{14}}{7} \\\\ \\frac{3\\sqrt{14}}{14} \\end{pmatrix}$\n",
    "\n",
    "Check magnitude of $\\hat{\\mathbf{u}}$\n",
    "\n",
    "\\begin{align*}\n",
    "    |\\hat{\\mathbf{u}}| &= \\sqrt{ \\left( \\frac{\\sqrt{14}}{14} \\right)^2 + \\left( \\frac{\\sqrt{14}}{7} \\right)^2 + \\left(\\frac{3\\sqrt{14}}{14} \\right)^2} \\\\\n",
    "    &= \\sqrt{ \\frac{14}{196} +\\frac{14}{49} + \\frac{126}{196}} = \\sqrt{1} = 1 \\qquad \\checkmark\n",
    "\\end{align*}\n",
    "\n",
    "(ii) &emsp; $\\hat{\\mathbf{v}} = \\dfrac{\\mathbf{v}}{|\\mathbf{v}|} = \\dfrac{1}{13} \\begin{pmatrix} 5 \\\\ -12 \\\\ 0 \\end{pmatrix} = \\begin{pmatrix} \\frac{5}{13} \\\\ -\\frac{12}{13} \\\\ 0 \\end{pmatrix}$\n",
    "\n",
    "Check magnitude of $\\hat{\\mathbf{v}}$\n",
    "\n",
    "\\begin{align*}\n",
    "    |\\hat{\\mathbf{v}}| &= \\sqrt{ \\left(\\frac{5}{13} \\right)^2 + \\left( -\\frac{12}{13} \\right)^2 + 0^2} \\\\\n",
    "    &= \\sqrt{ \\frac{25}{169} + \\frac{144}{169} + 0} = \\sqrt{1} = 1 \\qquad \\checkmark\n",
    "\\end{align*}\n",
    "\n",
    "(iii) &emsp; $\\hat{\\mathbf{w}} = \\dfrac{\\mathbf{w}}{|\\mathbf{w}|} = \\dfrac{1}{\\sqrt{2}} \\begin{pmatrix} 1 \\\\ 0 \\\\ 1 \\end{pmatrix} = \\begin{pmatrix} \\frac{\\sqrt{2}}{2} \\\\ 0 \\\\ \\frac{\\sqrt{2}}{2} \\end{pmatrix}$\n",
    "\n",
    "Check magnitude of $\\hat{\\mathbf{w}}$\n",
    "\n",
    "\\begin{align*}\n",
    "    |\\hat{\\mathbf{w}}| &= \\sqrt{ \\left( \\frac{\\sqrt{2}}{2} \\right)^2 + 0^2 + \\left( \\frac{\\sqrt{2}}{2} \\right)^2 } \\\\\n",
    "    &= \\sqrt{ \\frac{2}{4} + 0 + \\frac{2}{4} } = \\sqrt{1} = 1 \\qquad \\checkmark\n",
    "\\end{align*}\n",
    "\n",
    "````\n",
    "`````\n",
    "\n",
    "### Python code\n",
    "\n",
    "The code below calculates the solutions to [example 3.3](normalising-a-vector-example)."
   ]
  },
  {
   "cell_type": "code",
   "execution_count": 14,
   "id": "b365b532",
   "metadata": {},
   "outputs": [
    {
     "name": "stdout",
     "output_type": "stream",
     "text": [
      "(i) uhat\n"
     ]
    },
    {
     "data": {
      "text/latex": [
       "$\\displaystyle \\left[\\begin{matrix}\\frac{\\sqrt{14}}{14}\\\\\\frac{\\sqrt{14}}{7}\\\\\\frac{3 \\sqrt{14}}{14}\\end{matrix}\\right]$"
      ],
      "text/plain": [
       "Matrix([\n",
       "[  sqrt(14)/14],\n",
       "[   sqrt(14)/7],\n",
       "[3*sqrt(14)/14]])"
      ]
     },
     "metadata": {},
     "output_type": "display_data"
    },
    {
     "name": "stdout",
     "output_type": "stream",
     "text": [
      "magnitude of uhat\n"
     ]
    },
    {
     "data": {
      "text/latex": [
       "$\\displaystyle 1$"
      ],
      "text/plain": [
       "1"
      ]
     },
     "metadata": {},
     "output_type": "display_data"
    },
    {
     "name": "stdout",
     "output_type": "stream",
     "text": [
      "(ii) vhat\n"
     ]
    },
    {
     "data": {
      "text/latex": [
       "$\\displaystyle \\left[\\begin{matrix}\\frac{5}{13}\\\\- \\frac{12}{13}\\\\0\\end{matrix}\\right]$"
      ],
      "text/plain": [
       "Matrix([\n",
       "[  5/13],\n",
       "[-12/13],\n",
       "[     0]])"
      ]
     },
     "metadata": {},
     "output_type": "display_data"
    },
    {
     "name": "stdout",
     "output_type": "stream",
     "text": [
      "magniutde of vhat\n"
     ]
    },
    {
     "data": {
      "text/latex": [
       "$\\displaystyle 1$"
      ],
      "text/plain": [
       "1"
      ]
     },
     "metadata": {},
     "output_type": "display_data"
    },
    {
     "name": "stdout",
     "output_type": "stream",
     "text": [
      "(iii) what\n"
     ]
    },
    {
     "data": {
      "text/latex": [
       "$\\displaystyle \\left[\\begin{matrix}\\frac{\\sqrt{2}}{2}\\\\0\\\\\\frac{\\sqrt{2}}{2}\\end{matrix}\\right]$"
      ],
      "text/plain": [
       "Matrix([\n",
       "[sqrt(2)/2],\n",
       "[        0],\n",
       "[sqrt(2)/2]])"
      ]
     },
     "metadata": {},
     "output_type": "display_data"
    },
    {
     "name": "stdout",
     "output_type": "stream",
     "text": [
      "magnitude of what\n"
     ]
    },
    {
     "data": {
      "text/latex": [
       "$\\displaystyle 1$"
      ],
      "text/plain": [
       "1"
      ]
     },
     "metadata": {},
     "output_type": "display_data"
    }
   ],
   "source": [
    "# (i)\n",
    "uhat = u / u.norm()\n",
    "\n",
    "print(\"(i) uhat\")\n",
    "display(uhat)\n",
    "\n",
    "# (ii)\n",
    "vhat = v / v.norm()\n",
    "\n",
    "print(\"(ii) vhat\")\n",
    "display(vhat)\n",
    "\n",
    "# (iii)\n",
    "what = w / w.norm()\n",
    "\n",
    "print(\"(iii) what\")\n",
    "display(what)"
   ]
  }
 ],
 "metadata": {
  "kernelspec": {
   "display_name": "Python 3.8.8 ('base')",
   "language": "python",
   "name": "python3"
  },
  "language_info": {
   "codemirror_mode": {
    "name": "ipython",
    "version": 3
   },
   "file_extension": ".py",
   "mimetype": "text/x-python",
   "name": "python",
   "nbconvert_exporter": "python",
   "pygments_lexer": "ipython3",
   "version": "3.8.8"
  },
  "vscode": {
   "interpreter": {
    "hash": "92823f6e86cf602d85e9e47873acf388a28ddc35c0168a129f411c228a38f021"
   }
  }
 },
 "nbformat": 4,
 "nbformat_minor": 5
}
