{
 "cells": [
  {
   "cell_type": "markdown",
   "id": "34984341",
   "metadata": {},
   "source": [
    "(vectors-section)=\n",
    "## Definition\n",
    "\n",
    "In Euclidean space, a **vector** represents a **displacement** from a point $A$ to a point $B$ ({numref}`vector-figure`). The vector $\\overrightarrow{AB}$ is an object that has a **magnitude** (length) and a **direction**. The magnitude of the vector is the distance between the two points and the direction refers to the direction of displacement from $A$ to $B$, with respect to the given Euclidean space. Note that the actual points $A$ and $B$ are not important for the definition of the vector, only the way of getting from $A$ to $B$ is. Pictorially, vectors are represented by arrows. The start of the vector is called the **tail** and the end of the vector is called the **head**.\n",
    "\n",
    "```{figure} ../Images/vector.png\n",
    ":name: vector-figure\n",
    "\n",
    "The vector $\\overrightarrow{AB}$ points from its tail at $A$ to its head at $B$.\n",
    "```\n",
    "\n",
    "Vectors in mathematical notation are usually denoted by a single lowercase character. To distinguish vectors from other mathematical objects such as scalars and variables, the character representing a vector is written in boldface when typeset or underlined when written by hand.  Some authors also represent a vector using a small right arrow over the vector name. For example, the following are all valid representations of vectors:\n",
    "\n",
    "\\begin{align*}\n",
    "    \\mathbf{a}, \\qquad \\underline{a}, \\qquad \\vec{a}.\n",
    "\\end{align*}\n",
    "\n",
    "A vector in $\\mathbb{R}^n$ can be represented by an $n$-tuple or a single column matrix\n",
    "\n",
    "\\begin{align*}\n",
    "    \\mathbf{a} = (a_1, a_2, \\ldots, a_n) = \\begin{pmatrix} a_1 \\\\ a_2 \\\\ \\vdots \\\\ a_n\\end{pmatrix},\n",
    "\\end{align*}\n",
    "\n",
    "where each coordinate represents the signed difference between the tail and head of the vector in the Cartesian coordinate system. Note we use the same $n$-tuple notation to denote both points and vectors in $\\mathbb{R}^n$, however, it should always be clear from the context which we are referring to.\n",
    "\n",
    "`````{admonition} Example 3.1\n",
    ":class: seealso\n",
    ":name: vector-example\n",
    "\n",
    "Let $U=(3,-1)$ and $V=(5,0)$ be points in $\\mathbb{R}^2$. Determine the vector $\\overrightarrow{UV}$.\n",
    "\n",
    "````{dropdown} Solution\n",
    "The vector $\\overrightarrow{UV}$ is\n",
    "\\begin{align*}\n",
    "    \\overrightarrow{UV} = V - U = \n",
    "    \\begin{pmatrix}\n",
    "        5 \\\\ 0\n",
    "    \\end{pmatrix} -\n",
    "    \\begin{pmatrix}\n",
    "        3 \\\\ -1\n",
    "    \\end{pmatrix} =\n",
    "    \\begin{pmatrix}\n",
    "        2 \\\\ 1\n",
    "    \\end{pmatrix}.\n",
    "\\end{align*}\n",
    "````\n",
    "`````\n",
    "\n",
    "Consider the vector $\\mathbf{a}$ in $\\mathbb{R}^2$ as given in the {numref}`R3-vector-figure`. Here the displacement along the $x$, $y$ and $z$ axes are $a_1$, $a_2$ and $a_3$ respectively, therefore $\\mathbf{a} = (a_1, a_2, a_3)$.\n",
    "\n",
    "```{figure} ../Images/R3_vector.png\n",
    ":name: R3-vector-figure\n",
    ":width: 400\n",
    "\n",
    "The vector $\\mathbf{a} = (a_1, a_2, a_3)$ in $\\mathbb{R}^3$.\n",
    "```\n",
    "\n",
    "We use $\\mathbf{0}$ to denote the **zero vector** $(0, 0, \\ldots, 0)$. This can be thought of as the vector $\\overrightarrow{AA}$, for any point $A$. In this chapter we introduce vectors in Euclidean space, therefore the coefficients $a_i$ are necessarily real numbers. In [vector spaces](vector-spaces-chapter) we generalise the notion of a vector and allow its coefficients to be any elements coming from a field.\n",
    "\n",
    "(position-vector-section)=\n",
    "## Position vectors\n",
    "\n",
    "A **position vector** $\\mathbf{p}$ is a vector with tail located at the origin $O$ and head located at a point $P$. So $\\mathbf{p} = \\overrightarrow{OP}.$\n",
    "\n",
    "```{figure} ../Images/position_vector.png\n",
    ":name: position-vector-figure\n",
    "\n",
    "The position vector $\\mathbf{p}$ points from the origin $O$ to the point $P$.\n",
    "```\n",
    "\n",
    "Since $O = (0, 0, \\ldots, 0)$, the tuple representing the position vector $\\mathbf{p}$ is the same as that representing the co-ordinates of $P$.\n",
    "\n",
    "## Python code\n",
    "\n",
    "The SymPy command `Matrix()` can be used to define a vector. If we enter the vector as a row matrix SymPy will treat the vector as a column vector. The following code defines the vector $\\mathbf{a} = (1, 2, 3)$."
   ]
  },
  {
   "cell_type": "code",
   "execution_count": 1,
   "id": "36e7d610",
   "metadata": {},
   "outputs": [
    {
     "data": {
      "text/latex": [
       "$\\displaystyle \\left[\\begin{matrix}1\\\\2\\\\3\\end{matrix}\\right]$"
      ],
      "text/plain": [
       "Matrix([\n",
       "[1],\n",
       "[2],\n",
       "[3]])"
      ]
     },
     "metadata": {},
     "output_type": "display_data"
    }
   ],
   "source": [
    "import sympy as sym\n",
    "\n",
    "a = sym.Matrix([1, 2, 3])\n",
    "display(a)"
   ]
  }
 ],
 "metadata": {
  "kernelspec": {
   "display_name": "Python 3.8.8 ('base')",
   "language": "python",
   "name": "python3"
  },
  "language_info": {
   "codemirror_mode": {
    "name": "ipython",
    "version": 3
   },
   "file_extension": ".py",
   "mimetype": "text/x-python",
   "name": "python",
   "nbconvert_exporter": "python",
   "pygments_lexer": "ipython3",
   "version": "3.8.8"
  },
  "vscode": {
   "interpreter": {
    "hash": "92823f6e86cf602d85e9e47873acf388a28ddc35c0168a129f411c228a38f021"
   }
  }
 },
 "nbformat": 4,
 "nbformat_minor": 5
}
