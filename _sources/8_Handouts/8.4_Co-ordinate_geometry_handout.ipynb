{
 "cells": [
  {
   "cell_type": "markdown",
   "id": "66d52def",
   "metadata": {},
   "source": [
    "# Co-ordinate Geometry Exercises\n",
    "\n",
    "``````{div} full-width\n",
    "\n",
    "````{admonition} Exercise 4.1\n",
    "The points $A, B, C, D$ in $\\mathbb{R}^3$ have the following position vectors\n",
    "\n",
    "\\begin{align*}\n",
    "    \\mathbf{a} &= \\begin{pmatrix} 2 \\\\ 1 \\\\ 0 \\end{pmatrix}, &\n",
    "    \\mathbf{b} &= \\begin{pmatrix} 1 \\\\ 1 \\\\ 0 \\end{pmatrix}, &\n",
    "    \\mathbf{c} &= \\begin{pmatrix} 3 \\\\ -1 \\\\ 4 \\end{pmatrix}, &\n",
    "    \\mathbf{d} &= \\begin{pmatrix} 5 \\\\ 2 \\\\ 6 \\end{pmatrix}.\n",
    "\\end{align*}\n",
    "\n",
    "Find:\n",
    "\n",
    "&emsp; (a) &emsp; the equation of the line that passes through $A$ and $B$;\n",
    "\n",
    "&emsp; (b) &emsp; the equation of the line that passes through $C$ and $D$;\n",
    "\n",
    "&emsp; (c) &emsp; the equation of the plane which $A$, $B$ and $C$ lie on;\n",
    "\n",
    "&emsp; (d) &emsp; the equation of the plane which $B$, $C$ and $D$ lie on.\n",
    "\n",
    "````\n",
    "\n",
    "````{admonition} Exercise 4.2\n",
    "Find the equation of the line that passes through the point $(3, 2, 1)$ which is parallel to $2 \\mathbf{i} + \\mathbf{j} + 3 \\mathbf{k}$.\n",
    "\n",
    "````\n",
    "\n",
    "````{admonition} Exercise 4.3\n",
    "Find the equation of the plane that passes through the point $(3, 2, 5)$ which has a normal vector $\\mathbf{n} = (2, 1, 3)$.\n",
    "````\n",
    "\n",
    "````{admonition} Exercise 4.4\n",
    "Two lines in $\\mathbb{R}^3$ are defined by $\\ell_1: (1 + 2t, -t, 1 + 3t)$ and $\\ell_2: (1 + 2t, 4, 7 - t)$ respectively.\n",
    "\n",
    "&emsp; (a) &emsp; find the intersection of the lines or show they are skew;\n",
    "\n",
    "&emsp; (b) &emsp; find the shortest distance between the lines;\n",
    "\n",
    "&emsp; (c) &emsp; find the distance between the point $P = (0, -1, 3)$ and $\\ell_1$.\n",
    "````\n",
    "\n",
    "````{admonition} Exercise 4.5\n",
    "A plane has the equation $3x - 2y + z = 10$. Identify the normal to the plane and find the co-ordinates of 2 points on the plane having $z = 2$.\n",
    "````\n",
    "\n",
    "````{admonition} Exercise 4.6\n",
    "Find the point where the line $\\ell:(1 + 2t, 2 + t, -1 + 4t)$ meets the plane $6x - y - 4z = 3$. \n",
    "````\n",
    "\n",
    "````{admonition} Exercise 4.7\n",
    ":class: note\n",
    ":name: ex4.7\n",
    "Consider the diagram below that shows a plane that passes through the point $\\mathbf{p}$ and has normal vector $\\mathbf{n}$ and the point with position $\\mathbf{q}$ not on the plane. \n",
    "\n",
    "```{figure} ../Images/point_plane_distance.png\n",
    "```\n",
    "\n",
    "Using the [geometric definition of a dot product](dot-product-definition) derive an expression for calculating the shortest distance between a point and a plane. Use your expression to find the shortest distance from the point $(2, 4, -3)$ to the plane $6x - y - 4z = 3$.\n",
    "````\n",
    "\n",
    "``````"
   ]
  }
 ],
 "metadata": {
  "kernelspec": {
   "display_name": "Python 3.9.7 ('base')",
   "language": "python",
   "name": "python3"
  },
  "language_info": {
   "codemirror_mode": {
    "name": "ipython",
    "version": 3
   },
   "file_extension": ".py",
   "mimetype": "text/x-python",
   "name": "python",
   "nbconvert_exporter": "python",
   "pygments_lexer": "ipython3",
   "version": "3.9.7"
  },
  "vscode": {
   "interpreter": {
    "hash": "3a8893f41ea6eea20a2f9e20d8f8fd0ea69174c942b987ace920455cbb0cf5de"
   }
  }
 },
 "nbformat": 4,
 "nbformat_minor": 5
}
