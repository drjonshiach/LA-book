{
 "cells": [
  {
   "cell_type": "markdown",
   "id": "efbd17da",
   "metadata": {},
   "source": [
    "(homogeneous-systems-section)=\n",
    "# Homogeneous systems\n",
    "\n",
    "````{admonition} Definition: Homogeneous systems\n",
    ":class: note\n",
    ":name: homogeneous-system-definition\n",
    "\n",
    "A **homogeneous** system of linear equations is of the form $A\\mathbf{x} = \\mathbf{0}$, i.e.,\n",
    "\n",
    "\\begin{align*}\n",
    "    \\begin{pmatrix}\n",
    "        a_{11} & a_{12} & \\cdots & a_{1n} \\\\\n",
    "        a_{21} & a_{22} & \\cdots & a_{2n} \\\\\n",
    "        \\vdots & \\vdots & \\ddots & \\vdots \\\\\n",
    "        a_{m1} & a_{m2} & \\cdots & a_{mn}\n",
    "    \\end{pmatrix}\n",
    "    \\begin{pmatrix} x_1 \\\\ x_2 \\\\ \\vdots \\\\ x_n \\end{pmatrix} = \n",
    "    \\begin{pmatrix} 0 \\\\ 0 \\\\ \\vdots \\\\ 0 \\end{pmatrix}.\n",
    "\\end{align*}\n",
    "````\n",
    "\n",
    "A homogeneous system always as the **trivial** solution $\\mathbf{x} = \\mathbf{0}$ so a homogeneous system is always consistent. If $\\mathbf{x} = \\mathbf{0}$ is not the only solution then the system is indeterminate and there will be infinitely many non-trivial solutions. \n",
    "\n",
    "When a homogeneous system is solved by Gaussian elimination, the column of zeros on the right of the partition in the augmented matrix remains unchanged at each stage, since none of the three types of elementary row operations can introduce a non-zero entry in this column. Hence we can save time by omitting this column, instead we simply apply elementary row operations to the coefficient matrix until the row echelon form or reduced row echelon form is obtained, but then remember to restore the zeros to the right-hand sides of the simplified equations at the end.\n",
    "\n",
    "`````{admonition} Example 2.9\n",
    ":class: seealso\n",
    ":name: homogeneous-systems-example\n",
    "\n",
    "Solve the following homogeneous system of linear equations using Gauss-Jordan elimination\n",
    "\n",
    "\\begin{align*}\n",
    "    x_1 + 2x_3 - x_5 &= 0, \\\\\n",
    "    2x_1 + 4x_3 - 2x_4 + 4x_5 &= 0, \\\\\n",
    "    x_2 + x_3 +2x_4 &= 0.\n",
    "\\end{align*}\n",
    "\n",
    "````{dropdown} Solution\n",
    "\n",
    "Applying elementary row operations to the coefficient matrix\n",
    "\n",
    "\\begin{align*}\n",
    "    & \\begin{pmatrix}\n",
    "        1 & 0 & 2 & 0 & -1 \\\\\n",
    "        2 & 0 & 4 & -2 & 4 \\\\\n",
    "        0 & 1 & 1 & 2 & 0\n",
    "    \\end{pmatrix}\n",
    "    \\begin{array}{l} \\\\ R_2 - 2R_1 \\\\ \\phantom{x} \\end{array} \\\\[1em]\n",
    "    \\longrightarrow \\quad &\n",
    "    \\begin{pmatrix}\n",
    "        1 & 0 & 2 & 0 & -1 \\\\\n",
    "        0 & 0 & 0 & -2 & 6 \\\\\n",
    "        0 & 1 & 1 & 2 & 0\n",
    "    \\end{pmatrix}\n",
    "    \\begin{array}{l} \\\\ R_2 \\leftrightarrow R_3 \\\\ \\phantom{x} \\end{array} \\\\[1em]\n",
    "    \\longrightarrow \\quad &\n",
    "    \\begin{pmatrix}\n",
    "        1 & 0 & 2 & 0 & -1 \\\\\n",
    "        0 & 1 & 1 & 2 & 0 \\\\\n",
    "        0 & 0 & 0 & -2 & 6 \n",
    "    \\end{pmatrix}\n",
    "    \\begin{array}{l} \\\\ \\\\ -\\frac{1}{2} R_3 \\end{array} \\\\[1em]\n",
    "    \\longrightarrow \\quad &\n",
    "    \\begin{pmatrix}\n",
    "        1 & 0 & 2 & 0 & -1 \\\\\n",
    "        0 & 1 & 1 & 2 & 0 \\\\\n",
    "        0 & 0 & 0 & 1 & -3 \n",
    "    \\end{pmatrix}\n",
    "    \\begin{array}{l} \\\\ R_2 - 2R_3 \\\\ \\phantom{x} \\end{array} \\\\[1em]\n",
    "    \\longrightarrow \\quad &\n",
    "    \\begin{pmatrix}\n",
    "        1 & 0 & 2 & 0 & -1 \\\\\n",
    "        0 & 1 & 1 & 0 & 6 \\\\\n",
    "        0 & 0 & 0 & 1 & -3 \n",
    "    \\end{pmatrix}\n",
    "\\end{align*}\n",
    "\n",
    "The coefficient matrix is now in reduced row echelon form so we can form the augmented matrix\n",
    "\n",
    "\\begin{align*}\n",
    "    \\left( \\begin{array}{ccccc|c}\n",
    "        1 & 0 & 2 & 0 & -1 & 0 \\\\\n",
    "        0 & 1 & 1 & 0 & 6 & 0 \\\\\n",
    "        0 & 0 & 0 & 1 & -3 & 0\n",
    "    \\end{array} \\right)\n",
    "\\end{align*}\n",
    "\n",
    "Here we have 5 variables and, since columns 3 and 5 do not have pivots, 2 free parameters which are $x_3$ and $x_5$. Let $r = x_3 $ and $s = x_5$ then solving for $x_1$, $x_2$ and $x_4$ by back substitution we have\n",
    "\n",
    "\\begin{align*}\n",
    "    x_4 &= 3s, \\\\\n",
    "    x_2 &= -6s - r, \\\\\n",
    "    x_1 &= s - 2r.\n",
    "\\end{align*}\n",
    "````\n",
    "`````"
   ]
  },
  {
   "cell_type": "code",
   "execution_count": 16,
   "id": "f33051e1",
   "metadata": {
    "tags": [
     "remove-cell"
    ]
   },
   "outputs": [
    {
     "data": {
      "text/latex": [
       "$\\displaystyle \\left[\\begin{matrix}1 & 0 & 2 & 0 & -1\\\\2 & 0 & 4 & -2 & 4\\\\0 & 1 & 1 & 2 & 0\\end{matrix}\\right]$"
      ],
      "text/plain": [
       "Matrix([\n",
       "[1, 0, 2,  0, -1],\n",
       "[2, 0, 4, -2,  4],\n",
       "[0, 1, 1,  2,  0]])"
      ]
     },
     "metadata": {},
     "output_type": "display_data"
    },
    {
     "data": {
      "text/latex": [
       "$\\displaystyle \\left[\\begin{matrix}2 & 0 & 4 & -2 & 4\\\\1 & 0 & 2 & 0 & -1\\\\0 & 1 & 1 & 2 & 0\\end{matrix}\\right]$"
      ],
      "text/plain": [
       "Matrix([\n",
       "[2, 0, 4, -2,  4],\n",
       "[1, 0, 2,  0, -1],\n",
       "[0, 1, 1,  2,  0]])"
      ]
     },
     "metadata": {},
     "output_type": "display_data"
    },
    {
     "data": {
      "text/latex": [
       "$\\displaystyle \\left[\\begin{matrix}1 & 0 & 2 & -1 & 2\\\\0 & 1 & 1 & 2 & 0\\\\0 & 0 & 0 & 1 & -3\\end{matrix}\\right]$"
      ],
      "text/plain": [
       "Matrix([\n",
       "[1, 0, 2, -1,  2],\n",
       "[0, 1, 1,  2,  0],\n",
       "[0, 0, 0,  1, -3]])"
      ]
     },
     "metadata": {},
     "output_type": "display_data"
    },
    {
     "data": {
      "text/latex": [
       "$\\displaystyle \\left[\\begin{matrix}1 & 0 & 2 & -1 & 2\\\\0 & 1 & 1 & 2 & 0\\\\0 & 0 & 0 & 1 & -3\\end{matrix}\\right]$"
      ],
      "text/plain": [
       "Matrix([\n",
       "[1, 0, 2, -1,  2],\n",
       "[0, 1, 1,  2,  0],\n",
       "[0, 0, 0,  1, -3]])"
      ]
     },
     "metadata": {},
     "output_type": "display_data"
    },
    {
     "data": {
      "text/latex": [
       "$\\displaystyle \\left[\\begin{matrix}1 & 0 & 2 & 0 & -1\\\\0 & 1 & 1 & 0 & 6\\\\0 & 0 & 0 & 1 & -3\\end{matrix}\\right]$"
      ],
      "text/plain": [
       "Matrix([\n",
       "[1, 0, 2, 0, -1],\n",
       "[0, 1, 1, 0,  6],\n",
       "[0, 0, 0, 1, -3]])"
      ]
     },
     "metadata": {},
     "output_type": "display_data"
    }
   ],
   "source": [
    "def rref(A):    \n",
    "    \n",
    "    # Loop through rows of A\n",
    "    nrows, ncols = A.shape\n",
    "    col = 0\n",
    "    for row in range(nrows):\n",
    "        \n",
    "        # Swap current row if pivot element is zero\n",
    "        pivotrow = row\n",
    "        while A[pivotrow,col] == 0:\n",
    "            pivotrow += 1\n",
    "            if pivotrow == nrows:\n",
    "                pivotrow, col = row, col + 1\n",
    "                if col == ncols:\n",
    "                    break\n",
    "        \n",
    "        A[row,:], A[pivotrow,:] = A[pivotrow,:], A[row,:]\n",
    "        \n",
    "        # Perform partial pivoting (swap pivot row if there is a larger value in the pivot column)\n",
    "        for i in range(row + 1, nrows):\n",
    "            if abs(A[i,col]) > abs(A[row,col]):\n",
    "                A[row,:], A[i,:] = A[i,:], A[row,:]\n",
    "        \n",
    "        # Row reduce non-pivot rows\n",
    "        display(A)\n",
    "        for i in range(nrows):\n",
    "            if i != row and A[row,col] != 0:\n",
    "                A[i,:] -= A[i,col] / A[row,col] * A[row,:]\n",
    "                \n",
    "        # Divide pivot row by pivot\n",
    "        A[row,:] /= A[row,col]\n",
    "        \n",
    "        # Move to next column\n",
    "        col += 1\n",
    "                       \n",
    "    return A\n",
    "\n",
    "\n",
    "import sympy as sym\n",
    "\n",
    "A = sym.Matrix([[1, 0, 2, 0, -1], \n",
    "                [2, 0, 4, -2, 4], \n",
    "                [0, 1, 1, 2, 0]])\n",
    "display(A)\n",
    "display(rref(A))\n"
   ]
  }
 ],
 "metadata": {
  "celltoolbar": "Tags",
  "kernelspec": {
   "display_name": "Python 3 (ipykernel)",
   "language": "python",
   "name": "python3"
  },
  "language_info": {
   "codemirror_mode": {
    "name": "ipython",
    "version": 3
   },
   "file_extension": ".py",
   "mimetype": "text/x-python",
   "name": "python",
   "nbconvert_exporter": "python",
   "pygments_lexer": "ipython3",
   "version": "3.9.12"
  }
 },
 "nbformat": 4,
 "nbformat_minor": 5
}
