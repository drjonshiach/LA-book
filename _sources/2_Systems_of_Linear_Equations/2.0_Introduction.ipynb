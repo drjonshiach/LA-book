{
 "cells": [
  {
   "cell_type": "markdown",
   "id": "5dfef2ae",
   "metadata": {},
   "source": [
    "(systems-of-linear-equations-chapter)=\n",
    "# Systems of Linear Equations\n",
    "\n",
    "Systems of linear equations, and the methods used to solve them, is a fundamental part of linear algebra. They are used to describe relationships between sets of variables and have applications in co-ordinate geometry, numerical methods, the solution to differential equations and mathematical modelling to name a few. There are many techniques we can use to compute the solutions to systems of linear equations and we will be covering the most common of these.\n",
    "\n",
    "## Learning outcomes\n",
    "\n",
    "On successful completion of this chapter students will be able to:\n",
    "\n",
    "- [define a system of linear equations](system-of-linear-equation-definition) and write them as a matrix equation;\n",
    "- calculate the solution to a system of linear equations using the [inverse matrix](solution-using-inverse-matrix-theorem) and [Cramer's rule](cramers-rule-theorem);\n",
    "- use [Gaussian elimination](ge-definition) to row reduce a matrix to [row echelon form](ref-definition) and calculate the solution to a system of linear equations using back substitution;\n",
    "- use [partial pivoting](ge-pp-definition) to reduce the risk of rounding errors whilst performing Gaussian elimination;\n",
    "- use [Gauss-Jordan elimination](gje-definition) to row reduce a matrix to [reduced row echelon form](rref-definition) and use it to solver a system of linear equations\n",
    "- use Gauss-Jordan elimination to calculate the [inverse of a matrix](gj-matrix-inverse-section);\n",
    "- identity when a system of linear equations is [consistent](consistent-system-theorem), [inconsistent](inconsistent-system-theorem) or [indeterminate](indeterminate-system-theorem);\n",
    "- solve a [homogeneous system of linear equations](homogeneous-system-definition)."
   ]
  }
 ],
 "metadata": {
  "kernelspec": {
   "display_name": "Python 3.10.7 64-bit",
   "language": "python",
   "name": "python3"
  },
  "language_info": {
   "codemirror_mode": {
    "name": "ipython",
    "version": 3
   },
   "file_extension": ".py",
   "mimetype": "text/x-python",
   "name": "python",
   "nbconvert_exporter": "python",
   "pygments_lexer": "ipython3",
   "version": "3.10.7"
  },
  "vscode": {
   "interpreter": {
    "hash": "966c2572ce838c9df552f8ed5c38cfd9c878261c104862aacf38d1f7f9c4e98b"
   }
  }
 },
 "nbformat": 4,
 "nbformat_minor": 5
}
