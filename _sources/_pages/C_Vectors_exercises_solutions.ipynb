{
 "cells": [
  {
   "cell_type": "markdown",
   "metadata": {},
   "source": [
    "(vectors-exercises-solutions-section)=\n",
    "# C. Vectors Exercises Solutions"
   ]
  },
  {
   "cell_type": "markdown",
   "metadata": {},
   "source": [
    "```{solution} vectors-ex-arithmetic\n",
    "\n",
    "(a) &emsp; $2\\vec{u} + \\vec{w} = 2\\begin{pmatrix} 2 \\\\ 3 \\end{pmatrix} + \\begin{pmatrix} 1 \\\\ 6 \\end{pmatrix} \n",
    "= \\begin{pmatrix} 4 \\\\ 6 \\end{pmatrix} + \\begin{pmatrix} 1 \\\\ 6 \\end{pmatrix} \n",
    "= \\begin{pmatrix} 5 \\\\ 12 \\end{pmatrix}$\n",
    "\n",
    "(b) &emsp; $\\vec{w} - \\vec{u} = \\begin{pmatrix} 1 \\\\ 6 \\end{pmatrix} - \\begin{pmatrix} 2 \\\\ 3 \\end{pmatrix} \n",
    "= \\begin{pmatrix} 1 - 2 \\\\ 6 - 3 \\end{pmatrix} = \\begin{pmatrix} -1 \\\\ 3 \\end{pmatrix}$\n",
    "\n",
    "(c) &emsp; $\\hat{\\vec{u}} = \\dfrac{\\vec{u}}{|\\vec{u}|} = \\dfrac{1}{\\sqrt{13}} \\begin{pmatrix} 2 \\\\ 3 \\end{pmatrix} \n",
    "= \\begin{pmatrix} \\frac{2}{\\sqrt{13}} \\\\ \\frac{3}{\\sqrt{13}} \\end{pmatrix}$\n",
    "\n",
    "(d) &emsp; $-\\hat{\\vec{v}} = -\\dfrac{\\vec{v}}{|\\vec{v}|} = -\\dfrac{1}{\\sqrt{13}} \\begin{pmatrix} 3 \\\\ -2 \\end{pmatrix} = \\begin{pmatrix} -\\frac{3}{\\sqrt{13}} \\\\ \\frac{2}{\\sqrt{13}} \\end{pmatrix}$\n",
    "\n",
    "(e) &emsp; $\\dfrac{1}{2}\\vec{v} = \\dfrac{1}{2} \\begin{pmatrix} 3 \\\\ -2 \\end{pmatrix} \n",
    "= \\begin{pmatrix} 3 / 2 \\\\ -2 / 2 \\end{pmatrix}$\n",
    "\n",
    "(f) &emsp; $\\vec{v} - \\vec{u} = \\begin{pmatrix} 3 \\\\ -2 \\end{pmatrix} - \\begin{pmatrix} 2 \\\\ 3 \\end{pmatrix}= \\begin{pmatrix} 1 \\\\ -5 \\end{pmatrix}$\n",
    "\n",
    "(g) &emsp; $\\vec{w} - \\vec{u} = \\begin{pmatrix} 1 \\\\ 6 \\end{pmatrix} - \\begin{pmatrix} 2 \\\\ 3 \\end{pmatrix} = \\begin{pmatrix} -1 \\\\ 3 \\end{pmatrix}$\n",
    "\n",
    "(h) &emsp; $\\vec{u} \\cdot \\vec{w} = \\begin{pmatrix} 2 \\\\ 3 \\end{pmatrix} \\cdot \\begin{pmatrix} 1 \\\\ 6 \\end{pmatrix} = 2 \\times 1 + 3 \\times 6 = 20$\n",
    "\n",
    "(i) &emsp; Using equation {eq}`geometric-dot-product-equation`\n",
    "\n",
    "$$ \\begin{align*}\n",
    "    \\overrightarrow{UV} \\cdot \\overrightarrow{UW} &= |\\overrightarrow{UV}||\\overrightarrow{UW}| \\cos(\\theta) \\\\\n",
    "    \\begin{pmatrix} 1 \\\\ -5 \\end{pmatrix} \\cdot \\begin{pmatrix} -1 \\\\ 3 \\end{pmatrix} &=\n",
    "    \\left| \\begin{pmatrix} 1 \\\\ -5 \\end{pmatrix} \\right|\n",
    "    \\left| \\begin{pmatrix} -1 \\\\ 3 \\end{pmatrix} \\right| \\cos(\\theta) \\\\\n",
    "    -16 &= \\sqrt{26} \\sqrt{10} \\cos(\\theta) \\\\\n",
    "    \\theta &= \\cos^{-1} \\left( \\frac{-16}{\\sqrt{260}} \\right) \\approx 3.0172\n",
    "\\end{align*} $$\n",
    "\n",
    "(j) &emsp; $\\vec{u} \\cdot \\vec{v} = \\begin{pmatrix} 2 \\\\ 3 \\end{pmatrix} \\cdot \\begin{pmatrix} 3 \\\\ -2 \\end{pmatrix} = 2 \\times 3 + 3 \\times (-2) = 0$\n",
    "\n",
    "(k) &emsp; $\\vec{v} \\times \\vec{w} = \\begin{vmatrix} \\vec{i} & \\vec{j} & \\vec{k} \\\\ 3 & -2 & 0 \\\\ 1 & 6 & 0 \\end{vmatrix} = 0\\vec{i} - 0 \\vec{j} + 20 \\vec{k} = \\begin{pmatrix} 0 \\\\ 0 \\\\ 20 \\end{pmatrix}$\n",
    "```"
   ]
  },
  {
   "cell_type": "code",
   "execution_count": 2,
   "metadata": {
    "tags": [
     "remove-cell"
    ]
   },
   "outputs": [
    {
     "data": {
      "text/latex": [
       "$\\displaystyle (a)\\ 2 \\vec{u} + \\vec{w} = \\left[\\begin{matrix}5\\\\12\\end{matrix}\\right]$"
      ],
      "text/plain": [
       "<IPython.core.display.Math object>"
      ]
     },
     "metadata": {},
     "output_type": "display_data"
    },
    {
     "data": {
      "text/latex": [
       "$\\displaystyle (b)\\ \\vec{w} - \\vec{u} = \\left[\\begin{matrix}-1\\\\3\\end{matrix}\\right]$"
      ],
      "text/plain": [
       "<IPython.core.display.Math object>"
      ]
     },
     "metadata": {},
     "output_type": "display_data"
    },
    {
     "data": {
      "text/latex": [
       "$\\displaystyle (c)\\ \\hat{\\vec{u}} = \\left[\\begin{matrix}\\frac{2 \\sqrt{13}}{13}\\\\\\frac{3 \\sqrt{13}}{13}\\end{matrix}\\right]$"
      ],
      "text/plain": [
       "<IPython.core.display.Math object>"
      ]
     },
     "metadata": {},
     "output_type": "display_data"
    },
    {
     "data": {
      "text/latex": [
       "$\\displaystyle (d)\\ -\\hat{\\vec{v}} = \\left[\\begin{matrix}- \\frac{3 \\sqrt{13}}{13}\\\\\\frac{2 \\sqrt{13}}{13}\\end{matrix}\\right]$"
      ],
      "text/plain": [
       "<IPython.core.display.Math object>"
      ]
     },
     "metadata": {},
     "output_type": "display_data"
    },
    {
     "data": {
      "text/latex": [
       "$\\displaystyle (e)\\ k\\vec{v} = \\left[\\begin{matrix}3 k\\\\- 2 k\\end{matrix}\\right]$"
      ],
      "text/plain": [
       "<IPython.core.display.Math object>"
      ]
     },
     "metadata": {},
     "output_type": "display_data"
    },
    {
     "data": {
      "text/latex": [
       "$\\displaystyle (f)\\ \\overrightarrow{UV} = \\left[\\begin{matrix}-1\\\\5\\end{matrix}\\right]$"
      ],
      "text/plain": [
       "<IPython.core.display.Math object>"
      ]
     },
     "metadata": {},
     "output_type": "display_data"
    },
    {
     "data": {
      "text/latex": [
       "$\\displaystyle (g)\\ \\overrightarrow{UW} = \\left[\\begin{matrix}1\\\\-3\\end{matrix}\\right]$"
      ],
      "text/plain": [
       "<IPython.core.display.Math object>"
      ]
     },
     "metadata": {},
     "output_type": "display_data"
    },
    {
     "data": {
      "text/latex": [
       "$\\displaystyle (h)\\ \\vec{u} \\cdot \\vec{v} = 0$"
      ],
      "text/plain": [
       "<IPython.core.display.Math object>"
      ]
     },
     "metadata": {},
     "output_type": "display_data"
    },
    {
     "data": {
      "text/latex": [
       "$\\displaystyle (i)\\ \\angle VUW = 3.01723765904303$"
      ],
      "text/plain": [
       "<IPython.core.display.Math object>"
      ]
     },
     "metadata": {},
     "output_type": "display_data"
    },
    {
     "data": {
      "text/latex": [
       "$\\displaystyle (f)\\ \\vec{u} \\cdot \\vec{v} = 0$"
      ],
      "text/plain": [
       "<IPython.core.display.Math object>"
      ]
     },
     "metadata": {},
     "output_type": "display_data"
    },
    {
     "data": {
      "text/latex": [
       "$\\displaystyle (f)\\ \\vec{v} \\times \\vec{w} = \\left[\\begin{matrix}0\\\\0\\\\20\\end{matrix}\\right]$"
      ],
      "text/plain": [
       "<IPython.core.display.Math object>"
      ]
     },
     "metadata": {},
     "output_type": "display_data"
    }
   ],
   "source": [
    "import sympy as sp\n",
    "from IPython.display import Math, display\n",
    "\n",
    "k = sp.symbols('k')\n",
    "u = sp.Matrix([2, 3])\n",
    "v = sp.Matrix([3, -2])\n",
    "w = sp.Matrix([1, 6])\n",
    "\n",
    "display(Math(\"(a)\\ 2 \\vec{u} + \\vec{w} = \" + sp.latex(2 * u + w)))\n",
    "display(Math(\"(b)\\ \\vec{w} - \\vec{u} = \" + sp.latex(w - u)))\n",
    "display(Math(\"(c)\\ \\hat{\\vec{u}} = \" + sp.latex(u / u.norm())))\n",
    "display(Math(\"(d)\\ -\\hat{\\vec{v}} = \" + sp.latex(-v / v.norm())))\n",
    "display(Math(\"(e)\\ k\\vec{v} = \" + sp.latex(k * v)))\n",
    "display(Math(\"(f)\\ \\overrightarrow{UV} = \" + sp.latex(u - v)))\n",
    "display(Math(\"(g)\\ \\overrightarrow{UW} = \" + sp.latex(u - w)))\n",
    "display(Math(\"(h)\\ \\vec{u} \\cdot \\vec{v} = \" + sp.latex(u.dot(v))))\n",
    "display(Math(\"(i)\\ \\\\angle VUW = \" + sp.latex(sp.acos((v - u).dot(w - u) / ((v - u).norm() * (w - u).norm()).evalf()))))\n",
    "display(Math(\"(f)\\ \\vec{u} \\cdot \\vec{v} = \" + sp.latex(u.dot(v))))\n",
    "display(Math(\"(f)\\ \\vec{v} \\\\times \\vec{w} = \" + sp.latex(sp.Matrix([3, -2, 0]).cross(sp.Matrix([1, 6, 0])))))"
   ]
  },
  {
   "cell_type": "markdown",
   "metadata": {},
   "source": [
    "```{solution} vectors-ex-linear-combination\n",
    "\n",
    "(a) &emsp; $\\vec{u} = 2 \\begin{pmatrix} 1 \\\\ 0 \\\\ 0 \\end{pmatrix} + 7 \\begin{pmatrix} 0 \\\\ 1 \\\\ 0 \\end{pmatrix} + \\begin{pmatrix} 0 \\\\ 0 \\\\ 1 \\end{pmatrix} = 2 \\vec{i} + 7 \\vec{j} + \\vec{k}$\n",
    "\n",
    "(b)\n",
    "\n",
    "$$ \\begin{align*}\n",
    "    & \\left( \\begin{array}{ccc|c}\n",
    "    1 & 0 & 1 & 2 \\\\\n",
    "    -1 & 2 & 0 & 7 \\\\\n",
    "    0 & 0 & -1 & 1\n",
    "    \\end{array} \\right)\n",
    "    \\begin{array}{l} \\\\ R_2 + R_1 \\\\ \\phantom{x} \\end{array} &\n",
    "    \\longrightarrow &\n",
    "    \\left( \\begin{array}{ccc|c}\n",
    "        1 & 0 & 1 & 2 \\\\\n",
    "        0 & 2 & 1 & 9 \\\\\n",
    "        0 & 0 & -1 & 1\n",
    "    \\end{array} \\right)\n",
    "    \\begin{array}{l} \\\\ \\frac{1}{2} R_2 \\\\ -R_3 \\phantom{x} \\end{array} \\\\ \\\\\n",
    "    \\longrightarrow &\n",
    "    \\left( \\begin{array}{ccc|c}\n",
    "        1 & 0 & 1 & 2 \\\\\n",
    "        0 & 1 & 1/2 & 9/2 \\\\\n",
    "        0 & 0 & 1 & -1\n",
    "    \\end{array} \\right)\n",
    "    \\begin{array}{l} R_1 - R_3 \\\\ R_2 - \\frac{1}{2} R_3 \\\\ \\phantom{x} \\end{array} &\n",
    "    \\longrightarrow &\n",
    "    \\left( \\begin{array}{ccc|c}\n",
    "        1 & 0 & 0 & 3 \\\\\n",
    "        0 & 1 & 0 & 5 \\\\\n",
    "        0 & 0 & 1 & -1\n",
    "    \\end{array} \\right)\n",
    "    \\begin{array}{l} R_1 - R_3 \\\\ R_2 - \\frac{1}{2} R_3 \\\\ \\phantom{x} \\end{array} \\\\ \\\\\n",
    "\\end{align*} $$\n",
    "\n",
    " Therefore $\\vec{u} = 3 \\vec{f}_1 + 5 \\vec{f}_2 - \\vec{f}_3$.\n",
    "```"
   ]
  },
  {
   "cell_type": "markdown",
   "metadata": {},
   "source": [
    "```{solution} vectors-ex-perpendicular\n",
    "\n",
    "(a) &emsp; If $\\vec{u}$ and $\\vec{v}$ are perpendicular then $\\vec{u} \\cdot \\vec{v} = 0$.\n",
    "\n",
    "$$ \\begin{align*}\n",
    "    \\vec{u} \\cdot \\vec{v} &= 0 \\\\\n",
    "    \\begin{pmatrix} 1 \\\\ k \\\\ -2 \\end{pmatrix} \\cdot\n",
    "    \\begin{pmatrix} 2 \\\\ -5 \\\\ 4 \\end{pmatrix} &= 0 \\\\\n",
    "    2 - 5 k - 8 &= 0 \\\\\n",
    "    -5k &= 6 \\\\\n",
    "    \\therefore k &= -\\frac{6}{5}.\n",
    "\\end{align*} $$\n",
    "        \n",
    "(b) &emsp; \n",
    "\n",
    "$$ \\begin{align*}\n",
    "    \\vec{u} \\cdot \\vec{v} &= 0 \\\\\n",
    "    \\begin{pmatrix} 1 \\\\ 0 \\\\ k + 2 \\\\ -1 \\\\ 2 \\end{pmatrix} \\cdot \n",
    "    \\begin{pmatrix} 1 \\\\ k \\\\ -2 \\\\ 1 \\\\ 2 \\end{pmatrix} &= 0 \\\\\n",
    "    1 - 2k - 2 - 1 + 2 &= 0 \\\\\n",
    "    -2k &= 0 \\\\\n",
    "    \\therefore k &= 0.\n",
    "\\end{align*} $$\n",
    "```"
   ]
  },
  {
   "cell_type": "markdown",
   "metadata": {},
   "source": [
    "```{solution} vectors-ex-angle\n",
    "\n",
    "$$ \\begin{align*}\n",
    "    \\vec{u} \\cdot \\vec{v} &= \\begin{pmatrix} 1 \\\\ 2 \\\\ 3 \\end{pmatrix} \\cdot\n",
    "    \\begin{pmatrix} -1 \\\\ 2 \\\\ -1 \\end{pmatrix} = -1 + 4 - 3 = 0, \\\\\n",
    "    \\vec{u} \\cdot \\vec{w} &= \\begin{pmatrix} 1 \\\\ 2 \\\\ 3 \\end{pmatrix} \\cdot\n",
    "    \\begin{pmatrix} 2 \\\\ -3 \\\\ 1 \\end{pmatrix} = 2 - 6 + 3 = -1, \\\\\n",
    "    \\vec{v} \\cdot \\vec{w} &= \\begin{pmatrix} -1 \\\\ 2 \\\\ -1 \\end{pmatrix} \\cdot\n",
    "    \\begin{pmatrix} 2 \\\\ -3 \\\\ 1 \\end{pmatrix} = -2 -6 -1 =  -9.\n",
    "\\end{align*} $$\n",
    "\n",
    "Therefore $\\vec{u} \\perp \\vec{v}$. The angle between $\\vec{u}$ and $\\vec{w}$ is\n",
    "\n",
    "$$ \\begin{align*}\n",
    "    \\theta &= \\cos^{-1} \\left( \\frac{\\vec{u} \\cdot \\vec{w}}{|\\vec{u} ||\\vec{w}|} \\right) \\\\\n",
    "    &= \\cos^{-1} \\left( \\frac{-1}{\\sqrt{14}\\sqrt{14}}\\right) \\\\\n",
    "    &= \\cos^{-1}\\left(\\frac{-1}{14}\\right) \\approx 1.6423,\n",
    "\\end{align*} $$\n",
    "\n",
    "and the angle between $\\vec{v}$ and $\\vec{w}$ is\n",
    "\n",
    "$$ \\begin{align*}\n",
    "    \\theta &= \\cos^{-1} \\left( \\frac{\\vec{v} \\cdot \\vec{w}}{|\\vec{v} ||\\vec{w}|} \\right) \\\\\n",
    "    &= \\cos^{-1} \\left( \\frac{-9}{\\sqrt{6}\\sqrt{14}} \\right) \\approx 2.9515.\n",
    "\\end{align*} $$\n",
    "```"
   ]
  }
 ],
 "metadata": {
  "kernelspec": {
   "display_name": "base",
   "language": "python",
   "name": "python3"
  },
  "language_info": {
   "codemirror_mode": {
    "name": "ipython",
    "version": 3
   },
   "file_extension": ".py",
   "mimetype": "text/x-python",
   "name": "python",
   "nbconvert_exporter": "python",
   "pygments_lexer": "ipython3",
   "version": "3.11.5"
  }
 },
 "nbformat": 4,
 "nbformat_minor": 2
}
