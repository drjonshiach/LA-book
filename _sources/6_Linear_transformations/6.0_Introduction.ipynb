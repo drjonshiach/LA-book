{
 "cells": [
  {
   "cell_type": "markdown",
   "id": "2f564b44",
   "metadata": {},
   "source": [
    "(linear-transformations-chapter)=\n",
    "# Linear Transformations\n",
    "\n",
    "**Learning outcomes**\n",
    "\n",
    "On successful completion of this chapters students will be able to:\n",
    "\n",
    "- identify when a transformation is a [linear transformation](linear-transformation-definition);\n",
    "- determine the [transformation matrix](transformation-matrix-definition) that represents a linear transformation;\n",
    "- perform [composite linear transformation](composite-transformation-definition);\n",
    "- apply [rotation](rotation-in-R2-theorem), [reflection](reflection-theorem), [scaling](scaling-theorem) and [translation](translation-definition) transformations in $\\mathbb{R}^2$ as well as their inverses;\n",
    "- use [homogeneous co-ordinates](homogeneous-coordinates-definition) to describe points in $\\mathbb{R}^n$."
   ]
  }
 ],
 "metadata": {
  "kernelspec": {
   "display_name": "Python 3",
   "language": "python",
   "name": "python3"
  },
  "language_info": {
   "codemirror_mode": {
    "name": "ipython",
    "version": 3
   },
   "file_extension": ".py",
   "mimetype": "text/x-python",
   "name": "python",
   "nbconvert_exporter": "python",
   "pygments_lexer": "ipython3",
   "version": "3.8.8"
  }
 },
 "nbformat": 4,
 "nbformat_minor": 5
}
