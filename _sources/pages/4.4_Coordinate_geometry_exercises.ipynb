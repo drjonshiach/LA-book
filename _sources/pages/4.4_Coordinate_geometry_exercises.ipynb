{
 "cells": [
  {
   "attachments": {},
   "cell_type": "markdown",
   "id": "11daf07f",
   "metadata": {},
   "source": [
    "(co-ordinate-geometry-exercises-section)=\n",
    "\n",
    "# Co-ordinate geometry exercises\n",
    "\n",
    ":::{exercise}\n",
    ":label: geometry-ex-line-plane-equations\n",
    "\n",
    "Given the following position vectors in $\\mathbb{R}^3$\n",
    "\n",
    "$$ \\begin{align*} \n",
    "    \\mathbf{a} &= \\begin{pmatrix} 2 \\\\ 1 \\\\ 0 \\end{pmatrix}, &\n",
    "    \\mathbf{b} &= \\begin{pmatrix} 1 \\\\ 1 \\\\ 0 \\end{pmatrix}, &\n",
    "    \\mathbf{c} &= \\begin{pmatrix} 3 \\\\ -1 \\\\ 4 \\end{pmatrix}, &\n",
    "    \\mathbf{d} &= \\begin{pmatrix} 5 \\\\ 2 \\\\ 6 \\end{pmatrix}.\n",
    "\\end{align*} $$\n",
    "\n",
    "find:\n",
    "\n",
    "(a) the equation of the line that passes through $\\mathbf{a}$ and $\\mathbf{b}$;\n",
    "\n",
    "(b) the equation of the line that passes through $\\mathbf{c}$ and $\\mathbf{d}$;\n",
    "\n",
    "(c) the equation of the plane which passes through $\\mathbf{a}$, $\\mathbf{b}$ and $\\mathbf{c}$ lie;\n",
    "\n",
    "(d) the equation of the plane upon which passes through $\\mathbf{b}$, $\\mathbf{c}$ and $\\mathbf{d}$.\n",
    ":::\n",
    "\n",
    ":::{solution} geometry-ex-line-plane-equations\n",
    ":class: dropdown\n",
    "\n",
    "(a) Using the {prf:ref}`vector equation of a line<vector-equation-of-a-line-definition>` we have $\\mathbf{r} = \\mathbf{a} + t\\mathbf{d}_1$\n",
    "\n",
    "$$ \\begin{align*}\n",
    "    \\mathbf{d}_1 &= \\mathbf{b} - \\mathbf{a} =\n",
    "    \\begin{pmatrix} 1 \\\\ 1 \\\\ 0 \\end{pmatrix} -\n",
    "    \\begin{pmatrix} 2 \\\\ 1 \\\\ 0 \\end{pmatrix} = \n",
    "    \\begin{pmatrix} -1 \\\\ 0 \\\\ 0 \\end{pmatrix}, \\\\\n",
    "    \\therefore \\mathbf{r} &= \\mathbf{a} + t\\mathbf{d}_1 =\n",
    "    \\begin{pmatrix} 2 \\\\ 1 \\\\ 0 \\end{pmatrix} + t \n",
    "    \\begin{pmatrix} -1 \\\\ 0 \\\\ 0 \\end{pmatrix} = \n",
    "    \\begin{pmatrix} 2 - t \\\\ 1 \\\\ 1 \\end{pmatrix}\n",
    "\\end{align*} $$\n",
    "\n",
    "(b) Using the {prf:ref}`vector equation of a line<vector-equation-of-a-line-definition>` we have $\\mathbf{r} = \\mathbf{c} + t\\mathbf{d}_2$\n",
    "\n",
    "$$ \\begin{align*}\n",
    "    \\mathbf{d}_2 &= \\mathbf{d} - \\mathbf{c} =\n",
    "    \\begin{pmatrix} 5 \\\\ 2 \\\\ 6 \\end{pmatrix} -\n",
    "    \\begin{pmatrix} 3 \\\\ -1 \\\\ 4 \\end{pmatrix} = \n",
    "    \\begin{pmatrix} 2 \\\\ 3 \\\\ 2 \\end{pmatrix}, \\\\\n",
    "    \\therefore \\mathbf{r} &= \\mathbf{c} + t\\mathbf{d}_2 =\n",
    "    \\begin{pmatrix} 3 \\\\ -1 \\\\ 4 \\end{pmatrix} + t \n",
    "    \\begin{pmatrix} 2 \\\\ 3 \\\\ 2 \\end{pmatrix} = \n",
    "    \\begin{pmatrix} 3 + 2 t \\\\ -1 + 3 t \\\\ 4 + 2 t \\end{pmatrix}\n",
    "\\end{align*} $$\n",
    " \n",
    "(c) Calculate the normal vector to the plane\n",
    "\n",
    "$$ \\begin{align*}\n",
    "    \\mathbf{b} - \\mathbf{a} &= \\begin{pmatrix} 1 \\\\ 1 \\\\ 0 \\end{pmatrix} - \n",
    "    \\begin{pmatrix} 2 \\\\ 1 \\\\ 0 \\end{pmatrix} = \n",
    "    \\begin{pmatrix} -1 \\\\ 0 \\\\ 0 \\end{pmatrix}, \\\\\n",
    "    \\mathbf{c} - \\mathbf{a} &= \\begin{pmatrix} 3 \\\\ -1 \\\\ 4 \\end{pmatrix} -\n",
    "    \\begin{pmatrix} 2 \\\\ 1 \\\\ 0 \\end{pmatrix} =\n",
    "    \\begin{pmatrix} 1 \\\\ -2 \\\\ 4 \\end{pmatrix}, \\\\\n",
    "    \\therefore \\mathbf{n} &= (\\mathbf{b} - \\mathbf{a}) \\times (\\mathbf{c} - \\mathbf{a}) = \n",
    "    \\begin{vmatrix} \n",
    "        \\mathbf{i} & \\mathbf{j} & \\mathbf{k} \\\\\n",
    "        -1 & 0 & 0 \\\\\n",
    "        1 & -2 & 4 \n",
    "    \\end{vmatrix} =\n",
    "    \\begin{pmatrix} 0 \\\\ 4 \\\\ 2 \\end{pmatrix},\n",
    "\\end{align*} $$\n",
    "\n",
    "Using the {prf:ref}`point normal definition of a plane<point-normal-definition>`\n",
    "\n",
    "$$ \\begin{align*}\n",
    "    n_x(x - a_x) + n_y(y - a_y) + n_z(z - a_z) &= 0 \\\\\n",
    "    0(x - 2) + 4(y - 1) + 2(z - 0) &= 0 \\\\\n",
    "    4 y + 2 z - 4 &= 0.\n",
    "\\end{align*} $$\n",
    "\n",
    "(d) Calculate the normal vector to the plane\n",
    "\n",
    "$$ \\begin{align*}\n",
    "    \\mathbf{c} - \\mathbf{b} &= \\begin{pmatrix} 3 \\\\ -1 \\\\ 4 \\end{pmatrix} - \n",
    "    \\begin{pmatrix} 1 \\\\ 1 \\\\ 0 \\end{pmatrix} =\n",
    "    \\begin{pmatrix} 2 \\\\ -2 \\\\ 4 \\end{pmatrix}, \\\\\n",
    "    \\mathbf{d} - \\mathbf{b} &= \\begin{pmatrix} 5 \\\\ 2 \\\\ 6 \\end{pmatrix} -\n",
    "    \\begin{pmatrix} 1 \\\\ 1 \\\\ 0 \\end{pmatrix} =\n",
    "    \\begin{pmatrix} 4 \\\\ 1 \\\\ 6 \\end{pmatrix}, \\\\\n",
    "    \\mathbf{n} &= (\\mathbf{c} - \\mathbf{b}) \\times (\\mathbf{d} - \\mathbf{b}) = \n",
    "    \\begin{vmatrix}\n",
    "        \\mathbf{i} & \\mathbf{j} & \\mathbf{k} \\\\\n",
    "        2 & -2 & 4 \\\\\n",
    "        4 & 1 & 6\n",
    "    \\end{vmatrix} =\n",
    "    \\begin{pmatrix} -16 \\\\ 4 \\\\ 10 \\end{pmatrix},\n",
    "\\end{align*} $$\n",
    "\n",
    "Using the {prf:ref}`point normal definition of a plane<point-normal-definition>`\n",
    "\n",
    "$$ \\begin{align*}\n",
    "    n_x(x - b_x) + n_y(y - b_y) + n_z(z - b_z) &= 0 \\\\\n",
    "    -16(x - 1) + 4(y - 1) + 10(z - 0) &= 0\\\\\n",
    "    -16 x + 4 y + 10 z + 12 &= 0.\n",
    "\\end{align*} $$\n",
    ":::"
   ]
  },
  {
   "cell_type": "code",
   "execution_count": 1,
   "id": "d46e1d07",
   "metadata": {
    "tags": [
     "remove-cell"
    ]
   },
   "outputs": [
    {
     "data": {
      "text/latex": [
       "$\\displaystyle (a)\\ \\left[\\begin{matrix}2 - t\\\\1\\\\0\\end{matrix}\\right]$"
      ],
      "text/plain": [
       "<IPython.core.display.Math object>"
      ]
     },
     "metadata": {},
     "output_type": "display_data"
    },
    {
     "data": {
      "text/latex": [
       "$\\displaystyle (b)\\ \\left[\\begin{matrix}2 t + 3\\\\3 t - 1\\\\2 t + 4\\end{matrix}\\right]$"
      ],
      "text/plain": [
       "<IPython.core.display.Math object>"
      ]
     },
     "metadata": {},
     "output_type": "display_data"
    },
    {
     "data": {
      "text/latex": [
       "$\\displaystyle (c)\\ 4 y + 2 z - 4$"
      ],
      "text/plain": [
       "<IPython.core.display.Math object>"
      ]
     },
     "metadata": {},
     "output_type": "display_data"
    },
    {
     "data": {
      "text/latex": [
       "$\\displaystyle (d)\\ - 16 x + 4 y + 10 z + 12$"
      ],
      "text/plain": [
       "<IPython.core.display.Math object>"
      ]
     },
     "metadata": {},
     "output_type": "display_data"
    }
   ],
   "source": [
    "import sympy as sp\n",
    "from IPython.display import display, Math\n",
    "\n",
    "a = sp.Matrix([2, 1, 0])\n",
    "b = sp.Matrix([1, 1, 0])\n",
    "c = sp.Matrix([3, -1, 4])\n",
    "d = sp.Matrix([5, 2, 6])\n",
    "t, x, y, z = sp.symbols('t, x, y, z')\n",
    "\n",
    "n1 = (b - a).cross(c - a)\n",
    "n2 = (c - d).cross(d - b)\n",
    "p = sp.Matrix([x, y, z])\n",
    "\n",
    "display(Math(\"(a)\\ \" + sp.latex(a + t * (b - a))))\n",
    "display(Math(\"(b)\\ \" + sp.latex(c + t * (d - c))))\n",
    "\n",
    "\n",
    "display(Math(\"(c)\\ \" + sp.latex(n1.dot(p - a))))\n",
    "display(Math(\"(d)\\ \" + sp.latex(n2.dot(p - b))))"
   ]
  },
  {
   "attachments": {},
   "cell_type": "markdown",
   "id": "ba068d20",
   "metadata": {},
   "source": [
    ":::{exercise}\n",
    ":label: geometry-ex-line-equation-1\n",
    "\n",
    "Find the equation of the line that passes through the point with position vector $(3, 2, 1)^\\mathsf{T}$ which is parallel to $2 \\mathbf{i} + \\mathbf{j} + 3 \\mathbf{k}$.\n",
    ":::\n",
    "\n",
    ":::{solution} geometry-ex-line-equation-1\n",
    ":class: dropdown\n",
    "\n",
    "$$ \\mathbf{r} = \\begin{pmatrix} 3 \\\\ 2 \\\\ 1 \\end{pmatrix} + t \\begin{pmatrix} 2 \\\\ 3 \\\\ 1 \\end{pmatrix}  = \\begin{pmatrix} 3 + 2 t \\\\ 2 + 3 t \\\\ 1 + 3 t \\end{pmatrix} $$\n",
    ":::"
   ]
  },
  {
   "cell_type": "code",
   "execution_count": 2,
   "id": "f48cd827",
   "metadata": {
    "tags": [
     "remove-cell"
    ]
   },
   "outputs": [
    {
     "data": {
      "text/latex": [
       "$\\displaystyle \\left[\\begin{matrix}2 t + 3\\\\t + 2\\\\3 t + 1\\end{matrix}\\right]$"
      ],
      "text/plain": [
       "<IPython.core.display.Math object>"
      ]
     },
     "metadata": {},
     "output_type": "display_data"
    }
   ],
   "source": [
    "import sympy as sp\n",
    "from IPython.display import display, Math\n",
    "\n",
    "t = sp.symbols('t')\n",
    "p = sp.Matrix([3, 2, 1])\n",
    "d = sp.Matrix([2, 1, 3])\n",
    "\n",
    "display(Math(sp.latex(p + t * d)))"
   ]
  },
  {
   "attachments": {},
   "cell_type": "markdown",
   "id": "21b86340",
   "metadata": {},
   "source": [
    ":::{exercise}\n",
    ":label: geometry-ex-plane-equation-1\n",
    "\n",
    "Find the equation of the plane that passes through the point with position vector $(3, 2, 5)^\\mathsf{T}$ which has a normal vector $\\mathbf{n} = (2, 1, 3)^\\mathsf{T}$.\n",
    ":::\n",
    "\n",
    ":::{solution} geometry-ex-plane-equation-1\n",
    ":class: dropdown\n",
    "\n",
    "Using the {prf:ref}`point normal definition of a plane<point-normal-definition>`\n",
    "\n",
    "$$ \\begin{align*}\n",
    "    \\mathbf{n} \\cdot \\begin{pmatrix} x - x_0 \\\\ y - y_0 \\\\ z - z_0 \\end{pmatrix} &= 0 \\\\\n",
    "    \\begin{pmatrix} 2 \\\\ 1 \\\\ 3 \\end{pmatrix} \\cdot\n",
    "    \\begin{pmatrix} x - 3 \\\\ y - 2 \\\\ z - 5 \\end{pmatrix} \\\\\n",
    "    2(x - 3) + (y - 2) + 3(z - 5) &= 0 \\\\\n",
    "    2 x + y + 3 z - 23 &= 0\n",
    "\\end{align*} $$\n",
    ":::"
   ]
  },
  {
   "cell_type": "code",
   "execution_count": 3,
   "id": "f4f9f241",
   "metadata": {
    "tags": [
     "remove-cell"
    ]
   },
   "outputs": [
    {
     "data": {
      "text/latex": [
       "$\\displaystyle 2 x + y + 3 z - 23$"
      ],
      "text/plain": [
       "<IPython.core.display.Math object>"
      ]
     },
     "metadata": {},
     "output_type": "display_data"
    }
   ],
   "source": [
    "import sympy as sp\n",
    "from IPython.display import display, Math\n",
    "\n",
    "t, x, y, z = sp.symbols('t, x, y, z')\n",
    "p = sp.Matrix([x, y, z])\n",
    "p1 = sp.Matrix([3, 2, 5])\n",
    "n = sp.Matrix([2, 1, 3])\n",
    "\n",
    "display(Math(sp.latex(n.dot(p - p1))))"
   ]
  },
  {
   "attachments": {},
   "cell_type": "markdown",
   "id": "d671f56e",
   "metadata": {},
   "source": [
    ":::{exercise}\n",
    ":label: geometry-ex-line-point-distance\n",
    "\n",
    "Two lines in $\\mathbb{R}^3$ are defined by $\\ell_1: (1 + 2t, -t, 1 + 3t)^\\mathsf{T}$ and $\\ell_2: (1 + 2t, 4, 7 - t)^\\mathsf{T}$ respectively.\n",
    "\n",
    "(a) find the intersection of the lines or show they are skew;\n",
    "\n",
    "(b) find the shortest distance between the lines;\n",
    "\n",
    "(c) find the distance between the point with position vector $\\mathbf{p} = (0, -1, 3)^\\mathsf{T}$ and $\\ell_1$.\n",
    ":::\n",
    "\n",
    ":::{solution} geometry-ex-line-point-distance\n",
    ":class: dropdown\n",
    "\n",
    "(a) Equating $\\ell_1$ and $\\ell_2$ and attempting to solve for $t$\n",
    "\n",
    "$$ \\begin{align*}\n",
    "    1 + 2t_1 &= 1 + 2t_2 \\\\\n",
    "    -t_1 &= 4 \\\\\n",
    "    1 + 3t_1 &= 7 - t_2\n",
    "\\end{align*} $$\n",
    "\n",
    "From the second equation $t_1 = -4$ which when substituted into the third equation gives $t_2 = 18$. Substituting these into the first equation gives $-7 = 37$ which is a contradiction so $\\ell_1$ and $\\ell_2$ do not intersect.\n",
    "\n",
    "We also need to show that they are not parallel, i.e., there is no value $k$ such that $\\mathbf{d}_1 = k \\mathbf{d}_2$. The direction vectors for $\\ell_1$ and $\\ell_2$ are $\\mathbf{d}_1 = (2, -1, 3)$ and $\\mathbf{d}_2 = (2, 0, -1)$ so\n",
    "\n",
    "$$ \\begin{pmatrix} 2 \\\\ -1 \\\\ 3 \\end{pmatrix} &= k \\begin{pmatrix} 2 \\\\ 0 \\\\ -1 \\end{pmatrix}, $$\n",
    "\n",
    "which gives the system\n",
    "\n",
    "$$ \\begin{align*}\n",
    "    2 &= 2k ,\\\\\n",
    "    -1 &= 0, \\\\\n",
    "    3 &= -k.\n",
    "\\end{align*} $$\n",
    "\n",
    "The second equation is a contradiction so $\\ell_1$ and $\\ell_2$ are not parallel, and since they do not intersect then they must be skew.\n",
    "\n",
    "(b) The direction vectors for lines $\\ell_1$ and $\\ell_2$ are $\\mathbf{d}_1 = (2, -1, 3)^\\mathsf{T}$ and $\\mathbf{d}_2 = (2, -, -1)^\\mathsf{T}$ respectively. Calculating a vector perpendicular to both $\\mathbf{d}_1$ and $\\mathbf{d}_2$\n",
    "\n",
    "$$ \\begin{align*}\n",
    "    \\mathbf{n} &= \\mathbf{d}_1 \\times \\mathbf{d_1} = \\begin{pmatrix} 2 \\\\ -1 \\\\ 3 \\end{pmatrix} \\times\n",
    "    \\begin{pmatrix} 2 \\\\ 0 \\\\ -1 \\end{pmatrix} =\n",
    "    \\begin{vmatrix}\n",
    "        \\mathbf{i} & \\mathbf{j} & \\mathbf{k} \\\\\n",
    "        2 & -1 & 3 \\\\\n",
    "        2 & 0 & -1 \n",
    "    \\end{vmatrix} = \n",
    "    \\begin{pmatrix} 1 \\\\ 8 \\\\ 2 \\end{pmatrix}, \\\\\n",
    "\\end{align*} $$\n",
    "\n",
    "and normalising gives\n",
    "\n",
    "$$ \\begin{align*}\n",
    "    \\hat{\\mathbf{n}} = \\frac{\\mathbf{n}}{|\\mathbf{n}|} = \\frac{1}{\\sqrt{69}} \n",
    "    \\begin{pmatrix} 1 \\\\ 8 \\\\ 2 \\end{pmatrix} =\n",
    "    \\begin{pmatrix} \\frac{\\sqrt{69}}{69} \\\\ \\frac{8\\sqrt{69}}{69} \\\\ \\frac{2\\sqrt{69}}{69} \\end{pmatrix}.\n",
    "\\end{align*} $$\n",
    "\n",
    "Using {prf:ref}`the distance between two lines<line-line-distance-theorem>`\n",
    "\n",
    "$$ \\begin{align*}\n",
    "    d &= (\\mathbf{p}_2 - \\mathbf{p}_1) \\cdot \\hat{\\mathbf{n}} \\\\\n",
    "    &= \\left( \\begin{pmatrix} 1 \\\\ 4 \\\\ 7 \\end{pmatrix} -\n",
    "    \\begin{pmatrix} 1 \\\\ 0 \\\\ 1 \\end{pmatrix} \\right) \\cdot\n",
    "    \\begin{pmatrix} \\frac{\\sqrt{69}}{69} \\\\ \\frac{8\\sqrt{69}}{69} \\\\ \\frac{2\\sqrt{69}}{69} \\end{pmatrix} \\\\\n",
    "    &= \\begin{pmatrix} 0 \\\\ 4 \\\\ 6 \\end{pmatrix} \\cdot\n",
    "    \\begin{pmatrix} \\frac{\\sqrt{69}}{69} \\\\ \\frac{8\\sqrt{69}}{69} \\\\ \\frac{2\\sqrt{69}}{69} \\end{pmatrix} \\\\\n",
    "    &= \\frac{44\\sqrt{69}}{69}.\n",
    "\\end{align*} $$\n",
    "\n",
    "(c) Using the {prf:ref}`shortest distance between a point and a line<point-line-distance-theorem>`\n",
    "\n",
    "$$ \\begin{align*}\n",
    "    t &= \\frac{(\\mathbf{p} - \\mathbf{p}_1)\\cdot \\mathbf{d}_1}{\\mathbf{d}_1 \\cdot \\mathbf{d}_1} = \\frac{ \n",
    "    \\left( \\begin{pmatrix} 0 \\\\ -1 \\\\ 3 \\end{pmatrix} -\n",
    "    \\begin{pmatrix} 1 \\\\ 0 \\\\ 1 \\end{pmatrix} \\right) \\cdot\n",
    "    \\begin{pmatrix} 2 \\\\ -1 \\\\ 3 \\end{pmatrix}}{\n",
    "        \\begin{pmatrix} 2 \\\\ -1 \\\\ 3 \\end{pmatrix} \\cdot\n",
    "        \\begin{pmatrix} 2 \\\\ -1 \\\\ 3 \\end{pmatrix}\n",
    "    } \n",
    "    = \\frac{5}{14}, \\\\\n",
    "    \\therefore \\mathbf{r} &= \\mathbf{p}_1 + t\\mathbf{d}_1 = \\begin{pmatrix} 1 \\\\ 0 \\\\ 1 \\end{pmatrix} + \\frac{5}{14} \n",
    "    \\begin{pmatrix} 2 \\\\ -1 \\\\ 3 \\end{pmatrix} = \n",
    "    \\begin{pmatrix} \\frac{12}{7} \\\\ - \\frac{5}{14} \\\\ \\frac{29}{14} \\end{pmatrix}, \\\\\n",
    "    \\overrightarrow{\\mathbf{rp}} &= \\begin{pmatrix} 0 \\\\ -1 \\\\ 3 \\end{pmatrix} - \n",
    "    \\begin{pmatrix} \\frac{12}{7} \\\\ -\\frac{5}{14} \\\\ \\frac{29}{14} \\end{pmatrix} =\n",
    "    \\begin{pmatrix} -\\frac{12}{7} \\\\ -\\frac{9}{14} \\\\ \\frac{13}{14} \\end{pmatrix}, \\\\\n",
    "    \\therefore d &= |\\overrightarrow{\\mathbf{rp}}| = \n",
    "    \\sqrt{\\left(-\\frac{12}{7}\\right)^2 + \\left(-\\frac{9}{14}\\right)^2 + \\left(\\frac{13}{14}\\right)^2} \n",
    "    = \\frac{\\sqrt{826}}{14}.\n",
    "\\end{align*} $$\n",
    ":::"
   ]
  },
  {
   "cell_type": "code",
   "execution_count": 4,
   "id": "0fece940",
   "metadata": {
    "tags": [
     "remove-cell"
    ]
   },
   "outputs": [
    {
     "data": {
      "text/latex": [
       "$\\displaystyle (a)\\left[ \\right]$"
      ],
      "text/plain": [
       "<IPython.core.display.Math object>"
      ]
     },
     "metadata": {},
     "output_type": "display_data"
    },
    {
     "data": {
      "text/latex": [
       "$\\displaystyle (b)\\ \\hat{\\mathbf{n}} = \\left[\\begin{matrix}\\frac{\\sqrt{69}}{69}\\\\\\frac{8 \\sqrt{69}}{69}\\\\\\frac{2 \\sqrt{69}}{69}\\end{matrix}\\right]$"
      ],
      "text/plain": [
       "<IPython.core.display.Math object>"
      ]
     },
     "metadata": {},
     "output_type": "display_data"
    },
    {
     "data": {
      "text/latex": [
       "$\\displaystyle d = \\frac{44 \\sqrt{69}}{69}$"
      ],
      "text/plain": [
       "<IPython.core.display.Math object>"
      ]
     },
     "metadata": {},
     "output_type": "display_data"
    },
    {
     "data": {
      "text/latex": [
       "$\\displaystyle (c)\\ t = \\frac{5}{14}$"
      ],
      "text/plain": [
       "<IPython.core.display.Math object>"
      ]
     },
     "metadata": {},
     "output_type": "display_data"
    },
    {
     "data": {
      "text/latex": [
       "$\\displaystyle d = \\frac{\\sqrt{826}}{14}$"
      ],
      "text/plain": [
       "<IPython.core.display.Math object>"
      ]
     },
     "metadata": {},
     "output_type": "display_data"
    }
   ],
   "source": [
    "import sympy as sp\n",
    "from IPython.display import display, Math\n",
    "\n",
    "t = sp.symbols('t')\n",
    "p1 = sp.Matrix([1, 0, 1])\n",
    "p2 = sp.Matrix([1, 4, 7])\n",
    "d1 = sp.Matrix([2, -1, 3])\n",
    "d2 = sp.Matrix([2, 0, -1])\n",
    "p = sp.Matrix([0, -1, 3])\n",
    "n = d1.cross(d2) / d1.cross(d2).norm()\n",
    "t = (p - p1).dot(d1) / d1.dot(d1)\n",
    "\n",
    "display(Math(\"(a)\" + sp.latex(sp.solve(p1 + d1 - p2 - d2))))\n",
    "display(Math(\"(b)\\ \\hat{\\mathbf{n}} = \" + sp.latex(n)))\n",
    "display(Math(\"d = \" + sp.latex((p2 - p1).dot(n))))\n",
    "display(Math(\"(c)\\ t = \" + sp.latex(t)))\n",
    "display(Math(\"d = \" + sp.latex((p1 + t * d1 - p).norm())))"
   ]
  },
  {
   "attachments": {},
   "cell_type": "markdown",
   "id": "c4d879c8",
   "metadata": {},
   "source": [
    ":::{exercise}\n",
    ":label: geometry-ex-plane-1\n",
    "\n",
    "A plane has the equation $3x - 2y + z = 10$. Identify the normal to the plane and find the co-ordinates of 2 points on the plane having $z = 2$.\n",
    ":::\n",
    "\n",
    ":::{solution} geometry-ex-plane-1\n",
    ":class: dropdown\n",
    "$\\mathbf{n} = (3, -2, 1)$. \n",
    "\n",
    "Let $x=0$ then $3(0) - 2 y + 2 = 10$ so $y = -4$ and a point on the plane has co-ordinates $(0, -4, 2)$.\n",
    "\n",
    "Let $x = 2$ then $3(2) - 2 y + 2 = 10$ so $y = -1$ and a point on the plane has co-ordinates $(2, -1, 2)$.\n",
    ":::"
   ]
  },
  {
   "cell_type": "code",
   "execution_count": 5,
   "id": "9cd5b344",
   "metadata": {
    "tags": [
     "remove-cell"
    ]
   },
   "outputs": [
    {
     "data": {
      "text/latex": [
       "$\\displaystyle (2, -4, 2)$"
      ],
      "text/plain": [
       "<IPython.core.display.Math object>"
      ]
     },
     "metadata": {},
     "output_type": "display_data"
    },
    {
     "data": {
      "text/latex": [
       "$\\displaystyle (2, -1, 2)$"
      ],
      "text/plain": [
       "<IPython.core.display.Math object>"
      ]
     },
     "metadata": {},
     "output_type": "display_data"
    }
   ],
   "source": [
    "import sympy as sp\n",
    "from IPython.display import display, Math\n",
    "\n",
    "n = sp.Matrix([3, -2, 1])\n",
    "\n",
    "x = 0\n",
    "display(Math(f\"(2, {sp.latex(sp.solve(3 * x - 2 * y + 2 - 10)[0])}, 2)\"))\n",
    "x = 2\n",
    "display(Math(f\"(2, {sp.latex(sp.solve(3 * x - 2 * y + 2 - 10)[0])}, 2)\"))"
   ]
  },
  {
   "attachments": {},
   "cell_type": "markdown",
   "id": "d647ebeb",
   "metadata": {},
   "source": []
  },
  {
   "attachments": {},
   "cell_type": "markdown",
   "id": "86f5198f",
   "metadata": {},
   "source": [
    ":::{exercise}\n",
    ":label: geometry-ex-line-plane-intersection\n",
    "\n",
    "Find the point where the line $\\ell:(1 + 2t, 2 + t, -1 + 4t)^\\mathsf{T}$ meets the plane $6x - y - 4z = 3$. \n",
    ":::\n",
    "\n",
    ":::{solution} geometry-ex-line-plane-intersection\n",
    ":class: dropdown\n",
    "\n",
    "First we need to find the position vector of a point, $\\mathbf{r}$ say, that lies on the plane. Let $x=0$ and $y=1$ then $z=-1$ so we know that $\\mathbf{r} = (0, 1, -1)^\\mathsf{T}$ lies on the plane. Using the {prf:ref}`point normal definition of a plane<point-normal-definition>`\n",
    "\n",
    "$$ \\begin{align*}\n",
    "    \\mathbf{n} \\cdot \\begin{pmatrix} x - x_0 \\\\ y - y_0 \\\\ z - z_0 \\end{pmatrix} &= 0 \\\\\n",
    "    \\begin{pmatrix} 6 \\\\ -1 \\\\ -4 \\end{pmatrix} \\cdot\n",
    "    \\begin{pmatrix} 0 - (1 + 2 t) \\\\ 1 - (2 + t) \\\\ -1 - (-1 + 4 t) \\end{pmatrix} &= 0 \\\\\n",
    "    \\begin{pmatrix} 6 \\\\ -1 \\\\ -4 \\end{pmatrix} \\cdot\n",
    "    \\begin{pmatrix} - 1 - 2 t \\\\ -1 - t \\\\  -4 t \\end{pmatrix} &= 0 \\\\\n",
    "    -6 - 12 t + 1 + t + 16 t &= 0 \\\\\n",
    "    5 t - 5 &= 0 \\\\\n",
    "    \\therefore t = 1.\n",
    "\\end{align*} $$\n",
    "\n",
    "So the line intersects with the plane at\n",
    "\n",
    "$$ \\begin{align*}\n",
    "    \\mathbf{p} + t \\mathbf{d} = \n",
    "    \\begin{pmatrix} 1 \\\\ 2 \\\\ -1 \\end{pmatrix} + \n",
    "    \\begin{pmatrix} 2 \\\\ 1 \\\\ 4 \\end{pmatrix} =\n",
    "    \\begin{pmatrix} 3 \\\\ 3 \\\\ 3 \\end{pmatrix}.\n",
    "\\end{align*} $$\n",
    ":::"
   ]
  },
  {
   "cell_type": "code",
   "execution_count": 6,
   "id": "bfdc9f5e",
   "metadata": {
    "tags": [
     "remove-cell"
    ]
   },
   "outputs": [
    {
     "data": {
      "text/latex": [
       "$\\displaystyle t = 1$"
      ],
      "text/plain": [
       "<IPython.core.display.Math object>"
      ]
     },
     "metadata": {},
     "output_type": "display_data"
    },
    {
     "data": {
      "text/latex": [
       "$\\displaystyle \\left[\\begin{matrix}3\\\\3\\\\3\\end{matrix}\\right]$"
      ],
      "text/plain": [
       "<IPython.core.display.Math object>"
      ]
     },
     "metadata": {},
     "output_type": "display_data"
    }
   ],
   "source": [
    "import sympy as sp\n",
    "from IPython.display import display, Math\n",
    "\n",
    "p = sp.Matrix([1, 2, -1])\n",
    "d = sp.Matrix([2, 1, 4])\n",
    "n = sp.Matrix([6, -1, -4])\n",
    "s = 3\n",
    "z, t = sp.symbols('z, t')\n",
    "\n",
    "z = sp.solve(n.dot(sp.Matrix([0, 1, z])) - s)[0]\n",
    "t = sp.solve(n.dot(sp.Matrix([0, 1, z]) - p - t * d))[0]\n",
    "\n",
    "display(Math(\"t = \" + sp.latex(t)))\n",
    "display(Math(sp.latex(p + t * d)))"
   ]
  },
  {
   "attachments": {},
   "cell_type": "markdown",
   "id": "9e880564",
   "metadata": {},
   "source": [
    "::::{exercise}\n",
    ":label: geometry-ex-point-plane-distance\n",
    "\n",
    "Consider the diagram below that shows a plane that passes through the point $\\mathbf{p}$ and has normal vector $\\mathbf{n}$ and the point with position $\\mathbf{q}$ not on the plane. \n",
    "\n",
    ":::{figure} ../images/point_plane_distance.svg\n",
    ":width: 350\n",
    ":::\n",
    "\n",
    "Using the {prf:ref}`geometric definition of a dot product<dot-product-definition>` derive an expression for calculating the shortest distance between a point and a plane. Use your expression to find the shortest distance from the point with position vector $(2, 4, -3)^\\mathsf{T}$ to the plane $6x - y - 4z = 3$.\n",
    "::::\n",
    "\n",
    ":::{solution} geometry-ex-point-plane-distance\n",
    ":class: dropdown\n",
    "\n",
    "Using the {prf:ref}`geometric definition of a dot product<dot-product-definition>`\n",
    "\n",
    "$$ \\begin{align*}\n",
    "    (\\mathbf{q} - \\mathbf{p})\\cdot \\mathbf{n} &= |\\mathbf{n}||\\mathbf{q} - \\mathbf{p}| \\cos(\\theta).\n",
    "\\end{align*} $$\n",
    "\n",
    "Since $d$ is the length of the adjacent side of the right-angled triangle then\n",
    "\n",
    "$$ \\begin{align*}\n",
    "    \\cos(\\theta) &= \\frac{d}{|\\mathbf{q} - \\mathbf{p}|},\n",
    "\\end{align*} $$\n",
    "\n",
    "so\n",
    "\n",
    "$$ \\begin{align*}\n",
    "    (\\mathbf{q} - \\mathbf{p}) \\cdot \\mathbf{n} &= |\\mathbf{n}| |\\mathbf{q} - \\mathbf{p}| \\frac{d}{|\\mathbf{q} - \\mathbf{p}|} \\\\\n",
    "    \\therefore d &= (\\mathbf{q} - \\mathbf{p})\\cdot \\frac{\\mathbf{n}}{|\\mathbf{n}|}.\n",
    "\\end{align*} $$\n",
    "\n",
    "The equation of the plane is $6 x-y-4 z=3$ so letting $x=0$ and $y=1$ then $z = 1$ so we know that $\\mathbf{p} = (0, 1, -1)$ lies on the plane. Since $\\mathbf{q} = (2, 4, -3)^\\mathsf{T}$ and $\\mathbf{n} = (6, -1, -4)^\\mathsf{T}$ then applying the above formula gives\n",
    "\n",
    "$$ \\begin{align*}\n",
    "    d &= \\left( \\begin{pmatrix} 2 \\\\ 4 \\\\ -3 \\end{pmatrix} -\n",
    "    \\begin{pmatrix} 0 \\\\ 1 \\\\ -1 \\end{pmatrix} \\right) \\cdot \n",
    "    \\begin{pmatrix} 6 \\\\ -1 \\\\ -4 \\end{pmatrix} / \\left|\n",
    "    \\begin{pmatrix} 6 \\\\ -1 \\\\ -4 \\end{pmatrix} \\right| \\\\\n",
    "    &= \\begin{pmatrix} 2 \\\\ 3 \\\\ -2 \\end{pmatrix} \\cdot \\frac{1}{\\sqrt{53}} \n",
    "    \\begin{pmatrix} 6 \\\\ -1 \\\\ -4 \\end{pmatrix} \\\\\n",
    "    &= \\frac{12 - 3 + 8}{\\sqrt{53}} = \\frac{17}{\\sqrt{53}}\n",
    "\\end{align*} $$\n",
    ":::"
   ]
  }
 ],
 "metadata": {
  "kernelspec": {
   "display_name": "Python 3.8.8 ('base')",
   "language": "python",
   "name": "python3"
  },
  "language_info": {
   "codemirror_mode": {
    "name": "ipython",
    "version": 3
   },
   "file_extension": ".py",
   "mimetype": "text/x-python",
   "name": "python",
   "nbconvert_exporter": "python",
   "pygments_lexer": "ipython3",
   "version": "3.11.2"
  },
  "vscode": {
   "interpreter": {
    "hash": "92823f6e86cf602d85e9e47873acf388a28ddc35c0168a129f411c228a38f021"
   }
  }
 },
 "nbformat": 4,
 "nbformat_minor": 5
}
