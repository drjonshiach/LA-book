{
 "cells": [
  {
   "cell_type": "markdown",
   "id": "c19fe4bb",
   "metadata": {},
   "source": [
    "(points-section)=\n",
    "## Points\n",
    "\n",
    "In his works the *Elements*, Euclid described a *point* as *\"that which has no part\"*. A point has position only, it has no length, width or thickness, and thus no area or volume. As we have [already seen](euclidean-space-section), a typical point in $\\mathbb{R}^n$ is described by its co-ordinates $(a_1,a_2,\\dots,a_n)$, where the $a_i \\in \\mathbb{R}$. We also think of $\\mathbb{R}^0$ as a single point. This might seem a bit strange because what does a $0$-tuple even mean? However, it makes sense for us to adopt this absolutely standard convention.\n",
    "\n",
    "```{figure} ../Images/R3.png\n",
    ":name: point-in-R3-figure\n",
    "\n",
    "The position of a point in $\\mathbb{R}^3$ can be defined by its co-ordinates $(x, y, z)$.\n",
    "```"
   ]
  }
 ],
 "metadata": {
  "kernelspec": {
   "display_name": "Python 3.8.8 ('base')",
   "language": "python",
   "name": "python3"
  },
  "language_info": {
   "codemirror_mode": {
    "name": "ipython",
    "version": 3
   },
   "file_extension": ".py",
   "mimetype": "text/x-python",
   "name": "python",
   "nbconvert_exporter": "python",
   "pygments_lexer": "ipython3",
   "version": "3.8.8"
  },
  "vscode": {
   "interpreter": {
    "hash": "92823f6e86cf602d85e9e47873acf388a28ddc35c0168a129f411c228a38f021"
   }
  }
 },
 "nbformat": 4,
 "nbformat_minor": 5
}
