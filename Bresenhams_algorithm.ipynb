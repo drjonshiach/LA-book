{
  "cells": [
    {
      "cell_type": "markdown",
      "metadata": {
        "id": "view-in-github",
        "colab_type": "text"
      },
      "source": [
        "<a href=\"https://colab.research.google.com/github/jonshiach/LA-book/blob/main/Bresenhams_algorithm.ipynb\" target=\"_parent\"><img src=\"https://colab.research.google.com/assets/colab-badge.svg\" alt=\"Open In Colab\"/></a>"
      ]
    },
    {
      "cell_type": "markdown",
      "id": "7076c7e6",
      "metadata": {
        "id": "7076c7e6"
      },
      "source": [
        "# Bresenham's algorithm\n",
        "\n",
        "Jon Shiach\n",
        "\n",
        "---\n",
        "\n",
        "Bresenham's line drawing algorithm rasterises a straight line joining two points with pixel co-ordinates `(x0, y0)` and `(x1, y1)` on the raster array `R`. See [Bresenham's algorithm](https://jonshiach.github.io/graphics-book/jupyter-notebooks/1.1_Bresenhams_algorithm.html) for more details.\n",
        "\n",
        "```\n",
        "function drawline(R, x0, y0, x1, y1, colour)\n",
        "\n",
        "x := x0 and y := y0\n",
        "dx := |x1 - x0| and dy := |y1 - y|\n",
        "D := \\Delta x - \\Delta y\n",
        "xstep := 1 and ystep := 1\n",
        "if x > x1 then\n",
        "    xstep := -1 \n",
        "if y > y1 then\n",
        "    ystep := -1  \n",
        "while true do\n",
        "    R(y,x) := colour\n",
        "    if x = x1 and y = y1 then\n",
        "        break\n",
        "    E := 2D\n",
        "    if E \\geq -\\Delta y then\n",
        "        x := x + xstep\n",
        "        D := D - \\Delta y \n",
        "    if E <= \\Delta x then\n",
        "        y := y + ystep\n",
        "        D := D + \\Delta x   \n",
        "\n",
        "  return R\n",
        "  ``` "
      ]
    },
    {
      "cell_type": "code",
      "execution_count": 1,
      "id": "327ffd68",
      "metadata": {
        "tags": [
          "remove-cell"
        ],
        "id": "327ffd68",
        "outputId": "8c89ced6-1bf7-4896-f6c3-115cb66aafc4",
        "colab": {
          "base_uri": "https://localhost:8080/",
          "height": 485
        }
      },
      "outputs": [
        {
          "output_type": "display_data",
          "data": {
            "text/plain": [
              "<Figure size 576x576 with 1 Axes>"
            ],
            "image/png": "[encoded data removed]"
          },
          "metadata": {
            "needs_background": "light"
          }
        }
      ],
      "source": [
        "import numpy as np\n",
        "import matplotlib.pyplot as plt\n",
        "\n",
        "def drawline(R, x0, y0, x1, y1, colour):\n",
        "    x, y = x0, y0\n",
        "    dx, dy = abs(x1 - x0), abs(y1 - y0)\n",
        "    D = dx - dy\n",
        "    xstep, ystep = 1, 1\n",
        "    if x0 > x1:\n",
        "        xstep = -1\n",
        "    if y0 > y1:\n",
        "        ystep = -1\n",
        "\n",
        "    while True:\n",
        "        R[y, x, :] = colour\n",
        "        if x == x1 and y == y1:\n",
        "            return R\n",
        "        E = 2 * D\n",
        "        if E >= -dy:\n",
        "            x += xstep\n",
        "            D -= dy\n",
        "        if E <= dx:\n",
        "            y += ystep\n",
        "            D += dx\n",
        "\n",
        "\n",
        "def pixelcoords(x, y, Nx, Ny):\n",
        "    xp = int(x * Nx)\n",
        "    yp = int((1 - y) * Ny)\n",
        "    return xp, yp\n",
        "\n",
        "\n",
        "# Initialise raster array (Nx x Ny x 3 integer array of 255's)\n",
        "Nx, Ny = 100, 100\n",
        "R = 255 * np.ones((Ny, Nx, 3)).astype(int)\n",
        "\n",
        "# Draw lines\n",
        "nlines = 10\n",
        "for _ in range(nlines):\n",
        "  \n",
        "  # Determine random endpoint co-ordinates and line colour\n",
        "  x0, y0, x1, y1 = [np.random.rand() for _ in range(4)]\n",
        "  colour = np.random.randint(0, 255, 3)\n",
        "\n",
        "  # Convert endpoint co-ordinates to pixel co-ordinates\n",
        "  x0, y0 = pixelcoords(x0, y0, Nx, Ny)\n",
        "  x1, y1 = pixelcoords(x1, y1, Nx, Ny)\n",
        "  R = drawline(R, x0, y0, x1, y1, colour)\n",
        "\n",
        "# Plot raster\n",
        "fig, ax = plt.subplots(figsize=(8,8))\n",
        "plt.imshow(R)\n",
        "plt.show()"
      ]
    }
  ],
  "metadata": {
    "celltoolbar": "Tags",
    "kernelspec": {
      "display_name": "base",
      "language": "python",
      "name": "python3"
    },
    "language_info": {
      "codemirror_mode": {
        "name": "ipython",
        "version": 3
      },
      "file_extension": ".py",
      "mimetype": "text/x-python",
      "name": "python",
      "nbconvert_exporter": "python",
      "pygments_lexer": "ipython3",
      "version": "3.8.8"
    },
    "vscode": {
      "interpreter": {
        "hash": "92823f6e86cf602d85e9e47873acf388a28ddc35c0168a129f411c228a38f021"
      }
    },
    "colab": {
      "provenance": [],
      "include_colab_link": true
    }
  },
  "nbformat": 4,
  "nbformat_minor": 5
}