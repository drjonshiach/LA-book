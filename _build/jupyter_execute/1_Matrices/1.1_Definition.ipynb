{
 "cells": [
  {
   "cell_type": "markdown",
   "id": "c07eec30",
   "metadata": {},
   "source": [
    "(definition-of-a-matrix-section)=\n",
    "# Definition\n",
    "\n",
    "A **matrix** (plural **matrices**) is a rectangular array of elements which can be numbers, mathematical expressions, symbols, or even other matrices. Matrices are arranged in rows and columns and enclosed by parentheses (or sometimes square brackets), for example\n",
    "\n",
    "\\begin{align*}\n",
    "    \\begin{pmatrix}\n",
    "        1 & 2 & 3 \\\\\n",
    "        4 & 5 & 6\n",
    "    \\end{pmatrix}.\n",
    "\\end{align*}\n",
    "    \n",
    "This matrix contains 6 elements arranged in 2 (horizontal) rows and 3 (vertical) columns.\n",
    "\n",
    "````{admonition} Definition: Dimension of a matrix\n",
    ":class: note\n",
    ":name: dimension-of-a-matrix-definition\n",
    "\n",
    "The dimension or size of a matrix is defined to be **rows** $\\times$ **columns**, where 'rows' is the number of horizontal rows and 'columns' the number of vertical columns of said matrix. If rows $=$ columns we say that the matrix is a square matrix.\n",
    "\\begin{align*}\n",
    "    &\\,\\,\\,\\begin{matrix} \\leftarrow & \\!\\!\\text{columns}\\!\\! & \\rightarrow \\end{matrix} \\\\\n",
    "    \\begin{matrix} \\uparrow \\\\ \\text{rows} \\\\ \\downarrow \\end{matrix}\n",
    "    &\\begin{pmatrix}\n",
    "        \\square & \\square & \\cdots & \\square \\\\\n",
    "        \\square & \\square & \\cdots & \\square \\\\\n",
    "        \\vdots & \\vdots & \\ddots & \\vdots \\\\\n",
    "        \\square & \\square & \\cdots & \\square\n",
    "    \\end{pmatrix}\n",
    "\\end{align*}\n",
    "````\n",
    "\n",
    "````{admonition} Example 1.1\n",
    ":class: seealso\n",
    ":name: matrix-dimension-example\n",
    "\n",
    "Determine the dimensions of the following matrices:\n",
    "\n",
    "&emsp; (i) &emsp; $A = \\begin{pmatrix} 1 & 2 \\\\ 3 & 4 \\end{pmatrix}$\n",
    "\n",
    "&emsp; (ii) &emsp; $B = \\begin{pmatrix} a & b \\\\ c & d \\\\ e & f \\end{pmatrix}$\n",
    "\n",
    "&emsp; (iii) &emsp; $C = \\begin{pmatrix} \\sin(x) & \\ln(x) & \\cos(x+1) \\end{pmatrix}$\n",
    "\n",
    "&emsp; (iv) &emsp; $D = \\begin{pmatrix} 0 \\end{pmatrix}$\n",
    "\n",
    "```{dropdown} Solution\n",
    "\n",
    "&emsp; (i) &emsp; $2\\times 2 $\n",
    "\n",
    "&emsp; (ii) &emsp; $3\\times 2$\n",
    "\n",
    "&emsp; (iii) &emsp; $1 \\times 3$\n",
    "\n",
    "&emsp; (iv) &emsp; $1 \\times 1$\n",
    "```\n",
    "````\n",
    "\n",
    "## Python code\n",
    "\n",
    "To define and perform operations on matrices in Python we can use the [SymPy](https://www.sympy.org/en/index.html) library (short for *symbolic Python*) library. A matrix can then be defined using the `sym.Matrix` command, for example"
   ]
  },
  {
   "cell_type": "code",
   "execution_count": 1,
   "id": "2bf7f274",
   "metadata": {},
   "outputs": [
    {
     "data": {
      "text/latex": [
       "$\\displaystyle \\left[\\begin{matrix}1 & 2\\\\3 & 4\\end{matrix}\\right]$"
      ],
      "text/plain": [
       "Matrix([\n",
       "[1, 2],\n",
       "[3, 4]])"
      ]
     },
     "metadata": {},
     "output_type": "display_data"
    }
   ],
   "source": [
    "import sympy as sym\n",
    "\n",
    "A = sym.Matrix([[1, 2], [3, 4]])\n",
    "display(A)"
   ]
  },
  {
   "cell_type": "markdown",
   "id": "16911a05",
   "metadata": {},
   "source": [
    "Note that the matrix is defined using square brackets and each row is contained within another pair of square brackets. Commas separate elements in the same row and the different rows of a matrix. \n",
    "\n",
    "The command for determining the number of rows and columns of a matrix `A` is `A.shape` which returns a 2-tuple containing. The following code defines the matrix $A$ from [example 1.1](matrix-dimension-example) and outputs its dimensions"
   ]
  },
  {
   "cell_type": "code",
   "execution_count": 2,
   "id": "5d5142f1",
   "metadata": {},
   "outputs": [
    {
     "name": "stdout",
     "output_type": "stream",
     "text": [
      "The matrix A is an 2 x 2 matrix\n"
     ]
    }
   ],
   "source": [
    "nrows, ncols = A.shape\n",
    "print(f\"The matrix A is an {nrows} x {ncols} matrix\")"
   ]
  },
  {
   "cell_type": "markdown",
   "id": "79edc3b2",
   "metadata": {},
   "source": [
    "(indexing-a-matrix-section)=\n",
    "## Indexing a matrix\n",
    "\n",
    "Matrices are typically labeled using uppercase characters (e.g. $A$) and the elements of a matrix are labeled with the corresponding lowercase character (e.g. $a$). Individual entries of a matrix are **indexed** using two subscript indices: $a_{ij}$ where $i$ corresponds to the row number reading from top to bottom and $j$ is the column number reading from left to right. \n",
    "\n",
    "For example, let $A$ be an $m\\times n$ matrix then\n",
    "\n",
    "$$A = \\begin{pmatrix}\n",
    "  a_{11} & a_{12} & \\cdots & a_{1n} \\\\\n",
    "  a_{21} & a_{22} & \\cdots & a_{2n} \\\\\n",
    "  \\vdots & \\vdots & \\ddots & \\vdots \\\\\n",
    "  a_{m1} & a_{m2} & \\cdots & a_{mn} \n",
    "\\end{pmatrix}.$$\n",
    "\n",
    "Some alternate notation includes\n",
    "\n",
    "$$a_{ij} = [A]_{ij} = A[i,j].$$\n",
    "\n",
    "`````{admonition} Example 1.2\n",
    ":class: seealso\n",
    ":name: matrix-indexing-example\n",
    "\n",
    "Given the matrix \n",
    "$A = \\begin{pmatrix}\n",
    "    2 & 0 & -3 \\\\\n",
    "    1 & 7 & 4 \n",
    "\\end{pmatrix},$ \n",
    "\n",
    "write down the following elements:\n",
    "\n",
    "&emsp; (i) &emsp; $a_{11}$\n",
    "\n",
    "&emsp; (ii) &emsp; $a_{13}$\n",
    "\n",
    "&emsp; (iii) &emsp; $[A]_{21}$\n",
    "\n",
    "&emsp; (iv) &emsp; $A[2,2]$\n",
    "\n",
    "````{dropdown} Solution\n",
    "\n",
    "&emsp; (i)  &emsp; $a_{11} = 2$\n",
    "\n",
    "&emsp; (ii) &emsp; $a_{13} = -3$\n",
    "\n",
    "&emsp; (iii) &emsp; $[A]_{21} = 1$\n",
    "\n",
    "&emsp; (iv) &emsp; $A[2,2] = 7$\n",
    "    \n",
    "````\n",
    "`````\n",
    "\n",
    "### Python code\n",
    "\n",
    "Matrices and arrays in Python are indexed using the syntax `A[i,j]` which returns the value of the element in row `i` and column `j`. \n",
    "\n",
    "```{important}\n",
    "Python is a **zero indexing** language which means indexing starts at zero. So to index the element $a_{23}$ we would use `a[1,2]` i.e., remember to subtract 1 from the indices.\n",
    "```\n",
    "\n",
    "The following code defines the matrix $A$ from [example 1.2](matrix-indexing-example) and outputs the values of the indexed elements. "
   ]
  },
  {
   "cell_type": "code",
   "execution_count": 3,
   "id": "bc8141a5",
   "metadata": {},
   "outputs": [
    {
     "data": {
      "text/latex": [
       "$\\displaystyle \\left[\\begin{matrix}2 & 0 & -3\\\\1 & 7 & 4\\end{matrix}\\right]$"
      ],
      "text/plain": [
       "Matrix([\n",
       "[2, 0, -3],\n",
       "[1, 7,  4]])"
      ]
     },
     "metadata": {},
     "output_type": "display_data"
    },
    {
     "name": "stdout",
     "output_type": "stream",
     "text": [
      "(i)   a_11 = 2\n",
      "(ii)  a_13 = -3\n",
      "(iii) [A]_21 = 1\n",
      "(iv)  A[2,2] = 7\n"
     ]
    }
   ],
   "source": [
    "A = sym.Matrix([[2, 0, -3], [1, 7, 4]])\n",
    "display(A)\n",
    "\n",
    "print(f\"(i)   a_11 = {A[0,0]}\")\n",
    "print(f\"(ii)  a_13 = {A[0,2]}\")\n",
    "print(f\"(iii) [A]_21 = {A[1,0]}\")\n",
    "print(f\"(iv)  A[2,2] = {A[1,1]}\")"
   ]
  }
 ],
 "metadata": {
  "kernelspec": {
   "display_name": "Python 3",
   "language": "python",
   "name": "python3"
  },
  "language_info": {
   "codemirror_mode": {
    "name": "ipython",
    "version": 3
   },
   "file_extension": ".py",
   "mimetype": "text/x-python",
   "name": "python",
   "nbconvert_exporter": "python",
   "pygments_lexer": "ipython3",
   "version": "3.9.13"
  }
 },
 "nbformat": 4,
 "nbformat_minor": 5
}