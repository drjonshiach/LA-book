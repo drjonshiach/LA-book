{
 "cells": [
  {
   "cell_type": "markdown",
   "id": "c07eec30",
   "metadata": {},
   "source": [
    "(matrices-chapter)=\n",
    "# Matrices\n",
    "\n",
    "Matrices are a set of numbers or other mathematical object that are arranged in a rectangular array. They provide us with a convenient way to represent systems of equations, sets of co-ordinates, collections of vectors and transformations. They are fundamental to the field of linear algebra which is why we are going to start the unit with looking at them.\n",
    "\n",
    "## Learning outcomes\n",
    "\n",
    "On successful completion of this chapter students will be able to:\n",
    "\n",
    "-  define and [index](indexing-a-matrix-section) matrices;\n",
    "-  perform the arithmetic operations of [addition](matrix-addition-section), [multiplication by a scalar](scalar-multiplication-of-matrices), [matrix multiplication](matrix-multiplication-definition), [matrix exponents](matrix-exponents-definition) and [matrix transpose](matrix-transpose-definition);  \n",
    "-  recognise and define special matrices such as [diagonal matrices](diagonal-matrix-definition), the [zero matrix](zero-matrix-definition), the [identity matrix](identity-matrix-definition) and [symmetric matrices](symmetric-matrix-definition);\n",
    "-  calculate the determinant of a [$2\\times 2$](2x2-determinant-definition) and [$n\\times n$](nxn-determinant-definition) matrix, the [adjoint](adjoint-definition) and [inverse]&emsp; (inverse-matrix-definition) of a non-singular square matrix using the [adjoint-determinant formula](adjoint-determinant-formula-definition);\n",
    "- perform [algebraic manipulation](matrix-algebra-section) of equations involving matrices. \n",
    "\n",
    "---\n",
    "\n"
   ]
  }
 ],
 "metadata": {
  "kernelspec": {
   "display_name": "Python 3",
   "language": "python",
   "name": "python3"
  },
  "language_info": {
   "codemirror_mode": {
    "name": "ipython",
    "version": 3
   },
   "file_extension": ".py",
   "mimetype": "text/x-python",
   "name": "python",
   "nbconvert_exporter": "python",
   "pygments_lexer": "ipython3",
   "version": "3.9.7"
  }
 },
 "nbformat": 4,
 "nbformat_minor": 5
}