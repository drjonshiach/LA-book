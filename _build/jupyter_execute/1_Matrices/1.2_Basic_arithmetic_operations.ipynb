{
 "cells": [
  {
   "cell_type": "markdown",
   "id": "b04681b5",
   "metadata": {},
   "source": [
    "(basic-arithmetic-operations-section)=\n",
    "# Basic arithmetic operations\n",
    "\n",
    "So far, we have given a fancy name to a rectangular array of objects and showed how we can index its elements. Now we are going to fully develop an algebra for matrices. A system, where there are operations of addition and multiplication and necessarily rules that accompany them. This system resembles that of real numbers but we will see some differences and new concepts. For simplicity, we are going to assume that the entries of our matrices are numbers, however the developed theory applies to a broader range of objects.\n",
    "\n",
    "## Matrix equality\n",
    "\n",
    "````{admonition} Definition: Matrix equality \n",
    ":class: note\n",
    ":name: matrix-equality-definition\n",
    "\n",
    "We say that an $m \\times n$ matrix $A$ and an $p \\times q$ matrix $B$ are **equal** and write $A = B$ if and only if **both** of the following conditions are satisfied:\n",
    "\n",
    "- they have the same dimensions, in other words $m = p$ and $n = q$;\n",
    "- for all $1 \\leq i \\leq m$ and $1 \\leq j \\leq n$, $a_{ij} = b_{ij}$.\n",
    "````\n",
    "\n",
    "For example, consider the following matrices\n",
    "\n",
    "\\begin{align*}\n",
    "    A &= \\begin{pmatrix} 1 & 2 \\\\ 3 & 4 \\end{pmatrix}, &\n",
    "    B &= \\begin{pmatrix} 1 & 2 & 5 \\\\ 3 & 4 & 6 \\end{pmatrix}, &\n",
    "    C &= \\begin{pmatrix} 3^0 & \\sqrt{4} \\\\ 1 + 2 & 2^2 \\end{pmatrix}.\n",
    "\\end{align*}\n",
    "\n",
    "Here $A \\neq B$ since $A$ has 2 columns and $B$ has 3 columns. However, $A=C$ because both $A$ and $C$ have the same number of rows and columns and all of the corresponding elements are equal.\n",
    "\n",
    "### Python code\n",
    "\n",
    "To determine whether two SymPy matrices are equal we use the `==` operator."
   ]
  },
  {
   "cell_type": "code",
   "execution_count": 1,
   "id": "b2eb85a5",
   "metadata": {},
   "outputs": [
    {
     "ename": "ModuleNotFoundError",
     "evalue": "No module named 'sympy'",
     "output_type": "error",
     "traceback": [
      "\u001b[0;31m---------------------------------------------------------------------------\u001b[0m",
      "\u001b[0;31mModuleNotFoundError\u001b[0m                       Traceback (most recent call last)",
      "Cell \u001b[0;32mIn [1], line 1\u001b[0m\n\u001b[0;32m----> 1\u001b[0m \u001b[38;5;28;01mimport\u001b[39;00m \u001b[38;5;21;01msympy\u001b[39;00m \u001b[38;5;28;01mas\u001b[39;00m \u001b[38;5;21;01msym\u001b[39;00m\n\u001b[1;32m      3\u001b[0m A \u001b[38;5;241m=\u001b[39m sym\u001b[38;5;241m.\u001b[39mMatrix([[\u001b[38;5;241m1\u001b[39m, \u001b[38;5;241m2\u001b[39m], [\u001b[38;5;241m3\u001b[39m, \u001b[38;5;241m4\u001b[39m]])\n\u001b[1;32m      4\u001b[0m B \u001b[38;5;241m=\u001b[39m sym\u001b[38;5;241m.\u001b[39mMatrix([[\u001b[38;5;241m1\u001b[39m, \u001b[38;5;241m2\u001b[39m, \u001b[38;5;241m5\u001b[39m], [\u001b[38;5;241m3\u001b[39m, \u001b[38;5;241m4\u001b[39m, \u001b[38;5;241m6\u001b[39m]])\n",
      "\u001b[0;31mModuleNotFoundError\u001b[0m: No module named 'sympy'"
     ]
    }
   ],
   "source": [
    "import sympy as sym\n",
    "\n",
    "A = sym.Matrix([[1, 2], [3, 4]])\n",
    "B = sym.Matrix([[1, 2, 5], [3, 4, 6]])\n",
    "C = sym.Matrix([[3 ** 0, sym.sqrt(4)], [1 + 2, 2 ** 2]])\n",
    "\n",
    "AequalB = A == B\n",
    "AequalC = A == C\n",
    "BequalC = B == C\n",
    "print(f\"A = B: {AequalB}\")\n",
    "print(f\"A = C: {AequalC}\")\n",
    "print(f\"B = C: {BequalC}\")"
   ]
  },
  {
   "cell_type": "markdown",
   "id": "40461490",
   "metadata": {},
   "source": [
    "(matrix-addition-section)=\n",
    "## Matrix addition\n",
    "\n",
    "````{admonition} Definition: Matrix addition and subtraction \n",
    ":class: note\n",
    ":name: matrix-addition-definition\n",
    "\n",
    "Let $A$ and $B$ be two $m \\times n$ matrices. The addition or subtraction of two $m \\times n$ matrices $A$ and $B$ is an $m \\times n$ matrix $A \\pm B$ defined by:\n",
    "\n",
    "$$[A \\pm B]_{ij} = a_{ij} \\pm b_{ij},$$\n",
    "    \n",
    "where $1 \\leq i \\leq m$ and $1 \\leq j \\leq n$.\n",
    "\\begin{align*}\n",
    "    \\begin{pmatrix}\n",
    "        a_{11} & a_{12} & \\cdots & a_{1n} \\\\\n",
    "        a_{21} & a_{22} & \\cdots & a_{2n} \\\\\n",
    "        \\vdots & \\vdots & \\ddots & \\vdots \\\\\n",
    "        a_{m1} & a_{m2} & \\cdots & a_{mn}\n",
    "    \\end{pmatrix} \\pm \n",
    "    \\begin{pmatrix}\n",
    "        b_{11} & b_{12} & \\cdots & b_{1n} \\\\\n",
    "        b_{21} & b_{22} & \\cdots & b_{2n} \\\\\n",
    "        \\vdots & \\vdots & \\ddots & \\vdots \\\\\n",
    "        b_{m1} & b_{m2} & \\cdots & b_{mn}\n",
    "    \\end{pmatrix} \\\\\n",
    "    =\n",
    "    \\begin{pmatrix}\n",
    "        a_{11} \\pm b_{11} & a_{12} \\pm b_{12} & \\cdots & a_{1n} \\pm b_{1n} \\\\\n",
    "        a_{21} \\pm b_{21} & a_{22} \\pm b_{22} & \\cdots & a_{2n} \\pm a_{2n} \\\\\n",
    "        \\vdots & \\vdots & \\ddots & \\vdots \\\\\n",
    "        a_{m1} \\pm b_{m1} & a_{m2} \\pm b_{m2} & \\cdots & a_{mn} \\pm b_{mn}\n",
    "    \\end{pmatrix}.\n",
    "\\end{align*}\n",
    "````\n",
    "\n",
    "The addition and subtraction of two matrices of different sizes is **not defined**.\n",
    "\n",
    "````{admonition} Theorem: Properties of matrix addition\n",
    ":class: important\n",
    ":name: properties-of-matrix-addition-theorem\n",
    "\n",
    "For all $m \\times n$ matrices $A,B$ and $C$, the following conditions are satisfied:\n",
    "\n",
    "- matrix addition is commutative, i.e., $A + B = B + A$;\n",
    "- matrix addition is associative, i.e., $A + (B + C) = (A + B) + C$.\n",
    "````\n",
    "\n",
    "`````{admonition} Example 1.3\n",
    ":class: seealso\n",
    ":name: matrix-addition-example\n",
    "\n",
    "Evaluate the following:\n",
    "\n",
    "&emsp; (i) &emsp; $\\begin{pmatrix} 1 & 2 \\\\ 3 & 4 \\end{pmatrix} + \\begin{pmatrix} 5 & 6 \\\\ 7 & 8 \\end{pmatrix}$\n",
    "\n",
    "&emsp; (ii) &emsp; $\\begin{pmatrix} 2 \\\\ 3 \\\\ 5 \\end{pmatrix} - \\begin{pmatrix} 7 \\\\ -11 \\\\ -13 \\end{pmatrix}$\n",
    "\n",
    "&emsp; (iii) &emsp; $\\begin{pmatrix} 1 & 3 & 5 \\\\ 7 & 9 & 11 \\end{pmatrix} + \\begin{pmatrix}2 & 3 \\\\ 5 & 7 \\end{pmatrix}$\n",
    "\n",
    "\n",
    "````{dropdown} Solution\n",
    "\n",
    "&emsp; (i) &emsp; $\\begin{pmatrix} 1 & 2 \\\\ 3 & 4 \\end{pmatrix} + \\begin{pmatrix} 5 & 6 \\\\ 7 & 8 \\end{pmatrix} = \\begin{pmatrix} 1 + 5 & 2 + 6 \\\\ 3 + 7 & 4 + 8 \\end{pmatrix}= \\begin{pmatrix}6 & 8 \\\\ 10 & 12 \\end{pmatrix}$\n",
    "\n",
    "&emsp; (ii) &emsp; $\\begin{pmatrix} 2 \\\\ 3 \\\\ 5 \\end{pmatrix} - \\begin{pmatrix} 7 \\\\ -11 \\\\ -13 \\end{pmatrix} = \\begin{pmatrix}2 - 7 \\\\ 3 + 11 \\\\ 5 + 13 \\end{pmatrix} = \\begin{pmatrix} -5 \\\\ 14 \\\\ 18\\end{pmatrix}$\n",
    "\n",
    "&emsp; (iii) &emsp; undefined since the left matrix is $2\\times 3$ and the right matrix is $2\\times 2$\n",
    "````\n",
    "`````\n",
    "\n",
    "### Python code\n",
    "\n",
    "The Python command for calculating the sum of two matrices `A` and `B` is simply `A + B`. The Python code below calculates the solution to question &emsp; (i) from [example 1.3](matrix-addition-example)."
   ]
  },
  {
   "cell_type": "code",
   "execution_count": 4,
   "id": "1233e23d",
   "metadata": {},
   "outputs": [
    {
     "data": {
      "text/latex": [
       "$\\displaystyle \\left[\\begin{matrix}6 & 8\\\\10 & 12\\end{matrix}\\right]$"
      ],
      "text/plain": [
       "Matrix([\n",
       "[ 6,  8],\n",
       "[10, 12]])"
      ]
     },
     "metadata": {},
     "output_type": "display_data"
    }
   ],
   "source": [
    "A = sym.Matrix([[1, 2], [3, 4]])\n",
    "B = sym.Matrix([[5, 6], [7, 8]])\n",
    "\n",
    "AplusB = A + B\n",
    "display(AplusB)"
   ]
  },
  {
   "cell_type": "markdown",
   "id": "dc2cf3c2",
   "metadata": {},
   "source": [
    "(scalar-multiplication-of-matrices)=\n",
    "## Scalar multiplication of matrices\n",
    "\n",
    "````{admonition} Definition: Scalar multiplication \n",
    ":class: note\n",
    ":name: scalar-multiplication-of-a-matrix-definition\n",
    "\n",
    "The scalar multiplication of an $m \\times n$ matrix by a scalar is calculated by multiplying each element in the matrix by the scalar\n",
    "\n",
    "\\begin{align*}\n",
    "    k[A]_{ij} = ka_{ij}, \\qquad i = 1, \\ldots, m, \\quad j = 1, \\ldots, n.\n",
    "\\end{align*}\n",
    "\n",
    "\\begin{align*}\n",
    "    k \\begin{pmatrix}\n",
    "        a_{11} & a_{12} & \\cdots & a_{1n} \\\\\n",
    "        a_{21} & a_{22} & \\cdots & a_{2n} \\\\\n",
    "        \\vdots & \\vdots & \\ddots & \\vdots \\\\\n",
    "        a_{m1} & a_{m2} & \\cdots & a_{mn}\n",
    "    \\end{pmatrix} = \n",
    "    \\begin{pmatrix}\n",
    "        ka_{11} & ka_{12} & \\cdots & ka_{1n} \\\\\n",
    "        ka_{21} & ka_{22} & \\cdots & ka_{2n} \\\\\n",
    "        \\vdots & \\vdots & \\ddots & \\vdots \\\\\n",
    "        ka_{m1} & ka_{m2} & \\cdots & ka_{mn}\n",
    "    \\end{pmatrix}\n",
    "\\end{align*}\n",
    "````\n",
    "\n",
    "````{admonition} Theorem: Properties of scalar multiplication of matrices\n",
    ":class: important\n",
    ":name: properties-of-scalar-multiplication-of-matrices-theorem\n",
    "\n",
    "Let $A$ and $B$ be two $m \\times n$ matrices and $k$ and $\\ell$ are scalars, then\n",
    "\n",
    "- scalar multiplication is commutative: $kA=Ak$;\n",
    "- scalar multiplication is distributive over matrix addition: $k(A + B) = kA + kB$;\n",
    "- scalar multiplication is distributive over scalar addition: $(k+\\ell)A = kA + \\ell A$;\n",
    "- scalar multiplication is associative: $k(\\ell A) = (k \\ell)A$;\n",
    "- multiplication by $-1$ gives the additive inverse: $(-1)A = -A$.\n",
    "\n",
    "````\n",
    "\n",
    "`````{admonition} Example 1.4\n",
    ":class: seealso\n",
    ":name: scalar-multiplication-of-matrices-example\n",
    "\n",
    "Evaluate the following:\n",
    "\n",
    "\n",
    "&emsp; (i) &emsp; $2 \\begin{pmatrix} 1 & 2 \\\\ 3 & 4 \\end{pmatrix}$\n",
    "\n",
    "&emsp; (ii) &emsp; $\\dfrac{1}{2} \\begin{pmatrix} 0 & -1 \\\\ 3 & 2 \\\\ 4 & -2 \\end{pmatrix}$\n",
    "\n",
    "&emsp; (iii) &emsp; $\\dfrac{1}{3} \\begin{pmatrix}1 & 6 & 4 \\\\ 0 & 3 & -1 \\end{pmatrix}$\n",
    "\n",
    "&emsp; (iv) &emsp; $101 \\begin{pmatrix} 1 & 2 \\\\ 0 & 1 \\end{pmatrix} - 99 \\begin{pmatrix} 1 & 2 \\\\ 0 & 1 \\end{pmatrix}$\n",
    "\n",
    "````{dropdown} Solution\n",
    "\n",
    "&emsp; (i) &emsp; $2 \\begin{pmatrix} 1 & 2 \\\\ 3 & 4 \\end{pmatrix} = \\begin{pmatrix}2 & 4 \\\\ 6 & 8 \\end{pmatrix}$\n",
    "\n",
    "&emsp; (ii) &emsp; $\\dfrac{1}{2} \\begin{pmatrix} 0 & -1 \\\\ 3 & 2 \\\\ 4 & -2 \\end{pmatrix} =  \\begin{pmatrix} 0 & -\\frac{1}{2} \\\\ \\frac{3}{2} & 1 \\\\ 2 & -1 \\end{pmatrix}$\n",
    "\n",
    "&emsp; (iii) &emsp; $\\dfrac{1}{3} \\begin{pmatrix}1 & 6 & 4 \\\\ 0 & 3 & -1 \\end{pmatrix} = \\begin{pmatrix} \\frac{1}{3} & 2 & \\frac{4}{3} \\\\ 0 & 1 & -\\frac{1}{3} \\end{pmatrix}$\n",
    "\n",
    "&emsp; (iv) &emsp; $101\\begin{pmatrix} 1 & 2 \\\\ 0 & 1 \\end{pmatrix} - 99 \\begin{pmatrix} 1 & 2 \\\\ 0 & 1 \\end{pmatrix} = 2 \\begin{pmatrix} 1 & 2 \\\\ 0 & 1 \\end{pmatrix} =  \\begin{pmatrix} 2 & 4 \\\\ 0 & 2 \\end{pmatrix}$\n",
    "\n",
    "````\n",
    "`````\n",
    "\n",
    "### Python code\n",
    "\n",
    "The command for multiplying a SymPy matrix `A` by a scalar `k` is simply `k * A`. The following code calculates the solutions [example 1.4](scalar-multiplication-of-matrices-example)."
   ]
  },
  {
   "cell_type": "code",
   "execution_count": 6,
   "id": "cdc34f53",
   "metadata": {},
   "outputs": [
    {
     "name": "stdout",
     "output_type": "stream",
     "text": [
      "(i)\n"
     ]
    },
    {
     "data": {
      "text/latex": [
       "$\\displaystyle \\left[\\begin{matrix}2 & 4\\\\6 & 8\\end{matrix}\\right]$"
      ],
      "text/plain": [
       "Matrix([\n",
       "[2, 4],\n",
       "[6, 8]])"
      ]
     },
     "metadata": {},
     "output_type": "display_data"
    },
    {
     "name": "stdout",
     "output_type": "stream",
     "text": [
      "(ii)\n"
     ]
    },
    {
     "data": {
      "text/latex": [
       "$\\displaystyle \\left[\\begin{matrix}0 & - \\frac{1}{2}\\\\\\frac{3}{2} & 1\\\\2 & -1\\end{matrix}\\right]$"
      ],
      "text/plain": [
       "Matrix([\n",
       "[  0, -1/2],\n",
       "[3/2,    1],\n",
       "[  2,   -1]])"
      ]
     },
     "metadata": {},
     "output_type": "display_data"
    },
    {
     "name": "stdout",
     "output_type": "stream",
     "text": [
      "(iii)\n"
     ]
    },
    {
     "data": {
      "text/latex": [
       "$\\displaystyle \\left[\\begin{matrix}0.333333333333333 & 2.0 & 1.33333333333333\\\\0 & 1.0 & -0.333333333333333\\end{matrix}\\right]$"
      ],
      "text/plain": [
       "Matrix([\n",
       "[0.333333333333333, 2.0,   1.33333333333333],\n",
       "[                0, 1.0, -0.333333333333333]])"
      ]
     },
     "metadata": {},
     "output_type": "display_data"
    },
    {
     "name": "stdout",
     "output_type": "stream",
     "text": [
      "(iv)\n"
     ]
    },
    {
     "data": {
      "text/latex": [
       "$\\displaystyle \\left[\\begin{matrix}2 & 4\\\\0 & 2\\end{matrix}\\right]$"
      ],
      "text/plain": [
       "Matrix([\n",
       "[2, 4],\n",
       "[0, 2]])"
      ]
     },
     "metadata": {},
     "output_type": "display_data"
    }
   ],
   "source": [
    "# (i)\n",
    "A = sym.Matrix([[1, 2], [3, 4]])\n",
    "print(\"(i)\")\n",
    "display(2 * A)\n",
    "\n",
    "# (ii)\n",
    "B = sym.Matrix([[0, -1], [3, 2], [4, -2]])\n",
    "print(\"(ii)\")\n",
    "display(B / 2)\n",
    "\n",
    "# (iii)\n",
    "C = sym.Matrix([[1, 6, 4], [0, 3, -1]])\n",
    "print(\"(iii)\")\n",
    "display(1/3 * C)\n",
    "\n",
    "# (iv)\n",
    "D = sym.Matrix([[1, 2], [0, 1]])\n",
    "print(\"(iv)\")\n",
    "display(101 * D - 99 * D)"
   ]
  }
 ],
 "metadata": {
  "kernelspec": {
   "display_name": "Python 3",
   "language": "python",
   "name": "python3"
  },
  "language_info": {
   "codemirror_mode": {
    "name": "ipython",
    "version": 3
   },
   "file_extension": ".py",
   "mimetype": "text/x-python",
   "name": "python",
   "nbconvert_exporter": "python",
   "pygments_lexer": "ipython3",
   "version": "3.10.8"
  }
 },
 "nbformat": 4,
 "nbformat_minor": 5
}