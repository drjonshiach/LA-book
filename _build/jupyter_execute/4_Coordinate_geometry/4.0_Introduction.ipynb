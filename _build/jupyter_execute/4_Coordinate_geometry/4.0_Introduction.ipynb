{
 "cells": [
  {
   "cell_type": "markdown",
   "id": "c19fe4bb",
   "metadata": {},
   "source": [
    "(coordinate-geometry-chapter)=\n",
    "# Co-ordinate Geometry\n",
    "\n",
    "```{figure} https://upload.wikimedia.org/wikipedia/commons/thumb/7/73/Frans_Hals_-_Portret_van_Ren%C3%A9_Descartes.jpg/800px-Frans_Hals_-_Portret_van_Ren%C3%A9_Descartes.jpg\n",
    "---\n",
    "width: 200px\n",
    "alt: René Descartes\n",
    "figclass : margin\n",
    "---\n",
    "[René Descartes (1596 - 1650)](https://en.wikipedia.org/wiki/Ren%C3%A9_Descartes)\n",
    "```\n",
    "\n",
    "The area of mathematics dealing with describing geometry in terms of coordinate systems, hence as points and vectors, is called **coordinate geometry** or **Cartesian geometry** (named after French mathematician and philosopher [René Descartes](https://en.wikipedia.org/wiki/Ren%C3%A9_Descartes)). In this chapter we systematise the basic knowledge and understanding of points, lines and planes.\n",
    "\n",
    "## Learning outcomes\n",
    "\n",
    "On successful completion of this chapters students will be able to:\n",
    "\n",
    "- define a line using the [vector equation of a line](vector-equation-of-a-line-definition);\n",
    "- determine whether two lines [intersect](line-line-intersection-definition), are [parallel](parallel-lines-definition), [skew](skew-lines-definition) and/or [perpendicular](perpendicular-lines-definition);\n",
    "- define a plane using the [point-normal definition of a plane](point-normal-definition);\n",
    "- determine the [intersection of two planes](intersection-of-planes-section); \n",
    "- calculate the shortest distance between [two points](shortest-distance-between-two-points), [a point and a line](point-line-distance-theorem), [between two skew lines](line-line-distance-theorem) and [a point and a plane](ex4.7)."
   ]
  }
 ],
 "metadata": {
  "kernelspec": {
   "display_name": "Python 3.8.8 ('base')",
   "language": "python",
   "name": "python3"
  },
  "language_info": {
   "codemirror_mode": {
    "name": "ipython",
    "version": 3
   },
   "file_extension": ".py",
   "mimetype": "text/x-python",
   "name": "python",
   "nbconvert_exporter": "python",
   "pygments_lexer": "ipython3",
   "version": "3.10.8"
  },
  "vscode": {
   "interpreter": {
    "hash": "92823f6e86cf602d85e9e47873acf388a28ddc35c0168a129f411c228a38f021"
   }
  }
 },
 "nbformat": 4,
 "nbformat_minor": 5
}