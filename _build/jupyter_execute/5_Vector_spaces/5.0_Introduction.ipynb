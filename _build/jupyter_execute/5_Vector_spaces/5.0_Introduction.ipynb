{
 "cells": [
  {
   "cell_type": "markdown",
   "id": "fdcb5483",
   "metadata": {},
   "source": [
    "(vector-spaces-chapter)=\n",
    "# Vector spaces\n",
    "\n",
    "A vector space is a set of objects called vectors that satisfy axioms of vector addition and scalar multiplication. As the name suggests, vectors in [Euclidean space](euclidean-space-section) that we met in the chapter on vectors form a vector space but so do lots of other types of mathematical objects. The use of the term *vector* when dealing with vector spaces could be matrices, polynomial functions, numbers etc. \n",
    "\n",
    "Vector spaces are abstract and their purpose may not be apparent upon first meeting them. Geoffrey Scott gives a good explanation of <a href=\"https://www.math.toronto.edu/gscott/WhatVS.pdf\" target=\"_blank\">why we need vector spaces</a> which is paraphrased here. Consider the following three problems\n",
    "\n",
    "- Problem 1: Find $x_1, x_2, x_3 \\in \\mathbb{R}$ that satisfy\n",
    "\n",
    "$$\n",
    "    x_1 \\begin{pmatrix} 2 \\\\ -1 \\\\ 1 \\end{pmatrix} + \n",
    "    x_2 \\begin{pmatrix} 1 \\\\ 2 \\\\ 0 \\end{pmatrix} + \n",
    "    x_3 \\begin{pmatrix} 3 \\\\ 1 \\\\ -1 \\end{pmatrix} = \n",
    "    \\begin{pmatrix} 6 \\\\ 2 \\\\ 0 \\end{pmatrix}.\n",
    "$$\n",
    "\n",
    "- Problem 2: Find $x_1, x_2, x_3 \\in \\mathbb{R}$ such that\n",
    "\n",
    "$$ x_1 (2t^2 - t + 1) + x_2 (t^2 + 2t -2) + x_3 (0t^2 + t) = 2t^2 + 5t + 1.$$\n",
    "\n",
    "- Problem 3: Find $x_1, x_2, \\ldots \\in \\mathbb{C}$ such that\n",
    "\n",
    "\\begin{align*}\n",
    "    \\sum_{n=1}^\\infty x_n cos(n \\pi t) = e^{5nt}.\n",
    "\\end{align*}\n",
    "\n",
    "Problems 1, 2 and 3 are described using three different mathematical objects. Problem 1 uses vectors, problem 2 uses polynomials and problem 3 uses trigonometric functions. On further inspection we can see that these three problems are all similar and involve solving a system of linear equations. We know how to solve problem 1 using the methods from the [chapter on systems of linear equations](systems-of-linear-equations-chapter) so can we use these to solve problems 2 and 3 and other problems using different mathematical objects?\n",
    "\n",
    "To answer this we could state theorems for each type of mathematical object, e.g.,\n",
    "\n",
    "> \"Suppose you have a collection of columns vectors *or* polynomials *or* functions *or* any other type of mathematical object that can be multiplied by numbers and added together $\\ldots$\"\n",
    "\n",
    "So every time we encounter a similar problem to the ones above we would need to state a theorem and prove it. Mathematicians like to be concise so the term *vector space* was invented to mean any type of mathematical object that can be multiplied by numbers and added together. So instead of the rambling phrase above we could use\n",
    "\n",
    "> \"Let $V$ be a vector space $\\ldots$\"\n",
    "\n",
    "## Learning outcomes\n",
    "\n",
    "On successful completion of this chapters students will be able to:\n",
    "\n",
    "- identify when a set of objects is a [vector space](vector-space-definition);\n",
    "- identify when a subset of a vector space is a [subspace](subspace-definition);\n",
    "- determine whether elements of a vector space are [linearly dependent or linearly independent](linear-dependence-definition);\n",
    "- identify a [basis](basis-definition), determine the [dimension](vector-space-dimension-definition) of a vector space and represent vectors with respect to a [non-standard basis](change-of-basis-example)."
   ]
  }
 ],
 "metadata": {
  "kernelspec": {
   "display_name": "Python 3.8.8 ('base')",
   "language": "python",
   "name": "python3"
  },
  "language_info": {
   "codemirror_mode": {
    "name": "ipython",
    "version": 3
   },
   "file_extension": ".py",
   "mimetype": "text/x-python",
   "name": "python",
   "nbconvert_exporter": "python",
   "pygments_lexer": "ipython3",
   "version": "3.10.8"
  },
  "vscode": {
   "interpreter": {
    "hash": "92823f6e86cf602d85e9e47873acf388a28ddc35c0168a129f411c228a38f021"
   }
  }
 },
 "nbformat": 4,
 "nbformat_minor": 5
}