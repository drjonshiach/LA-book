{
 "cells": [
  {
   "cell_type": "markdown",
   "metadata": {},
   "source": [
    "# Matrices Exercise Solutions\n",
    "\n",
    "```{solution} matrices-ex1\n",
    "\n",
    "(a) $ A = \\begin{pmatrix} \n",
    "    2 & 3 & 4 \\\\\n",
    "    3 & 4 & 5 \\\\\n",
    "    4 & 5 & 6 \n",
    "    \\end{pmatrix} $\n",
    "\n",
    "(b) $ B = \\begin{pmatrix}\n",
    "        1 & -1 & 1 & -1 \\\\\n",
    "        -1 & 1 & -1 & 1 \\\\\n",
    "        1 & -1 & 1 & -1 \\\\\n",
    "        -1 & 1 & -1 & 1\n",
    "        \\end{pmatrix} $\n",
    "\n",
    "(c) $ C = \\begin{pmatrix}\n",
    "        0 & 1 & 1 & 1 \\\\\n",
    "        -1 & 0 & 1 & 1 \\\\\n",
    "        -1 & -1 & 0 & 1 \\\\\n",
    "        -1 & -1 & -1 & 0\n",
    "    \\end{pmatrix} $\n",
    "```\n",
    "\n",
    "```{solution} matrices-ex2\n",
    "\n",
    "(a) &emsp; $A + B = \\begin{pmatrix} 1 + 3 & -3 + 0 \\\\ 4 + (-1) & 2 + 5 \\end{pmatrix} = \\begin{pmatrix} 4 & -3 \\\\ 3 & 7 \\end{pmatrix}$\n",
    "\n",
    "(b) &emsp; $B + C$ is undefined since $B$ is $2\\times 2$ and $C$ is $2\\times 1$\n",
    "\n",
    "(c) &emsp; $A^\\mathsf{T} = \\begin{pmatrix} 1 & 4 \\\\ -3 & 2 \\end{pmatrix}$\n",
    "\n",
    "(d) &emsp; $C^\\mathsf{T} = \\begin{pmatrix} 5 & 9 \\end{pmatrix}$\n",
    "\n",
    "(e) &emsp; $3 B - A = \\begin{pmatrix} 9 & 0 \\\\ -3 & 15 \\end{pmatrix} - \\begin{pmatrix} 1 & -3 \\\\ 4 & 2 \\end{pmatrix} = \\begin{pmatrix} 8 & 3 \\\\ -7 & 13 \\end{pmatrix}$\n",
    "\n",
    "(f) &emsp;  $(F^\\mathsf{T})^\\mathsf{T} = \\begin{pmatrix} 1 \\\\ 2 \\\\ 4 \\end{pmatrix}^\\mathsf{T} = \\begin{pmatrix} 1 & -2 & 4 \\end{pmatrix} = F$\n",
    "\n",
    "(g) &emsp; $A^\\mathsf{T} + B^\\mathsf{T} = \\begin{pmatrix} 1 & 4 \\\\ -3 & 2 \\end{pmatrix} + \\begin{pmatrix} 3 & -1 \\\\ 0 & 5 \\end{pmatrix} = \\begin{pmatrix} 4 & 3 \\\\ -3 & 7 \\end{pmatrix}$\n",
    "\n",
    "(h) &emsp; $(A + B)^\\mathsf{T} = \\begin{pmatrix} 4 & -3 \\\\ 3 & 7 \\end{pmatrix}^\\mathsf{T} = \\begin{pmatrix} 4 & 3 \\\\ -3 & 7 \\end{pmatrix}$\n",
    "```\n",
    "\n",
    "\n"
   ]
  },
  {
   "cell_type": "code",
   "execution_count": 1,
   "metadata": {
    "tags": [
     "remove-cell"
    ]
   },
   "outputs": [
    {
     "data": {
      "text/latex": [
       "$\\displaystyle (a) \\quad A + B = \\left[\\begin{matrix}4 & -3\\\\3 & 7\\end{matrix}\\right]$"
      ],
      "text/plain": [
       "<IPython.core.display.Math object>"
      ]
     },
     "metadata": {},
     "output_type": "display_data"
    },
    {
     "data": {
      "text/latex": [
       "$\\displaystyle (b) \\quad B + C\\ is\\ undefined$"
      ],
      "text/plain": [
       "<IPython.core.display.Math object>"
      ]
     },
     "metadata": {},
     "output_type": "display_data"
    },
    {
     "data": {
      "text/latex": [
       "$\\displaystyle (c) \\quad A^\\mathsf{T} = \\left[\\begin{matrix}1 & 4\\\\-3 & 2\\end{matrix}\\right]$"
      ],
      "text/plain": [
       "<IPython.core.display.Math object>"
      ]
     },
     "metadata": {},
     "output_type": "display_data"
    },
    {
     "data": {
      "text/latex": [
       "$\\displaystyle (d) \\quad D + E^\\mathsf{T} = \\left[\\begin{matrix}2 & 1 & 1\\\\6 & 4 & 6\\end{matrix}\\right]$"
      ],
      "text/plain": [
       "<IPython.core.display.Math object>"
      ]
     },
     "metadata": {},
     "output_type": "display_data"
    },
    {
     "data": {
      "text/latex": [
       "$\\displaystyle (e) \\quad 3 B - A = \\left[\\begin{matrix}8 & 3\\\\-7 & 13\\end{matrix}\\right]$"
      ],
      "text/plain": [
       "<IPython.core.display.Math object>"
      ]
     },
     "metadata": {},
     "output_type": "display_data"
    },
    {
     "data": {
      "text/latex": [
       "$\\displaystyle (f) \\quad (F^\\mathsf{T})^\\mathsf{T} = \\left[\\begin{matrix}1 & -2 & 4\\end{matrix}\\right]$"
      ],
      "text/plain": [
       "<IPython.core.display.Math object>"
      ]
     },
     "metadata": {},
     "output_type": "display_data"
    },
    {
     "data": {
      "text/latex": [
       "$\\displaystyle (g) \\quad A^\\mathsf{T} + B^\\mathsf{T} = \\left[\\begin{matrix}4 & 3\\\\-3 & 7\\end{matrix}\\right]$"
      ],
      "text/plain": [
       "<IPython.core.display.Math object>"
      ]
     },
     "metadata": {},
     "output_type": "display_data"
    },
    {
     "data": {
      "text/latex": [
       "$\\displaystyle (h) \\quad (A + B)^\\mathsf{T} = \\left[\\begin{matrix}4 & 3\\\\-3 & 7\\end{matrix}\\right]$"
      ],
      "text/plain": [
       "<IPython.core.display.Math object>"
      ]
     },
     "metadata": {},
     "output_type": "display_data"
    }
   ],
   "source": [
    "import sympy as sp\n",
    "from IPython.display import display, Math\n",
    "\n",
    "A = sp.Matrix([[1, -3], [4, 2]])\n",
    "B = sp.Matrix([[3, 0], [-1, 5]])\n",
    "C = sp.Matrix([[5], [9]])\n",
    "D = sp.Matrix([[1, 1, 3], [4, -2, 3]])\n",
    "E = sp.Matrix([[1, 2], [0, 6], [-2, 3]])\n",
    "F = sp.Matrix([[1, -2, 4]])\n",
    "G = sp.Matrix([[4, 2, 3], [-2, 6, 0], [0, 7, 1]])\n",
    "H = sp.Matrix([[1, 0, 1], [5, 2, -2], [2, -3, 4]])\n",
    "\n",
    "display(Math(\"(a) \\quad A + B = \" + sp.latex(A+B)))\n",
    "display(Math(\"(b) \\quad B + C\\ is\\ undefined\"))\n",
    "display(Math(\"(c) \\quad A^\\mathsf{T} = \" + sp.latex(A.T)))\n",
    "display(Math(\"(d) \\quad D + E^\\mathsf{T} = \" + sp.latex(D + E.T)))\n",
    "display(Math(\"(e) \\quad 3 B - A = \" + sp.latex(3*B - A)))\n",
    "display(Math(\"(f) \\quad (F^\\mathsf{T})^\\mathsf{T} = \" + sp.latex(F.T.T)))\n",
    "display(Math(\"(g) \\quad A^\\mathsf{T} + B^\\mathsf{T} = \" + sp.latex(A.T + B.T)))\n",
    "display(Math(\"(h) \\quad (A + B)^\\mathsf{T} = \" + sp.latex((A + B).T)))"
   ]
  },
  {
   "cell_type": "markdown",
   "metadata": {},
   "source": [
    "```{solution} matrices-ex3\n",
    "\n",
    "(a) &emsp; $AB = \\begin{pmatrix} 1 & -3 \\\\ 4 & 2 \\end{pmatrix} \\begin{pmatrix} 3 & 0 \\\\ -1 & 5 \\end{pmatrix} = \\begin{pmatrix} 3 + 3 & 0 - 15 \\\\ 7 - 2 & 0 + 10 \\end{pmatrix} = \\begin{pmatrix}6 & -15 \\\\ 10 & 10 \\end{pmatrix}$\n",
    "\n",
    "(b) &emsp; $BA = \\begin{pmatrix} 3 & 0 \\\\ -1 & 5 \\end{pmatrix}\\begin{pmatrix} 1 & -3 \\\\ 4 & 2 \\end{pmatrix} = \\begin{pmatrix} 3 + 0 & -9 + 0 \\\\ -1 + 20 & 3 + 10 \\end{pmatrix} = \\begin{pmatrix} 3 & -9 \\\\ 19 & 13 \\end{pmatrix}$\n",
    "\n",
    "(c) &emsp; $AC = \\begin{pmatrix} 1 & -3 \\\\ 4 & 2 \\end{pmatrix}\\begin{pmatrix} 5 \\\\ 9 \\end{pmatrix} = \\begin{pmatrix} 15 - 27 \\\\ 20 + 18 \\end{pmatrix} = \\begin{pmatrix} -22 \\\\ 38 \\end{pmatrix}$\n",
    "\n",
    "(d) &emsp; $CA$ is undefined since $C$ has 1 column and $A$ has 2 rows\n",
    "\n",
    "(e) &emsp; $C^\\mathsf{T}C = \\begin{pmatrix} 5 & 9 \\end{pmatrix} \\begin{pmatrix} 5 \\\\ 9 \\end{pmatrix} = 25 + 81 = 106$\n",
    "\n",
    "(f) &emsp; $CC^\\mathsf{T} = \\begin{pmatrix} 5 \\\\ 9 \\end{pmatrix}\\begin{pmatrix} 5 & 9 \\end{pmatrix} = \\begin{pmatrix} 25 & 45 \\\\ 45 & 81 \\end{pmatrix}$\n",
    "\n",
    "(g) &emsp; \n",
    "\n",
    "$$ \\begin{align*}\n",
    "    DE &= \\begin{pmatrix} 1 & 1 & 3 \\\\ 4 & -2 & 3 \\end{pmatrix} \\begin{pmatrix} 1 & 2 \\\\ 0 & 6 \\\\ -2 & 3 \\end{pmatrix} = \\begin{pmatrix} 1 + 0 - 6 & 2 + 6 + 9 \\\\ 4 + 0 - 6 & 8 - 12 + 9 \\end{pmatrix} \\\\\n",
    "    &= \\begin{pmatrix} -5 & 17 \\\\ -2 & 5 \\end{pmatrix}\n",
    "\\end{align*} $$\n",
    "\n",
    "(h) &emsp; \n",
    "\n",
    "$$ \\begin{align*}\n",
    "    GH &= \\begin{pmatrix} 4 & 2 & 3 \\\\ -2 & 6 & 0 \\\\ 0 & 7 & 1 \\end{pmatrix}\n",
    "    \\begin{pmatrix} 1 & 0 & 1 \\\\ 5 & 2 & -2 \\\\ 2 & -3 & 4 \\end{pmatrix} \\\\\n",
    "    &= \\begin{pmatrix} \n",
    "        4 + 10 + 6 & 0 + 4 - 9 & 4 - 4 + 12 \\\\\n",
    "        -2 + 30 + 0 & 0 + 12 + 0 & -2 - 12 + 0 \\\\\n",
    "        0 + 35 + 2 & 0 + 14 - 3 & 0 - 14 + 4\n",
    "    \\end{pmatrix} \\\\\n",
    "    &= \\begin{pmatrix} 20 & -5 & 12 \\\\ 28 & 12 & -14 \\\\ 37 & 11 & -10 \\end{pmatrix}\n",
    "\\end{align*} $$\n",
    "\n",
    "(i) &emsp; \n",
    "\n",
    "$$ \\begin{align*}\n",
    "    A(DE) &= \\begin{pmatrix} 1 & -3 \\\\ 4 & 2 \\end{pmatrix} \\left(\n",
    "    \\begin{pmatrix} 1 & 1 & 3 \\\\ 4 & -2 & 3 \\end{pmatrix} \n",
    "    \\begin{pmatrix} 1 & 2 \\\\ 0 & 6 \\\\ -2 & 3 \\end{pmatrix} \\right) \\\\\n",
    "    &= \\begin{pmatrix} 1 & -3 \\\\ 4 & 2 \\end{pmatrix}\n",
    "    \\begin{pmatrix} -5 & 17 \\\\ -2 & 5 \\end{pmatrix} \\\\\n",
    "    &= \\begin{pmatrix} 1 & 2 \\\\ -24 & 78 \\end{pmatrix}\n",
    "\\end{align*} $$\n",
    "\n",
    "(j) &emsp; \n",
    "\n",
    "$$ \\begin{align*}\n",
    "    (AD)E &= \\left(\n",
    "    \\begin{pmatrix} 1 & -3 \\\\ 4 & 2 \\end{pmatrix}\n",
    "    \\begin{pmatrix} 1 & 1 & 3 \\\\ 4 & -2 & 3 \\end{pmatrix}\n",
    "    \\right)\n",
    "    \\begin{pmatrix} 1 & 2 \\\\ 0 & 6 \\\\ -2 & 3 \\end{pmatrix} \\\\\n",
    "    &= \\begin{pmatrix} -11 & 7 & -6 \\\\ 12 & 0 & 18 \\end{pmatrix}\n",
    "    \\begin{pmatrix} 1 & 2 \\\\ 0 & 6 \\\\ -2 & 3 \\end{pmatrix} \\\\\n",
    "    &= \\begin{pmatrix} 1 & 2 \\\\ -24 & 78 \\end{pmatrix}\n",
    "\\end{align*} $$\n",
    "\n",
    "(k) &emsp; \n",
    "\n",
    "$$ \\begin{align*}\n",
    "    A^3 &= \\begin{pmatrix} 1 & -3 \\\\ 4 & 2 \\end{pmatrix}\n",
    "    \\begin{pmatrix} 1 & -3 \\\\ 4 & 2 \\end{pmatrix}\n",
    "    \\begin{pmatrix} 1 & -3 \\\\ 4 & 2 \\end{pmatrix} \\\\\n",
    "    &= \\begin{pmatrix} -11 & -9 \\\\ 12 & -8 \\end{pmatrix}\n",
    "    \\begin{pmatrix} 1 & -3 \\\\ 4 & 2 \\end{pmatrix} \\\\\n",
    "    &= \\begin{pmatrix} -47 & 15 \\\\ -20 & -52 \\end{pmatrix}\n",
    "\\end{align*} $$\n",
    "\n",
    "(l) &emsp; \n",
    "\n",
    "$$ \\begin{align*}\n",
    "    G^2 &= \\begin{pmatrix} 4 & 2 & 3 \\\\ -2 & 6 & 0 \\\\ 0 & 7 & 1 \\end{pmatrix}\n",
    "    \\begin{pmatrix} 4 & 2 & 3 \\\\ -2 & 6 & 0 \\\\ 0 & 7 & 1 \\end{pmatrix} \\\\\n",
    "    &= \\begin{pmatrix} 12 & 41 & 15 \\\\ -20 & 32 & -6 \\\\ -14 & 49 & 1 \\end{pmatrix} \\\\\n",
    "    \\therefore G^4 &= G^2G^2 = \n",
    "    \\begin{pmatrix} 12 & 41 & 15 \\\\ -20 & 32 & -6 \\\\ -14 & 49 & 1 \\end{pmatrix}\n",
    "    \\begin{pmatrix} 12 & 41 & 15 \\\\ -20 & 32 & -6 \\\\ -14 & 49 & 1 \\end{pmatrix} \\\\\n",
    "    &=\n",
    "    \\begin{pmatrix} -886 & 2539 & -51 \\\\ -796 & -90 & -498 \\\\ -1162 & 1043 & -503 \\end{pmatrix}\n",
    "\\end{align*} $$\n",
    "```"
   ]
  },
  {
   "cell_type": "code",
   "execution_count": 2,
   "metadata": {
    "tags": [
     "remove-cell"
    ]
   },
   "outputs": [
    {
     "data": {
      "text/latex": [
       "$\\displaystyle (a) \\quad A B = \\left[\\begin{matrix}6 & -15\\\\10 & 10\\end{matrix}\\right]$"
      ],
      "text/plain": [
       "<IPython.core.display.Math object>"
      ]
     },
     "metadata": {},
     "output_type": "display_data"
    },
    {
     "data": {
      "text/latex": [
       "$\\displaystyle (b) \\quad B A = \\left[\\begin{matrix}3 & -9\\\\19 & 13\\end{matrix}\\right]$"
      ],
      "text/plain": [
       "<IPython.core.display.Math object>"
      ]
     },
     "metadata": {},
     "output_type": "display_data"
    },
    {
     "data": {
      "text/latex": [
       "$\\displaystyle (c) \\quad A C = \\left[\\begin{matrix}-22\\\\38\\end{matrix}\\right]$"
      ],
      "text/plain": [
       "<IPython.core.display.Math object>"
      ]
     },
     "metadata": {},
     "output_type": "display_data"
    },
    {
     "data": {
      "text/latex": [
       "$\\displaystyle (d) \\quad C A\\ is\\ undefined$"
      ],
      "text/plain": [
       "<IPython.core.display.Math object>"
      ]
     },
     "metadata": {},
     "output_type": "display_data"
    },
    {
     "data": {
      "text/latex": [
       "$\\displaystyle (e) \\quad C^\\mathsf{T} C = \\left[\\begin{matrix}106\\end{matrix}\\right]$"
      ],
      "text/plain": [
       "<IPython.core.display.Math object>"
      ]
     },
     "metadata": {},
     "output_type": "display_data"
    },
    {
     "data": {
      "text/latex": [
       "$\\displaystyle (f) \\quad CC^\\mathsf{T} = \\left[\\begin{matrix}25 & 45\\\\45 & 81\\end{matrix}\\right]$"
      ],
      "text/plain": [
       "<IPython.core.display.Math object>"
      ]
     },
     "metadata": {},
     "output_type": "display_data"
    },
    {
     "data": {
      "text/latex": [
       "$\\displaystyle (g) \\quad D E = \\left[\\begin{matrix}-5 & 17\\\\-2 & 5\\end{matrix}\\right]$"
      ],
      "text/plain": [
       "<IPython.core.display.Math object>"
      ]
     },
     "metadata": {},
     "output_type": "display_data"
    },
    {
     "data": {
      "text/latex": [
       "$\\displaystyle (h) \\quad G H = \\left[\\begin{matrix}20 & -5 & 12\\\\28 & 12 & -14\\\\37 & 11 & -10\\end{matrix}\\right]$"
      ],
      "text/plain": [
       "<IPython.core.display.Math object>"
      ]
     },
     "metadata": {},
     "output_type": "display_data"
    },
    {
     "data": {
      "text/latex": [
       "$\\displaystyle (i) \\quad A (DE) = \\left[\\begin{matrix}1 & 2\\\\-24 & 78\\end{matrix}\\right]$"
      ],
      "text/plain": [
       "<IPython.core.display.Math object>"
      ]
     },
     "metadata": {},
     "output_type": "display_data"
    },
    {
     "data": {
      "text/latex": [
       "$\\displaystyle (j) \\quad (AD) E = \\left[\\begin{matrix}1 & 2\\\\-24 & 78\\end{matrix}\\right]$"
      ],
      "text/plain": [
       "<IPython.core.display.Math object>"
      ]
     },
     "metadata": {},
     "output_type": "display_data"
    },
    {
     "data": {
      "text/latex": [
       "$\\displaystyle (k) \\quad A^3 = \\left[\\begin{matrix}-47 & 15\\\\-20 & -52\\end{matrix}\\right]$"
      ],
      "text/plain": [
       "<IPython.core.display.Math object>"
      ]
     },
     "metadata": {},
     "output_type": "display_data"
    },
    {
     "data": {
      "text/latex": [
       "$\\displaystyle (l) \\quad G^4 = \\left[\\begin{matrix}-886 & 2539 & -51\\\\-796 & -90 & -498\\\\-1162 & 1043 & -503\\end{matrix}\\right]$"
      ],
      "text/plain": [
       "<IPython.core.display.Math object>"
      ]
     },
     "metadata": {},
     "output_type": "display_data"
    }
   ],
   "source": [
    "display(Math(\"(a) \\quad A B = \" + sp.latex(A * B)))\n",
    "display(Math(\"(b) \\quad B A = \" + sp.latex(B * A)))\n",
    "display(Math(\"(c) \\quad A C = \" + sp.latex(A * C)))\n",
    "display(Math(\"(d) \\quad C A\\ is\\ undefined\"))\n",
    "display(Math(\"(e) \\quad C^\\mathsf{T} C = \" + sp.latex(C.T * C)))\n",
    "display(Math(\"(f) \\quad CC^\\mathsf{T} = \" + sp.latex(C * C.T)))\n",
    "display(Math(\"(g) \\quad D E = \" + sp.latex(D * E)))\n",
    "display(Math(\"(h) \\quad G H = \" + sp.latex(G * H)))\n",
    "display(Math(\"(i) \\quad A (DE) = \" + sp.latex(A * (D * E))))\n",
    "display(Math(\"(j) \\quad (AD) E = \" + sp.latex((A * D) * E)))\n",
    "display(Math(\"(k) \\quad A^3 = \" + sp.latex(A ** 3)))\n",
    "display(Math(\"(l) \\quad G^4 = \" + sp.latex(G ** 4)))"
   ]
  },
  {
   "cell_type": "markdown",
   "metadata": {},
   "source": [
    "```{solution} matrices-ex4\n",
    "\n",
    "(a) &emsp;  $\\det(A) = 1(2) - (-3)4 = 2 + 12 = 14$\n",
    "\n",
    "(b) &emsp;  $|B| = 3(5) - 0(-1) = 15$\n",
    "\n",
    "(c) &emsp;  $\\det(3A) = 3\\begin{vmatrix} 3 & -9 \\\\ 12 & 6 \\end{vmatrix} = 3(6) - (-9)(12) = 126$.\n",
    "\n",
    "Alternatively since each row of $A$ is multiplied by 3 then we could simply multiply $\\det(A)=14$ by $3 \\times 3 = 9$ to give $\\det(3A) = 126$.\n",
    "\n",
    "(d) &emsp; \n",
    "\n",
    "$$ \\begin{align*}\n",
    "    \\det(G) &= \\begin{vmatrix} 4 & 2 & 3 \\\\ -2 & 6 & 0 \\\\ 0 & 7 & 1 \\end{vmatrix} \\\\\n",
    "    &= 4 \\begin{vmatrix} 6 & 0 \\\\ 7 & 1 \\end{vmatrix} - (-2)\n",
    "    \\begin{vmatrix} 2 & 3 \\\\ 7 & 1 \\end{vmatrix} \\\\\n",
    "    &= 4(6) + 2(2 - 21) = -14\n",
    "\\end{align*} $$\n",
    "\n",
    "(e) &emsp;  $\\operatorname{adj}(B) = \\begin{pmatrix} 5 & -(-1) \\\\ 0 & 3 \\end{pmatrix} = \\begin{pmatrix} 5 & 0 \\\\ 1 & 3 \\end{pmatrix}$\n",
    "\n",
    "(f) &emsp; \n",
    "\n",
    "$$ \\begin{align*}\n",
    "    \\operatorname{adj}(H) &= \n",
    "    \\begin{pmatrix}\n",
    "        \\begin{vmatrix} 2 & -2 \\\\ -3 & 4 \\end{vmatrix} &\n",
    "        - \\begin{vmatrix} 5 & -2 \\\\ 2 & 4 \\end{vmatrix} &\n",
    "        \\begin{vmatrix} 5 & 2 \\\\ 2 & -3 \\end{vmatrix} \\\\\n",
    "        - \\begin{vmatrix} 0 & 1 \\\\ -3 & 4 \\end{vmatrix} &\n",
    "        \\begin{vmatrix} 1 & 1 \\\\ 2 & 4 \\end{vmatrix} &\n",
    "        - \\begin{vmatrix} 1 & 0 \\\\ 2 & -3 \\end{vmatrix} \\\\\n",
    "        \\begin{vmatrix} 0 & 1 \\\\ 2 & -2 \\end{vmatrix} &\n",
    "        - \\begin{vmatrix} 1 & 1 \\\\ 5 & -2 \\end{vmatrix} &\n",
    "        \\begin{vmatrix} 1 & 0 \\\\ 5 & 2 \\end{vmatrix}\n",
    "    \\end{pmatrix}^T \\\\\n",
    "    &= \\begin{pmatrix} 2 & -24 & -19 \\\\ -3 & 2 & 3 \\\\ -2 & 7 & 2 \\end{pmatrix}^T \\\\\n",
    "    &= \\begin{pmatrix} 2 & -3 & -2 \\\\ -24 & 2 & 7 \\\\ -19 & 3 & 2 \\end{pmatrix}\n",
    "\\end{align*} $$\n",
    "\n",
    "(g) &emsp; \n",
    "\n",
    "$$ \\begin{align*}\n",
    "    \\operatorname{adj}(A) &= \\begin{pmatrix} 2 & 3 \\\\ -4 & 1 \\end{pmatrix}, \\qquad\n",
    "    \\det(A) = 14, \\\\\n",
    "    \\therefore A^{-1} &= \\frac{\\operatorname{adj}(A)}{\\det(A)} \n",
    "    = \\frac{1}{14}\\begin{pmatrix} 2 & 3 \\\\ -4 & 1 \\end{pmatrix}\n",
    "    = \\begin{pmatrix} \\frac{1}{7} & \\frac{3}{14} \\\\ -\\frac{2}{7} & \\frac{1}{14} \\end{pmatrix} \n",
    "\\end{align*} $$\n",
    "\n",
    "Check: $\\begin{pmatrix} 1 & -3 \\\\ 4 & 2 \\end{pmatrix}\\begin{pmatrix} \\frac{1}{7} & \\frac{3}{14} \\\\ -\\frac{2}{7} & \\frac{1}{14} \\end{pmatrix} = \\begin{pmatrix} 1 & 0 \\\\ 0 & 1 \\end{pmatrix} \\quad \\checkmark$\n",
    "\n",
    "(h) &emsp;\n",
    "\n",
    "$$ \\begin{align*}\n",
    "    \\operatorname{adj}(B) &= \\begin{pmatrix} 5 & 0 \\\\ 1 & 3 \\end{pmatrix}, \\qquad\n",
    "    \\det(B) = 15, \\\\\n",
    "    \\therefore B^{-1} &= \\frac{\\operatorname{adj}(B)}{\\det(A)} \n",
    "    = \\frac{1}{15} \\begin{pmatrix} 5 & 0 \\\\ 1 & 3 \\end{pmatrix} \n",
    "    = \\begin{pmatrix} \\frac{1}{3} & 0 \\\\ \\frac{1}{15} & \\frac{1}{5} \\end{pmatrix}\n",
    "\\end{align*} $$\n",
    "\n",
    "Check: $BB^{-1} = \\begin{pmatrix} 3 & 0 \\\\ -1 & 5 \\end{pmatrix}\\begin{pmatrix} \\frac{1}{3} & 0 \\\\ \\frac{1}{15} & \\frac{1}{5} \\end{pmatrix} = \\begin{pmatrix} 1 & 0 \\\\ 0 & 1 \\end{pmatrix} \\quad \\checkmark$\n",
    "\n",
    "(i) &emsp;  $G^{-1}$\n",
    "\n",
    "$$ \\begin{align*}\n",
    "    \\operatorname{adj}(G) &= \n",
    "    \\begin{pmatrix}  6 & 2 & -14 \\\\ 19 & 4 & -28 \\\\ -18 & -6 & 28 \\end{pmatrix}^T\n",
    "    = \\begin{pmatrix} 6 & 19 & -18 \\\\ 2 & 4 & -6 \\\\ -14 & -28 & 28 \\end{pmatrix}, \\\\\n",
    "    \\det(G) &= -14, \\\\\n",
    "    \\therefore G^{-1} &= \\frac{\\operatorname{adj}(G)}{\\det(G)} = -\\frac{1}{14}\n",
    "    \\begin{pmatrix} 6 & 19 & -18 \\\\ 2 & 4 & -6 \\\\ -14 & -28 & 28 \\end{pmatrix} \\\\\n",
    "    &= \\begin{pmatrix} \n",
    "        -\\frac{3}{7} & -\\frac{19}{14} & \\frac{9}{7} \\\\\n",
    "        -\\frac{1}{7} & -\\frac{2}{7} & \\frac{3}{7} \\\\\n",
    "        1 & 2 & -2\n",
    "    \\end{pmatrix}\n",
    "\\end{align*} $$\n",
    "\n",
    "Check: $GG^{-1} = \\begin{pmatrix} 4 & 2 & 3 \\\\ -2 & 6 & 0 \\\\ 0 & 7 & 1 \\end{pmatrix} \n",
    "    \\begin{pmatrix} \n",
    "        -\\frac{3}{7} & -\\frac{19}{14} & \\frac{9}{7} \\\\\n",
    "        -\\frac{1}{7} & -\\frac{2}{7} & \\frac{3}{7} \\\\\n",
    "        1 & 2 & -2\n",
    "    \\end{pmatrix} =\n",
    "    \\begin{pmatrix} 1 & 0 & 0 \\\\ 0 & 1 & 0 \\\\ 0 & 0 & 1 \\end{pmatrix} \\quad  \\checkmark$\n",
    "\n",
    "(j) &emsp;  $(AB)^{-1}$\n",
    "\n",
    "$$ \\begin{align*}\n",
    "    \\operatorname{adj}(AB) &= \\begin{pmatrix} 10 & -15 \\\\ 10 & 6 \\end{pmatrix}, \\qquad\n",
    "    \\det(AB) = 60 + 150 = 210, \\\\\n",
    "    \\therefore (AB)^{-1} &= \\frac{\\operatorname{adj}(AB)}{\\det(AB)} = \\frac{1}{210}\n",
    "    \\begin{pmatrix} 10 & -15 \\\\ 10 & 6 \\end{pmatrix} =\n",
    "    \\begin{pmatrix} \\frac{1}{21} & \\frac{1}{14} \\\\ -\\frac{1}{21} & \\frac{1}{35} \\end{pmatrix}\n",
    "\\end{align*} $$\n",
    "\n",
    "Check $(AB)(AB)^{-1} = \\begin{pmatrix} 6 & -15 \\\\ 10 & 10 \\end{pmatrix} \\begin{pmatrix} \\frac{1}{21} & \\frac{1}{14} \\\\ -\\frac{1}{21} & \\frac{1}{35} \\end{pmatrix} = \\begin{pmatrix} 1 & 0 \\\\ 0 & 1 \\end{pmatrix} \\quad \\checkmark$\n",
    "\n",
    "(k) &emsp; Using the {prf:ref}`properties of inverse matrices<inverse-matrix-definition>` we know that $(AB)^{-1} = B^{-1}A^{-1}$ so\n",
    "\n",
    "$$ \\begin{align*}\n",
    "    B^{-1}A^{-1} = \\begin{pmatrix} \\frac{1}{21} & \\frac{1}{14} \\\\ -\\frac{1}{21} & \\frac{1}{35} \\end{pmatrix}\n",
    "\\end{align*} $$\n",
    "\n",
    "(l) &emsp; \n",
    "\n",
    "$$ \\begin{align*}\n",
    "    \\operatorname{adj}(DE) &= \\begin{pmatrix} 5 & -17 \\\\ 2 & -5 \\end{pmatrix}, \\qquad\n",
    "    \\det(DE) = -25 + 34 = 9, \\\\\n",
    "    \\therefore (DE)^{-1} &= \\frac{\\operatorname{adj}(DE)}{\\det(DE)} \n",
    "    = \\frac{1}{9} \\begin{pmatrix} 5 & -17 \\\\ 2 & -5 \\end{pmatrix}\n",
    "    = \\begin{pmatrix} \\frac{5}{9} & -\\frac{17}{9} \\\\ \\frac{2}{9} & -\\frac{5}{9} \\end{pmatrix}\n",
    "\\end{align*} $$\n",
    "\n",
    "Check: $(DE)(DE)^{-1} = \\begin{pmatrix} -5 & 17 \\\\ -2 & 5 \\end{pmatrix} \\begin{pmatrix} \\frac{5}{9} & -\\frac{17}{9} \\\\ \\frac{2}{9} & -\\frac{5}{9} \\end{pmatrix} = \\begin{pmatrix} 1 & 0 \\\\ 0 & 1 \\end{pmatrix} \\quad \\checkmark$\n",
    "\n",
    "```"
   ]
  },
  {
   "cell_type": "code",
   "execution_count": 3,
   "metadata": {
    "tags": [
     "remove-cell"
    ]
   },
   "outputs": [
    {
     "data": {
      "text/latex": [
       "$\\displaystyle (a) \\quad \\det(A) = 14$"
      ],
      "text/plain": [
       "<IPython.core.display.Math object>"
      ]
     },
     "metadata": {},
     "output_type": "display_data"
    },
    {
     "data": {
      "text/latex": [
       "$\\displaystyle (b) \\quad |B| = 15$"
      ],
      "text/plain": [
       "<IPython.core.display.Math object>"
      ]
     },
     "metadata": {},
     "output_type": "display_data"
    },
    {
     "data": {
      "text/latex": [
       "$\\displaystyle (c) \\quad \\det(3A) = 126$"
      ],
      "text/plain": [
       "<IPython.core.display.Math object>"
      ]
     },
     "metadata": {},
     "output_type": "display_data"
    },
    {
     "data": {
      "text/latex": [
       "$\\displaystyle (d) \\quad \\det(G) = -14$"
      ],
      "text/plain": [
       "<IPython.core.display.Math object>"
      ]
     },
     "metadata": {},
     "output_type": "display_data"
    },
    {
     "data": {
      "text/latex": [
       "$\\displaystyle (e) \\quad \\operatorname{adj}(B) = \\left[\\begin{matrix}5 & 0\\\\1 & 3\\end{matrix}\\right]$"
      ],
      "text/plain": [
       "<IPython.core.display.Math object>"
      ]
     },
     "metadata": {},
     "output_type": "display_data"
    },
    {
     "data": {
      "text/latex": [
       "$\\displaystyle (f) \\quad \\operatorname{adj}(H) = \\left[\\begin{matrix}2 & -3 & -2\\\\-24 & 2 & 7\\\\-19 & 3 & 2\\end{matrix}\\right]$"
      ],
      "text/plain": [
       "<IPython.core.display.Math object>"
      ]
     },
     "metadata": {},
     "output_type": "display_data"
    },
    {
     "data": {
      "text/latex": [
       "$\\displaystyle (g) \\quad A^{-1} = \\left[\\begin{matrix}\\frac{1}{7} & \\frac{3}{14}\\\\- \\frac{2}{7} & \\frac{1}{14}\\end{matrix}\\right]$"
      ],
      "text/plain": [
       "<IPython.core.display.Math object>"
      ]
     },
     "metadata": {},
     "output_type": "display_data"
    },
    {
     "data": {
      "text/latex": [
       "$\\displaystyle (h) \\quad B^{-1} = \\left[\\begin{matrix}\\frac{1}{3} & 0\\\\\\frac{1}{15} & \\frac{1}{5}\\end{matrix}\\right]$"
      ],
      "text/plain": [
       "<IPython.core.display.Math object>"
      ]
     },
     "metadata": {},
     "output_type": "display_data"
    },
    {
     "data": {
      "text/latex": [
       "$\\displaystyle (i) \\quad G^{-1} = \\left[\\begin{matrix}- \\frac{3}{7} & - \\frac{19}{14} & \\frac{9}{7}\\\\- \\frac{1}{7} & - \\frac{2}{7} & \\frac{3}{7}\\\\1 & 2 & -2\\end{matrix}\\right]$"
      ],
      "text/plain": [
       "<IPython.core.display.Math object>"
      ]
     },
     "metadata": {},
     "output_type": "display_data"
    },
    {
     "data": {
      "text/latex": [
       "$\\displaystyle (j) \\quad (AB)^{-1} = \\left[\\begin{matrix}\\frac{1}{21} & \\frac{1}{14}\\\\- \\frac{1}{21} & \\frac{1}{35}\\end{matrix}\\right]$"
      ],
      "text/plain": [
       "<IPython.core.display.Math object>"
      ]
     },
     "metadata": {},
     "output_type": "display_data"
    },
    {
     "data": {
      "text/latex": [
       "$\\displaystyle (k) \\quad B^{-1}A^{-1} = \\left[\\begin{matrix}\\frac{1}{21} & \\frac{1}{14}\\\\- \\frac{1}{21} & \\frac{1}{35}\\end{matrix}\\right]$"
      ],
      "text/plain": [
       "<IPython.core.display.Math object>"
      ]
     },
     "metadata": {},
     "output_type": "display_data"
    },
    {
     "data": {
      "text/latex": [
       "$\\displaystyle (l) \\quad DE^{-1} = \\left[\\begin{matrix}\\frac{5}{9} & - \\frac{17}{9}\\\\\\frac{2}{9} & - \\frac{5}{9}\\end{matrix}\\right]$"
      ],
      "text/plain": [
       "<IPython.core.display.Math object>"
      ]
     },
     "metadata": {},
     "output_type": "display_data"
    }
   ],
   "source": [
    "display(Math(\"(a) \\quad \\det(A) = \" + sp.latex(A.det())))\n",
    "display(Math(\"(b) \\quad |B| = \" + sp.latex(B.det())))\n",
    "display(Math(\"(c) \\quad \\det(3A) = \" + sp.latex((3*A).det())))\n",
    "display(Math(\"(d) \\quad \\det(G) = \" + sp.latex(G.det())))\n",
    "display(Math(\"(e) \\quad \\operatorname{adj}(B) = \" + sp.latex(B.adjugate())))\n",
    "display(Math(\"(f) \\quad \\operatorname{adj}(H) = \" + sp.latex(H.adjugate())))\n",
    "display(Math(\"(g) \\quad A^{-1} = \" + sp.latex(A.inv())))\n",
    "display(Math(\"(h) \\quad B^{-1} = \" + sp.latex(B.inv())))\n",
    "display(Math(\"(i) \\quad G^{-1} = \" + sp.latex(G.inv())))\n",
    "display(Math(\"(j) \\quad (AB)^{-1} = \" + sp.latex((A * B).inv())))\n",
    "display(Math(\"(k) \\quad B^{-1}A^{-1} = \" + sp.latex(B.inv() * A.inv())))\n",
    "display(Math(\"(l) \\quad DE^{-1} = \" + sp.latex((D*E).inv())))"
   ]
  },
  {
   "cell_type": "markdown",
   "metadata": {},
   "source": [
    "```{solution} matrices-ex5\n",
    "\n",
    "(a) &emsp; Row 2 is 2 times row 1 so the determinant is 0.\n",
    "\n",
    "(b) &emsp; This is the same as the matrix $A$ above but with rows 1 and 2 swapped. Therefore the determinant of this matrix is $-\\det(A) = -14$.\n",
    "\n",
    "(c) &emsp; Column 2 is all zeros so the determinant is 0.\n",
    "\n",
    "(d) &emsp; This it the same as the matrix $G$ from above with row 2 multiplied by 2. Therefore the determinant of this matrix is $2\\det(G) = 2(-14) = -28$.\n",
    "\n",
    "(e) &emsp; Column 2 is 2 times column 1 so the determinant is 0.\n",
    "\n",
    "(f) &emsp; This is the same as the matrix $B$ from above with 2 times column 1 added to column 2. Therefore the determinant of this matrix is $\\det(B) = 15$.\n",
    "\n",
    "```"
   ]
  },
  {
   "cell_type": "markdown",
   "metadata": {},
   "source": [
    "```{solution} matrices-ex6\n",
    "\n",
    "Let \n",
    "\n",
    "$$A = \\begin{pmatrix} a & b \\\\ c & d \\end{pmatrix}$$\n",
    "\n",
    "which has the determinant $\\det(A) = ad - bc$. Also let $k$ be a scalar then adding $k$ multiplied by row 1 to row 2 of $A$ gives\n",
    "  \n",
    "$$ \\begin{pmatrix} a & b \\\\ c + ka & d + kb \\end{pmatrix}. $$ \n",
    "\n",
    "Calculating the determinant of this matrix\n",
    "\n",
    "$$ \\begin{align*}\n",
    "    \\begin{vmatrix} a & b \\\\ c + ka & d + kb \\end{vmatrix} &= ad + abk - bc - abk = ad - bc,\n",
    "\\end{align*} $$\n",
    "\n",
    "which is equal to $\\det(A)$. Doing similar for adding $k$ multiples of row 2 to row 1 of $A$\n",
    "\n",
    "$$ \\begin{align*}\n",
    "    \\begin{vmatrix} a + kc & b + kd \\\\ c & d \\end{vmatrix}\n",
    "    = ad + kcd - bc - kcd = ad - bc,\n",
    "\\end{align*} $$\n",
    "\n",
    "which is also equal to $\\det(A)$. Doing similar for the columns of $A$\n",
    "\n",
    "$$ \\begin{align*}\n",
    "    \\begin{vmatrix} a & b + ak \\\\ c & d + ck \\end{vmatrix} &= ad + ack - bc - ack = ad - bc, \\\\\n",
    "    \\begin{vmatrix} a + kb & b \\\\ c + kd & d \\end{vmatrix} &= ad + kbd - bc - kbd = ad - bc.\n",
    "\\end{align*} $$\n",
    "\n",
    "<div style=\"text-align: right\"> &#9633; </div>\n",
    "```"
   ]
  },
  {
   "cell_type": "markdown",
   "metadata": {},
   "source": [
    "```{solution} matrices-ex7\n",
    "\n",
    "(a)\n",
    "\n",
    "$$ \\begin{align*}\n",
    "    5X &= A \\\\\n",
    "    X &= \\frac{1}{5} A \\\\\n",
    "    &= \\dfrac{1}{5}\\begin{pmatrix} 1 & -3 \\\\ 4 & 2 \\end{pmatrix} \n",
    "    = \\begin{pmatrix} \\frac{1}{5} & -\\frac{3}{5} \\\\ \\frac{4}{5} & \\frac{2}{5} \\end{pmatrix}\n",
    "\\end{align*} $$\n",
    "\n",
    "(b)\n",
    "\n",
    "$$ \\begin{align*}\n",
    "    X + A &= I \\\\\n",
    "    X &= I - A \\\\\n",
    "    &= \\begin{pmatrix} 1 & 0 \\\\ 0 & 1 \\end{pmatrix} - \\begin{pmatrix} 1 & -3 \\\\ 4 & 2 \\end{pmatrix} = \\begin{pmatrix} 0 & 3 \\\\ -4 & -1 \\end{pmatrix}\n",
    "\\end{align*} $$\n",
    "\n",
    "(c)\n",
    "\n",
    "$$ \\begin{align*}\n",
    "    2X - B &= A \\\\\n",
    "    2X &= A + B \\\\\n",
    "    X &= \\dfrac{1}{2}(A + B) = \\dfrac{1}{2}\\left( \\begin{pmatrix} 1 & -3 \\\\ 4 & 2 \\end{pmatrix} + \\begin{pmatrix} 3 & 0 \\\\ -1 & 5 \\end{pmatrix} \\right) \\\\\n",
    "    &= \\dfrac{1}{2} \\begin{pmatrix} 4 & -3 \\\\ 3 & 7 \\end{pmatrix} = \\begin{pmatrix} 2 & -\\frac{3}{2} \\\\ \\frac{3}{2} & \\frac{7}{2} \\end{pmatrix}\n",
    "\\end{align*} $$\n",
    "\n",
    "(d)\n",
    "\n",
    "$$ \\begin{align*}\n",
    "    XA &= I \\\\\n",
    "    X &= IA^{-1} = A^{-1}I \\\\\n",
    "    &= \\dfrac{1}{14} \\begin{pmatrix} 2 & 3 \\\\ -4 & 1 \\end{pmatrix} = \\begin{pmatrix} \\frac{1}{7} & \\frac{3}{14} \\\\ -\\frac{2}{7} & \\frac{1}{14} \\end{pmatrix}\n",
    "\\end{align*} $$\n",
    "\n",
    "(e)\n",
    "\n",
    "$$ \\begin{align*}\n",
    "    BX &= A \\\\\n",
    "    X &= B^{-1}A \\\\\n",
    "    &= \\dfrac{1}{15}\\begin{pmatrix} 5 & 0 \\\\ 1 & 3 \\end{pmatrix} \\begin{pmatrix} 1 & -3 \\\\ 4 & 2 \\end{pmatrix} \\\\\n",
    "    &= \\dfrac{1}{15} \\begin{pmatrix} 5 & -15 \\\\ 13 & 3\\end{pmatrix} = \\begin{pmatrix} \\frac{1}{3} & -1 \\\\ \\frac{13}{15} & \\frac{1}{5} \\end{pmatrix}\n",
    "\\end{align*} $$\n",
    "\n",
    "(f)\n",
    "\n",
    "$$ \\begin{align*}\n",
    "    A^2 &= X \\\\\n",
    "    X &= \\begin{pmatrix} 1 & -3 \\\\ 4 & 2 \\end{pmatrix}\\begin{pmatrix} 1 & -3 \\\\ 4 & 2 \\end{pmatrix} = \\begin{pmatrix} -11 & -9 \\\\ 12 & -8 \\end{pmatrix}\n",
    "\\end{align*} $$\n",
    "\n",
    "(g) &emsp; We begin by setting $X = \\begin{pmatrix}a & b \\\\ c & d\\end{pmatrix}$, and then $X^2 = B$ gives\n",
    "\n",
    "$$ \\begin{align*}\n",
    "    \\begin{pmatrix}a^2 + bc & ab + bd \\\\ ca+dc & cb+d^2\\end{pmatrix} =\n",
    "    \\begin{pmatrix} a^2 + bc & b(a + d) \\\\ c(a + d) & cb + d^2 \\end{pmatrix} =\n",
    "    \\begin{pmatrix} 3 & 0 \\\\ -1 & 5 \\end{pmatrix}.\n",
    "\\end{align*} $$\n",
    "\n",
    "Now we can solve the quadratic equations over $\\mathbb{R}$, since $[X^2]_{12} = 0$ then\n",
    "\n",
    "$$ \\begin{align*}\n",
    "    b(a + d) &= 0 \\\\\n",
    "    \\therefore b &= 0 \\text{ or } a = -d.\n",
    "\\end{align*} $$\n",
    "\n",
    "For the case when $b = 0$\n",
    "\n",
    "$$ \\begin{align*}\n",
    "    a^2 + bc &= 3 \\implies a = \\pm \\sqrt{3}, \\\\\n",
    "    cb + d^2 &= 5 \\implies d = \\pm \\sqrt{5}.\n",
    "\\end{align*} $$\n",
    "\n",
    "So we have four possible solutions\n",
    "\n",
    "$$ \\begin{align*}\n",
    "    X &= \\begin{pmatrix} \\pm \\sqrt{3} & 0 \\\\ - 1 / (\\pm \\sqrt{3} \\pm \\sqrt{5}) & \\pm\\sqrt{5} \\end{pmatrix}, \\text{ or }\\\\\n",
    "    X &= \\begin{pmatrix} \\pm \\sqrt{3} & 0 \\\\ - 1 / (\\pm \\sqrt{3} \\mp \\sqrt{5}) & \\mp\\sqrt{5} \\end{pmatrix}.\n",
    "\\end{align*} $$\n",
    "\n",
    "For the case when $a = -d$\n",
    "\n",
    "$$ \\begin{align*}\n",
    "    c(a + d) = 0c = -1,\n",
    "\\end{align*} $$\n",
    "\n",
    "which is a contradiction so $a = -d$ yields no solutions.\n",
    "\n",
    "(h) \n",
    "\n",
    "$$ \\begin{align*}\n",
    "    (X + A)B &= I \\\\\n",
    "    X + A &= I B^{-1} \\\\\n",
    "    X &= B^{-1} - A \\\\\n",
    "    &= \\frac{1}{15} \\begin{pmatrix} 5 & 0 \\\\ 1 & 3 \\end{pmatrix} - \n",
    "    \\begin{pmatrix} 1 & -3 \\\\ 4 & 2 \\end{pmatrix} \\\\\n",
    "    &= \\begin{pmatrix} -2/3 & 3 \\\\ -59/15 & -9/5 \\end{pmatrix} \\\\\n",
    "    &= \\frac{1}{15} \\begin{pmatrix} -10 & 45 \\\\ -59 & -27 \\end{pmatrix}\n",
    "\\end{align*} $$\n",
    "```"
   ]
  }
 ],
 "metadata": {
  "kernelspec": {
   "display_name": "base",
   "language": "python",
   "name": "python3"
  },
  "language_info": {
   "codemirror_mode": {
    "name": "ipython",
    "version": 3
   },
   "file_extension": ".py",
   "mimetype": "text/x-python",
   "name": "python",
   "nbconvert_exporter": "python",
   "pygments_lexer": "ipython3",
   "version": "3.11.5"
  }
 },
 "nbformat": 4,
 "nbformat_minor": 2
}