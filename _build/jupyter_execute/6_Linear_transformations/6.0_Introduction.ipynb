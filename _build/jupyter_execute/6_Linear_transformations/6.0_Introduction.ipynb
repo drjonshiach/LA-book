{
 "cells": [
  {
   "cell_type": "markdown",
   "id": "2f564b44",
   "metadata": {},
   "source": [
    "(linear-transformations-chapter)=\n",
    "# Linear Transformations\n",
    "\n",
    "You will already be familiar with the use of <a href=\"https://en.wikipedia.org/wiki/Function_(mathematics)\" target=\"_blank\">functions</a> in mathematics to study sets and the **mapping** from a set of inputs set to another set of outputs. The notation used to denote functions is of the form $f: X \\to Y$ where $f$ is the name of the function, $X$ is the set of inputs known as the **domain** and $Y$ is a member of the set of outputs known as the **codomain**. The mapping which defines the relationship between the domain and codmain is defined using $y = f(x)$ where $x$ is a member of the domain and $y$ is a member of the codomain. \n",
    "\n",
    "In linear algebra we study the linear mapping of a set of vectors to another set of vectors so we define $T: V \\to W$ where $V$ and $W$ are vector spaces and the mapping from an input vector $\\mathbf{u} \\in V$ to an output vector $\\mathbf{w} \\in W$ is given by $\\mathbf{w} = T(\\mathbf{u})$.\n",
    "\n",
    "Linear transformations have lots of uses in mathematics and computing. A good example is in the field of computer graphics and computer games where they are fundamental to the manipulation and visualisation of three-dimensional objects. \n",
    "\n",
    "**Learning outcomes**\n",
    "\n",
    "On successful completion of this chapters students will be able to:\n",
    "\n",
    "- identify when a transformation is a [linear transformation](linear-transformation-definition);\n",
    "- determine the [transformation matrix](transformation-matrix-definition) that represents a linear transformation;\n",
    "- perform [composite linear transformation](composite-transformation-definition);\n",
    "- apply [rotation](rotation-in-R2-theorem), [reflection](reflection-theorem), [scaling](scaling-theorem) and [translation](translation-definition) transformations in $\\mathbb{R}^2$ as well as their inverses;\n",
    "- use [homogeneous co-ordinates](homogeneous-coordinates-definition) to describe points in $\\mathbb{R}^n$."
   ]
  }
 ],
 "metadata": {
  "kernelspec": {
   "display_name": "Python 3.9.7 ('base')",
   "language": "python",
   "name": "python3"
  },
  "language_info": {
   "codemirror_mode": {
    "name": "ipython",
    "version": 3
   },
   "file_extension": ".py",
   "mimetype": "text/x-python",
   "name": "python",
   "nbconvert_exporter": "python",
   "pygments_lexer": "ipython3",
   "version": "3.9.7"
  },
  "vscode": {
   "interpreter": {
    "hash": "3a8893f41ea6eea20a2f9e20d8f8fd0ea69174c942b987ace920455cbb0cf5de"
   }
  }
 },
 "nbformat": 4,
 "nbformat_minor": 5
}