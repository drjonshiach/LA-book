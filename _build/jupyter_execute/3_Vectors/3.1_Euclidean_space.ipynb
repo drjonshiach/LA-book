{
 "cells": [
  {
   "cell_type": "markdown",
   "id": "34984341",
   "metadata": {},
   "source": [
    "(euclidean-space-section)=\n",
    "# Euclidean space\n",
    "\n",
    "```{figure} https://cdn.britannica.com/46/8446-050-BC92B998/Euclid-woodcut-1584.jpg\n",
    "---\n",
    "width: 200px\n",
    "alt: Euclid\n",
    "figclass : margin\n",
    "---\n",
    "[Euclid](https://en.wikipedia.org/wiki/Euclid) (fl 300 BCE, coloured woodcut 1584)\n",
    "```\n",
    "\n",
    "Before we discuss vectors it is useful to first define [**Euclidean space**](https://en.wikipedia.org/wiki/Euclidean_space) which is the mathematical system which vectors are most commonly applied. Attributed to the Greek mathematician [Euclid](https://en.wikipedia.org/wiki/Euclid), Euclidean space is a representation of physical space where the position of a point in the space can be described by the signed distance along perpendicular real numbers lines called **axes** (singular: axis). \n",
    "\n",
    "An $n$-dimensional Euclidean space is defined by $n$ perpendicular real axes and is referred to as $\\mathbb{R}^n$. For example, consider the diagram of $\\mathbb{R}^3$ in {numref}`R3-figure`. Here we have a representation of a 3-dimensional Euclidean space defined by the 3 axes labelled $x$, $y$ and $z$. This representation uses the [**right-hand rule**](https://en.wikipedia.org/wiki/Right-hand_rule) so-called because if we use the thumb on our right hand to represent the $x$ axis, the index finger for the $y$ axis and the middle finger for the $z$ axis then holding out the right hand palm up with the thumb and index finger at right-angles and the middle finger pointing up then we have the axis configuration shown in {numref}`R3-figure`. Doing similar with the left hand gives the **left-hand rule** where the $x$ axis is pointing in the opposite direction than in the right-hand rule. \n",
    "\n",
    "```{figure} ../Images/R3.png\n",
    ":name: R3-figure\n",
    "\n",
    "The position of a point in $\\mathbb{R}^3$ can be defined by its co-ordinates $(x, y, z)$.\n",
    "```\n",
    "\n",
    "The position of a point in Euclidean space can be defined by its **co-ordinates** which is an ordered set known as a **tuple** where each element contains the signed distances along each axis, e.g., $(x, y, z)$ where $x, y, z \\in \\mathbb{R}$. "
   ]
  }
 ],
 "metadata": {
  "kernelspec": {
   "display_name": "Python 3 (ipykernel)",
   "language": "python",
   "name": "python3"
  },
  "language_info": {
   "codemirror_mode": {
    "name": "ipython",
    "version": 3
   },
   "file_extension": ".py",
   "mimetype": "text/x-python",
   "name": "python",
   "nbconvert_exporter": "python",
   "pygments_lexer": "ipython3",
   "version": "3.9.13"
  },
  "vscode": {
   "interpreter": {
    "hash": "966c2572ce838c9df552f8ed5c38cfd9c878261c104862aacf38d1f7f9c4e98b"
   }
  }
 },
 "nbformat": 4,
 "nbformat_minor": 5
}