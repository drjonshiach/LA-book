{
 "cells": [
  {
   "cell_type": "markdown",
   "id": "c07eec30",
   "metadata": {},
   "source": [
    "(definition-of-a-matrix-section)=\n",
    "# Definition\n",
    "\n",
    "A **matrix** (plural **matrices**) is a rectangular array of elements which can be numbers, mathematical expressions, symbols, or even other matrices. Matrices are arranged in rows and columns and enclosed by parentheses (or sometimes square brackets), for example\n",
    "\n",
    "\\begin{align*}\n",
    "    \\begin{pmatrix}\n",
    "        1 & 2 & 3 \\\\\n",
    "        4 & 5 & 6\n",
    "    \\end{pmatrix}.\n",
    "\\end{align*}\n",
    "    \n",
    "This matrix contains 6 elements arranged in 2 (horizontal) rows and 3 (vertical) columns.\n",
    "\n",
    "````{admonition} Definition: Dimension of a matrix\n",
    ":class: note\n",
    ":name: dimension-of-a-matrix-definition\n",
    "\n",
    "The dimension or size of a matrix is defined to be **rows** $\\times$ **columns**, where 'rows' is the number of horizontal rows and 'columns' the number of vertical columns of said matrix. If rows $=$ columns we say that the matrix is a square matrix.\n",
    "\\begin{align*}\n",
    "    &\\,\\,\\,\\begin{matrix} \\leftarrow & \\!\\!\\text{columns}\\!\\! & \\rightarrow \\end{matrix} \\\\\n",
    "    \\begin{matrix} \\uparrow \\\\ \\text{rows} \\\\ \\downarrow \\end{matrix}\n",
    "    &\\begin{pmatrix}\n",
    "        \\square & \\square & \\cdots & \\square \\\\\n",
    "        \\square & \\square & \\cdots & \\square \\\\\n",
    "        \\vdots & \\vdots & \\ddots & \\vdots \\\\\n",
    "        \\square & \\square & \\cdots & \\square\n",
    "    \\end{pmatrix}\n",
    "\\end{align*}\n",
    "````\n",
    "\n",
    "````{admonition} Example 1.1\n",
    ":class: seealso\n",
    ":name: matrix-dimension-example\n",
    "\n",
    "Determine the dimensions of the following matrices:\n",
    "\n",
    "&emsp; (i) &emsp; $A = \\begin{pmatrix} 1 & 2 \\\\ 3 & 4 \\end{pmatrix}$\n",
    "\n",
    "&emsp; (ii) &emsp; $B = \\begin{pmatrix} a & b \\\\ c & d \\\\ e & f \\end{pmatrix}$\n",
    "\n",
    "&emsp; (iii) &emsp; $C = \\begin{pmatrix} \\sin(x) & \\ln(x) & \\cos(x+1) \\end{pmatrix}$\n",
    "\n",
    "&emsp; (iv) &emsp; $D = \\begin{pmatrix} 0 \\end{pmatrix}$\n",
    "\n",
    "```{dropdown} Solution\n",
    "\n",
    "&emsp; (i) &emsp; $2\\times 2 $\n",
    "\n",
    "&emsp; (ii) &emsp; $3\\times 2$\n",
    "\n",
    "&emsp; (iii) &emsp; $1 \\times 3$\n",
    "\n",
    "&emsp; (iv) &emsp; $1 \\times 1$\n",
    "```\n",
    "````\n",
    "\n",
    "### Python code\n",
    "\n",
    "To define and perform operations on matrices in Python we can use the [SymPy](https://www.sympy.org/en/index.html) library (short for *symbolic Python*) library. A matrix can then be defined using the `sym.Matrix` command, for example"
   ]
  },
  {
   "cell_type": "code",
   "execution_count": 1,
   "id": "2bf7f274",
   "metadata": {},
   "outputs": [
    {
     "data": {
      "text/latex": [
       "$\\displaystyle \\left[\\begin{matrix}1 & 2\\\\3 & 4\\end{matrix}\\right]$"
      ],
      "text/plain": [
       "Matrix([\n",
       "[1, 2],\n",
       "[3, 4]])"
      ]
     },
     "metadata": {},
     "output_type": "display_data"
    }
   ],
   "source": [
    "import sympy as sym\n",
    "\n",
    "A = sym.Matrix([[1, 2], [3, 4]])\n",
    "display(A)"
   ]
  },
  {
   "cell_type": "markdown",
   "id": "16911a05",
   "metadata": {},
   "source": [
    "Note that the matrix is defined using square brackets and each row is contained within another pair of square brackets. Commas separate elements in the same row and the different rows of a matrix. \n",
    "\n",
    "The command for determining the number of rows and columns of a matrix `A` is `A.shape` which returns a 2-tuple containing. The following code defines the matrix $A$ from [example 1.1](matrix-dimension-example) and outputs its dimensions"
   ]
  },
  {
   "cell_type": "code",
   "execution_count": 2,
   "id": "5d5142f1",
   "metadata": {},
   "outputs": [
    {
     "name": "stdout",
     "output_type": "stream",
     "text": [
      "The matrix A is an 2 x 2 matrix\n"
     ]
    }
   ],
   "source": [
    "nrows, ncols = A.shape\n",
    "print(f\"The matrix A is an {nrows} x {ncols} matrix\")"
   ]
  }
 ],
 "metadata": {
  "kernelspec": {
   "display_name": "Python 3",
   "language": "python",
   "name": "python3"
  },
  "language_info": {
   "codemirror_mode": {
    "name": "ipython",
    "version": 3
   },
   "file_extension": ".py",
   "mimetype": "text/x-python",
   "name": "python",
   "nbconvert_exporter": "python",
   "pygments_lexer": "ipython3",
   "version": "3.8.8"
  }
 },
 "nbformat": 4,
 "nbformat_minor": 5
}
