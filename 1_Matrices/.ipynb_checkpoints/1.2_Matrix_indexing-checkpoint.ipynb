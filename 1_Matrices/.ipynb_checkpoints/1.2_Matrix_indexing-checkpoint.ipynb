{
 "cells": [
  {
   "cell_type": "markdown",
   "id": "21cdfb84",
   "metadata": {},
   "source": [
    "(indexing-a-matrix-section)=\n",
    "# Indexing a matrix\n",
    "\n",
    "Matrices are typically labeled using uppercase characters (e.g. $A$) and the elements of a matrix are labeled with the corresponding lowercase character (e.g. $a$). Individual entries of a matrix are **indexed** using two subscript indices: $a_{ij}$ where $i$ corresponds to the row number reading from top to bottom and $j$ is the column number reading from left to right. \n",
    "\n",
    "For example, let $A$ be an $m\\times n$ matrix then\n",
    "\n",
    "$$A = \\begin{pmatrix}\n",
    "  a_{11} & a_{12} & \\cdots & a_{1n} \\\\\n",
    "  a_{21} & a_{22} & \\cdots & a_{2n} \\\\\n",
    "  \\vdots & \\vdots & \\ddots & \\vdots \\\\\n",
    "  a_{m1} & a_{m2} & \\cdots & a_{mn} \n",
    "\\end{pmatrix}.$$\n",
    "\n",
    "Some alternate notation includes\n",
    "\n",
    "$$a_{ij} = [A]_{ij} = A[i,j].$$\n",
    "\n",
    "`````{admonition} Example 1.2\n",
    ":class: seealso\n",
    ":name: matrix-indexing-example\n",
    "\n",
    "Given the matrix \n",
    "$A = \\begin{pmatrix}\n",
    "    2 & 0 & -3 \\\\\n",
    "    1 & 7 & 4 \n",
    "\\end{pmatrix},$ \n",
    "\n",
    "write down the following elements:\n",
    "\n",
    "&emsp; (i) &emsp; $a_{11}$\n",
    "\n",
    "&emsp; (ii) &emsp; $a_{13}$\n",
    "\n",
    "&emsp; (iii) &emsp; $[A]_{21}$\n",
    "\n",
    "&emsp; (iv) &emsp; $A[2,2]$\n",
    "\n",
    "````{dropdown} Solution\n",
    "\n",
    "&emsp; (i)  &emsp; $a_{11} = 2$\n",
    "\n",
    "&emsp; (ii) &emsp; $a_{13} = -3$\n",
    "\n",
    "&emsp; (iii) &emsp; $[A]_{21} = 1$\n",
    "\n",
    "&emsp; (iv) &emsp; $A[2,2] = 7$\n",
    "    \n",
    "````\n",
    "`````\n",
    "\n",
    "### Python code\n",
    "\n",
    "Matrices and arrays in Python are indexed using the syntax `A[i,j]` which returns the value of the element in row `i` and column `j`. \n",
    "\n",
    "```{important}\n",
    "Python is a **zero indexing** language which means indexing starts at zero. So to index the element $a_{23}$ we would use `a[1,2]` i.e., remember to subtract 1 from the indices.\n",
    "```\n",
    "\n",
    "The following code defines the matrix $A$ from [example 1.2](matrix-indexing-example) and outputs the values of the indexed elements. "
   ]
  },
  {
   "cell_type": "code",
   "execution_count": 3,
   "id": "b0a914af",
   "metadata": {},
   "outputs": [
    {
     "data": {
      "text/latex": [
       "$\\displaystyle \\left[\\begin{matrix}2 & 0 & -3\\\\1 & 7 & 4\\end{matrix}\\right]$"
      ],
      "text/plain": [
       "Matrix([\n",
       "[2, 0, -3],\n",
       "[1, 7,  4]])"
      ]
     },
     "metadata": {},
     "output_type": "display_data"
    },
    {
     "name": "stdout",
     "output_type": "stream",
     "text": [
      "(i)   a_11 = 2\n",
      "(ii)  a_13 = -3\n",
      "(iii) [A]_21 = 1\n",
      "(iv)  A[2,2] = 7\n"
     ]
    }
   ],
   "source": [
    "A = sym.Matrix([[2, 0, -3], [1, 7, 4]])\n",
    "display(A)\n",
    "\n",
    "print(f\"(i)   a_11 = {A[0,0]}\")\n",
    "print(f\"(ii)  a_13 = {A[0,2]}\")\n",
    "print(f\"(iii) [A]_21 = {A[1,0]}\")\n",
    "print(f\"(iv)  A[2,2] = {A[1,1]}\")"
   ]
  }
 ],
 "metadata": {
  "kernelspec": {
   "display_name": "Python 3",
   "language": "python",
   "name": "python3"
  },
  "language_info": {
   "codemirror_mode": {
    "name": "ipython",
    "version": 3
   },
   "file_extension": ".py",
   "mimetype": "text/x-python",
   "name": "python",
   "nbconvert_exporter": "python",
   "pygments_lexer": "ipython3",
   "version": "3.8.8"
  }
 },
 "nbformat": 4,
 "nbformat_minor": 5
}
