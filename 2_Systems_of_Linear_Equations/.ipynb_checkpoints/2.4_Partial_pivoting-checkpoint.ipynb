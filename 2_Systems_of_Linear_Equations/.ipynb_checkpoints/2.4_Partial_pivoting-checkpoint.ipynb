{
 "cells": [
  {
   "cell_type": "markdown",
   "id": "4f9f32e7",
   "metadata": {},
   "source": [
    "(partial-pivoting-section)=\n",
    "# Partial pivoting\n",
    "\n",
    "In most practical applications of row reduction to solve a linear system we use computers to perform the calculations. Computers use floating point numbers to compute arithmetic operations which are not exact and can be prone to rounding errors. Consider the following linear system of equations\n",
    "\n",
    "\\begin{align}\n",
    "  \\begin{pmatrix}0.0001 & 1 \\\\ 1 & 1 \\end{pmatrix}\\begin{pmatrix} x_1 \\\\ x_2 \\end{pmatrix}= \n",
    "  \\begin{pmatrix}1 \\\\ 2 \\end{pmatrix}.\n",
    "\\end{align}\n",
    "\n",
    "Using Gaussian elimination to solve this system\n",
    "\n",
    "\\begin{align*}\n",
    "    & \\left( \\begin{array}{cc|c} \n",
    "        0.0001 & 1 & 1 \\\\\n",
    "        1 & 1 & 2 \n",
    "    \\end{array} \\right)\n",
    "    \\begin{array}{l} \\\\  R_2 - 1000R_1 \\end{array} \\\\ \\\\\n",
    "    \\longrightarrow \\quad &\n",
    "    \\left( \\begin{array}{cc|c} \n",
    "        0.0001 & 1 & 1 \\\\\n",
    "        0 & -9999 & -9998 \n",
    "    \\end{array} \\right)\n",
    "    \\begin{array}{l} \\\\  -\\frac{1}{9999}R_2 \\end{array} \\\\ \\\\\n",
    "    \\longrightarrow \\quad &\n",
    "    \\left( \\begin{array}{cc|c} \n",
    "        0.0001 & 1 & 1 \\\\\n",
    "        0 & 1 & 0.9998\\dot{9}\n",
    "    \\end{array} \\right).\n",
    "\\end{align*}\n",
    "\n",
    "So $x_2 = 0.9998\\dot{9}$. If we were to round this to four decimal places then $x_2 = 1.0000$ and using back substitution we have $x_1 = \\dfrac{1}{0.0001}(1 - 1) = 0$. However, checking our solution with the original system we see that this does not satisfy the second equation $x_1 + x_2 = 2$. The problem is that our first pivot element of 0.0001 was small compared with the value below which produced large values when adding multiples of the pivot row to the other rows. \n",
    "\n",
    "To overcome this we can perform a row swap so that the pivot element is larger than the value below\n",
    "\n",
    "\\begin{align*}\n",
    "    & \\left(\\begin{array}{cc|c} \n",
    "        0.0001 & 1 & 1 \\\\\n",
    "        1 & 1 & 2 \n",
    "    \\end{array} \\right)\n",
    "    \\begin{array}{l} R_1 \\leftrightarrow R_2 \\end{array} \\\\ \\\\\n",
    "    \\longrightarrow \\quad &\n",
    "    \\left( \\begin{array}{cc|c} \n",
    "        1 & 1 & 2 \\\\\n",
    "        0.0001 & 1 & 1 \n",
    "    \\end{array} \\right)\n",
    "    \\begin{array}{l} \\\\  R_2 - 0.0001 R_1 \\end{array} \\\\ \\\\\n",
    "    \\longrightarrow \\quad &\n",
    "    \\left( \\begin{array}{cc|c} \n",
    "        1 & 1 & 2 \\\\\n",
    "        0 & 0.9999 & 0.9998\n",
    "    \\end{array} \\right)\n",
    "\\end{align*}\n",
    "\n",
    "Solving using back substitution we have $x_2 = \\dfrac{0.9998}{0.9999} = 0.9998\\dot{9}$ which rounded to four decimal places is $x_2 = 1.0000$ as before. However, this time using back substitution we now have $x_1 = 2 - 1.0000 = 1.0000$ which is consistent with the original system. This process is called *partial pivoting* and it's where we perform a row swap to ensure that the pivot element has a larger absolute value from the elements in the column beneath the pivot.\n",
    "\n",
    "````{admonition} Definition: Gaussian elimination with partial pivoting\n",
    ":class: note\n",
    ":name: ge-pp-definition\n",
    "\n",
    "To row reduce an $m \\times n$ matrix $A$ to reduced row echelon form using Gaussian elimination with partial pivoting we do the following: \n",
    "\n",
    "1. Initalise the pivot row to $i=1$ and pivot column to $k=1$\n",
    "2. Swap the pivot row $i$ with the row below which has the largest absolute value element in the pivot column $k$ which is greater than the absolute value of the pivot element $|a_{ik}|$. \n",
    "3. If $a_{ik} = 0$ then set $k = k + 1$ and repeat step 2.\n",
    "4. For each row $j = i+1 \\ldots m$ beneath the pivot row subtract the pivot row $i$ multiplied by $\\dfrac{a_{jk}}{a_{ik}}$ from row $j$. \n",
    "5. Set $i = 1 + 1$ and $k = k + 1$ and repeat steps 2 to 4 until $i > m$ or $k > n$.\n",
    "````\n",
    "\n",
    "````{admonition} Example 2.5\n",
    ":class: seealso\n",
    ":name: partial-pivoting-example\n",
    "\n",
    "Solve the system of linear equations using Gaussian elimination with partial pivoting. \n",
    "\n",
    "\\begin{align*}\n",
    "    \\begin{array}{rcl}\n",
    "        x_1 - x_2 + 3x_3 &=& 13, \\\\\n",
    "        4x_1 - 2x_2 + x_3 &=& 15, \\\\\n",
    "        -3x_1 - x_2 + 4x_3 &=& 8.\n",
    "    \\end{array}\n",
    "\\end{align*}\n",
    "\n",
    "```{dropdown} Solution\n",
    "\\begin{align*}\n",
    "    & \\left(\\begin{array}{ccc|c} \n",
    "        1 & -1 & 3 & 13 \\\\\n",
    "        4 & -2 & 1 & 15\\\\\n",
    "        -3 & -1 & 4 & 8\n",
    "    \\end{array} \\right) \n",
    "    \\begin{array}{l} R_1 \\leftrightarrow R_2 \\end{array} \\\\ \\\\\n",
    "    \\longrightarrow \\quad &\n",
    "    \\left( \\begin{array}{ccc|c}\n",
    "        4 & -2 & 1 & 15\\\\ \n",
    "        1 & -1 & 3 & 13 \\\\\n",
    "        -3 & -1 & 4 & 8\n",
    "    \\end{array} \\right)\n",
    "    \\begin{array}{l} \\\\  R_2 - \\frac{1}{4}R_1 \\\\[1pt]  R_3 + \\frac{3}{4}R_1 \\end{array} \\\\ \\\\\n",
    "    \\longrightarrow \\quad &\n",
    "    \\left( \\begin{array}{ccc|c}\n",
    "        4 & -2 & 1 & 15\\\\ \n",
    "        0 & -\\frac{1}{2} & \\frac{11}{4} & \\frac{37}{4} \\\\\n",
    "        0 & -\\frac{5}{2} & \\frac{19}{4} & \\frac{77}{4}\n",
    "    \\end{array} \\right)\n",
    "    \\begin{array}{l} \\\\ R_2 \\leftrightarrow R_3 \\\\ \\phantom{x} \\end{array} \\\\ \\\\\n",
    "    \\longrightarrow \\quad &\n",
    "    \\left( \\begin{array}{ccc|c}\n",
    "        4 & -2 & 1 & 15\\\\ \n",
    "        0 & -\\frac{5}{2} & \\frac{19}{4} & \\frac{77}{4} \\\\\n",
    "        0 & -\\frac{1}{2} & \\frac{11}{4} & \\frac{37}{4}\n",
    "    \\end{array} \\right)\n",
    "    \\begin{array}{l} \\\\ \\\\ R_3 - \\frac{1}{5}R_2 \\end{array} \\\\ \\\\\n",
    "    \\longrightarrow \\quad &\n",
    "    \\left( \\begin{array}{ccc|c}\n",
    "        4 & -2 & 1 & 15\\\\ \n",
    "        0 & -\\frac{5}{2} & \\frac{19}{4} & \\frac{77}{4} \\\\\n",
    "        0 & 0 & \\frac{9}{5} & \\frac{27}{5}\n",
    "    \\end{array} \\right)\n",
    "    \\begin{array}{l} \\\\ \\\\ R_3 - \\frac{1}{5}R_2 \\end{array}\n",
    "\\end{align*}\n",
    "Solving for $x_3$, $x_2$ and $x_1$ using back substitution\n",
    "\\begin{align*}\n",
    "    x_3 &= \\frac{5}{9}\\left( \\frac{27}{5} \\right) = 3, \\\\\n",
    "    x_2 &= -\\frac{2}{5} \\left( \\frac{77}{4} - \\frac{19}{4}(3)\\right) = -2, \\\\\n",
    "    x_1 &= \\frac{1}{4}( 15 + 2(-2) - 3) = 2. \n",
    "\\end{align*}\n",
    " \n",
    "```\n",
    "````"
   ]
  },
  {
   "cell_type": "markdown",
   "id": "3bfcca5c",
   "metadata": {},
   "source": [
    "## Python code\n",
    "\n",
    "The Python code below defines the function `gelimpp()` that uses Gaussian elimination with partial pivoting to determine the row echelon form of a matrix `A`. This has been used to determine the row echelon form of the coefficient matrix from [example 2.5](partial-pivoting-example)."
   ]
  },
  {
   "cell_type": "code",
   "execution_count": 6,
   "id": "4fbd3b12",
   "metadata": {
    "tags": [
     "remove-cell"
    ]
   },
   "outputs": [],
   "source": [
    "def backsub(A):\n",
    "    m = A.shape[0]\n",
    "    x = A[:,-1]\n",
    "    for i in range(m - 1, -1, -1):\n",
    "        for j in range(i + 1, m):\n",
    "            x[i] -= A[i,j] * x[j]\n",
    "\n",
    "        x[i] /= A[i,i]\n",
    "    \n",
    "    return x"
   ]
  },
  {
   "cell_type": "code",
   "execution_count": 13,
   "id": "bc78383a",
   "metadata": {},
   "outputs": [
    {
     "data": {
      "text/latex": [
       "$\\displaystyle \\left[\\begin{matrix}4 & -2 & 1 & 15\\\\0 & - \\frac{5}{2} & \\frac{19}{4} & \\frac{77}{4}\\\\0 & 0 & \\frac{9}{5} & \\frac{27}{5}\\end{matrix}\\right]$"
      ],
      "text/plain": [
       "Matrix([\n",
       "[4,   -2,    1,   15],\n",
       "[0, -5/2, 19/4, 77/4],\n",
       "[0,    0,  9/5, 27/5]])"
      ]
     },
     "metadata": {},
     "output_type": "display_data"
    }
   ],
   "source": [
    "import sympy as sym\n",
    "\n",
    "def gelimpp(A):    \n",
    "    # Loop through rows of A\n",
    "    nrows = A.shape[0]\n",
    "    for i in range(nrows):\n",
    "        \n",
    "        # Swap pivot row if there is a larger value beneath the pivot\n",
    "        pivot, pivotrow = A[i,i], i\n",
    "        for j in range(i + 1, nrows):\n",
    "            if abs(A[j,i]) > abs(pivot):\n",
    "                pivot, pivotrow = A[j,i], j\n",
    "        \n",
    "        A[i,:], A[pivotrow,:] = A[pivotrow,:], A[i,:]\n",
    "\n",
    "        # If pivot is zero end loop\n",
    "        if A[i,i] == 0:\n",
    "            break\n",
    "        \n",
    "        # Perform row operations\n",
    "        for j in range(i + 1, nrows):\n",
    "                A[j,:] -= A[j,i] / A[i,i] * A[i,:]\n",
    "                       \n",
    "    return A\n",
    "\n",
    "\n",
    "\n",
    "# Define coefficient matrix and constant vector\n",
    "A = sym.Matrix([[1, -1, 3], \n",
    "                [4, -2, 1], \n",
    "                [-3, -1, 4]])\n",
    "b = sym.Matrix([[13], [15], [8]])\n",
    "\n",
    "# Form augmented matrix\n",
    "Ab = A.row_join(b)\n",
    "\n",
    "# Calculate row echelon form using Gaussian elimination with partial pivoting\n",
    "Ab = gelimpp(Ab)\n",
    "display(Ab)"
   ]
  },
  {
   "cell_type": "markdown",
   "id": "6ff9ff89",
   "metadata": {},
   "source": [
    "The solution of the system of linear equations has been calculated using the function [`backsub()`](backsub-code) (from [Gaussian elimination](backsub-code))."
   ]
  },
  {
   "cell_type": "code",
   "execution_count": 12,
   "id": "7be10f27",
   "metadata": {},
   "outputs": [
    {
     "data": {
      "text/latex": [
       "$\\displaystyle \\left[\\begin{matrix}4 & -2 & 1 & 15\\\\0 & - \\frac{5}{2} & \\frac{19}{4} & \\frac{77}{4}\\\\0 & 0 & \\frac{9}{5} & \\frac{27}{5}\\end{matrix}\\right]$"
      ],
      "text/plain": [
       "Matrix([\n",
       "[4,   -2,    1,   15],\n",
       "[0, -5/2, 19/4, 77/4],\n",
       "[0,    0,  9/5, 27/5]])"
      ]
     },
     "metadata": {},
     "output_type": "display_data"
    },
    {
     "data": {
      "text/latex": [
       "$\\displaystyle \\left[\\begin{matrix}2\\\\-2\\\\3\\end{matrix}\\right]$"
      ],
      "text/plain": [
       "Matrix([\n",
       "[ 2],\n",
       "[-2],\n",
       "[ 3]])"
      ]
     },
     "metadata": {},
     "output_type": "display_data"
    }
   ],
   "source": [
    "# Calculate solution using back substitution\n",
    "x = backsub(Ab)\n",
    "display(x)"
   ]
  }
 ],
 "metadata": {
  "celltoolbar": "Tags",
  "kernelspec": {
   "display_name": "Python 3",
   "language": "python",
   "name": "python3"
  },
  "language_info": {
   "codemirror_mode": {
    "name": "ipython",
    "version": 3
   },
   "file_extension": ".py",
   "mimetype": "text/x-python",
   "name": "python",
   "nbconvert_exporter": "python",
   "pygments_lexer": "ipython3",
   "version": "3.8.8"
  }
 },
 "nbformat": 4,
 "nbformat_minor": 5
}
